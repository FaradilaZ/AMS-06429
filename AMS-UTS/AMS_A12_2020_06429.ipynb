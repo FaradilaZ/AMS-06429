{
 "cells": [
  {
   "cell_type": "markdown",
   "metadata": {},
   "source": [
    "| ![logo](udinus.png)      |**LEMBAR SOAL UJIAN <br> FAKULTAS ILMU KOMPUTER <br> UNIVERSITAS DIAN NUSWANTORO SEMARANG <br>** JL. IMAM BONJOL NO. 207 SEMARANG TELP. 024-3575915, 024-3575916 |\n",
    "| :---                     |    :----:   | \n",
    "\n",
    "\n",
    "|UJIAN TENGAH SEMESTER GASAL 2022/2023|\n",
    "|:---:|\n",
    "\n",
    "\n",
    "|Mata Kuliah: Analitika Media Sosial | Sifat: Take Home|\n",
    "| :---                     |    ----:   |\n",
    "|Hari / Tanggal: **01 November 2022**       | Waktu: **10.20 - 12.00** |\n",
    "|Kelompok: A12.6501                 | Dosen: **Abu Salam, M.Kom**|\n",
    "\n",
    "\n"
   ]
  },
  {
   "cell_type": "markdown",
   "metadata": {},
   "source": [
    "# Petunjuk Pengerjaan Soal:\n",
    "- Panduan pengerjaan dalam bentuk gambar ada dibawah block ini\n",
    "- Sudah disediakan tiap block untuk anda dilengkapi, silakan isi ditempat tersebut, jika block cell kurang, silakan tambahkan lagi **diperbolehkan memodifikasi atau menambahkan proses dari blok yang sudah ada**\n",
    "- **TUJUAN: ANALISIS TAHAP PRE PROCESSING DAN BERAPA PERFORMA DARI SKEMA YANG DIBUAT DENGAN MENGGUNAKAN TARGET `EMOSI`**\n",
    "\n",
    "FORMAT PENGIRIMAN SOAL (PILIH SALAH SATU)\n",
    "- REPOSITORIKAN FILE IPYNB KE GITHUB & KIRIM URL GITHUB KE KULINO BLOK UTS\n",
    "- FORMAT PENAMAN FILE: AMS_NIM (GANTI TANDA TITIK PADA NIM MENJADI `UNDERSCORE`)\n"
   ]
  },
  {
   "cell_type": "markdown",
   "metadata": {},
   "source": [
    "SKEMA KLASIFIKASI\n",
    "===\n",
    "![klasifikasi](klasifikasi.png)"
   ]
  },
  {
   "cell_type": "markdown",
   "metadata": {},
   "source": [
    "SKEMA PRE-PREPROCESSING DATA\n",
    "===\n",
    "![preprocessing](preprocessing.png)"
   ]
  },
  {
   "cell_type": "markdown",
   "metadata": {},
   "source": [
    "\n",
    "\n",
    "\n",
    "\n",
    "## *Faradila Zahrotunnisa*\n",
    "## *A12.2020.06429*"
   ]
  },
  {
   "cell_type": "markdown",
   "metadata": {},
   "source": [
    "# Load Library\n",
    "\n",
    "Memanggil library yang akan digunakan"
   ]
  },
  {
   "cell_type": "code",
   "execution_count": 1,
   "metadata": {},
   "outputs": [],
   "source": [
    "import pandas as pd\n",
    "import time\n",
    "import tweepy\n",
    "import numpy as np"
   ]
  },
  {
   "cell_type": "markdown",
   "metadata": {},
   "source": [
    "## Outentifikasi dan Hak Akses "
   ]
  },
  {
   "cell_type": "code",
   "execution_count": 2,
   "metadata": {},
   "outputs": [],
   "source": [
    "def twitter_config():\n",
    "    \"\"\"\n",
    "    Fungsi utilitas untuk mengkonfigurasi konsumsi file API Twitter dengan␣\n",
    "    ,!kunci yang disediakan.\n",
    "    \"\"\"\n",
    "    # Otentikasi dan akses menggunakan kunci:\n",
    "    auth = tweepy.OAuthHandler(\"lr5lTHMv7q3c6gOeCR8w0DFzQ\", \"t9LpATUUcebgxKaHm0fgxjWMqXK3kZBxeL98WHEOSolf8dFLt4\")\n",
    "    auth.set_access_token(\"1576445316596781056-RXF1mToSQtHn6O9BRxbAzeaTV3zN7N\", \"UpmNsnkOoCxzn0lKhMas7LV0KfeKBm0QAeobWz66ohLuM\")\n",
    "    # Kembalikan akses ke API:\n",
    "    api = tweepy.API(auth)\n",
    "    try:\n",
    "        api.verify_credentials()\n",
    "        print(\"Authentication OK\")\n",
    "    except:\n",
    "        print(\"Error during authentication\")\n",
    "    return api"
   ]
  },
  {
   "cell_type": "code",
   "execution_count": 3,
   "metadata": {},
   "outputs": [
    {
     "name": "stdout",
     "output_type": "stream",
     "text": [
      "Authentication OK\n"
     ]
    }
   ],
   "source": [
    "# buat extractor object\n",
    "extractor = twitter_config()"
   ]
  },
  {
   "cell_type": "markdown",
   "metadata": {},
   "source": [
    "## Ambil Tweet dari Username\n",
    "Username yang saya gunakan yakni @mediaindonesia"
   ]
  },
  {
   "cell_type": "code",
   "execution_count": 4,
   "metadata": {
    "scrolled": true
   },
   "outputs": [
    {
     "name": "stdout",
     "output_type": "stream",
     "text": [
      "Tweets terambil: 100.\n",
      "\n",
      "10 tweet teratas:\n",
      "\n",
      "Belasan perusahaan di wilayah Kota Tasikmalaya, Jawa Barat, melakuan pemutusan hubungan kerja (PHK) bagi pegawai.  https://t.co/0NGp6nLZpr\n",
      "\n",
      "Latar belakang pengalaman Prabowo di dunia militer menjadi lengkap bila berpasangan dengan Erick Thohir  https://t.co/MI9SRBX8RK\n",
      "\n",
      "9 Tips Sederhana untuk Memulai Rutininas Olahraga Lari   https://t.co/rzoCKTC99z\n",
      "\n",
      "Sebagai informasi, Mandatory Serum Infused Brightening Body Lotion dilengkapi dengan kandungan serum infused di set… https://t.co/6mguLmErLB\n",
      "\n",
      "RT @KementerianLHK: Sobat Hijau, Pemerintah Indonesia melalui Kementerian LHK, dan Inggris (UK) melalui the Foreign, Commonwealth and Devel…\n",
      "\n",
      "World Justice Project (WJP), organisasi yang bergerak untuk memajukan supremasi hukum, lewat penelitian bertajuk Ru… https://t.co/2cPODuqfw4\n",
      "\n",
      "Wakil Ketua Majelis Syuro Partai Keadilan Sejahtera Ahmad Heryawan bertemu calon presiden (capres) dari Partai NasD… https://t.co/GuuFZEDPbY\n",
      "\n",
      "Ia menyerukan kepada para mahasiswa untuk menjadi kekuatan perubahan.   https://t.co/mXrKUEqViE\n",
      "\n",
      "Wakil Ketua Majelis Syura Partai Keadilan Sejahtera (PKS) Ahmad Heryawan (Aher) mengatakan hubungan partainya denga… https://t.co/QEY3cnibcX\n",
      "\n",
      "Colekan dari PKS disampaikan melalui aneka pantun. Anies turut meresponsnya dengan pantun.\n",
      "\n",
      "  https://t.co/JSfsV6J7CD\n",
      "\n"
     ]
    }
   ],
   "source": [
    "tweets = extractor.user_timeline(screen_name=\"mediaindonesia\", count=100)\n",
    "print(\"Tweets terambil: {}.\\n\".format(len(tweets)))\n",
    "\n",
    "print(\"10 tweet teratas:\\n\")\n",
    "for tweet in tweets[:10]:\n",
    "    print(tweet.text)\n",
    "    print()"
   ]
  },
  {
   "cell_type": "markdown",
   "metadata": {},
   "source": [
    "## Memasukkan ke dataframe pandas "
   ]
  },
  {
   "cell_type": "code",
   "execution_count": 5,
   "metadata": {
    "scrolled": true
   },
   "outputs": [
    {
     "data": {
      "text/html": [
       "<div>\n",
       "<style scoped>\n",
       "    .dataframe tbody tr th:only-of-type {\n",
       "        vertical-align: middle;\n",
       "    }\n",
       "\n",
       "    .dataframe tbody tr th {\n",
       "        vertical-align: top;\n",
       "    }\n",
       "\n",
       "    .dataframe thead th {\n",
       "        text-align: right;\n",
       "    }\n",
       "</style>\n",
       "<table border=\"1\" class=\"dataframe\">\n",
       "  <thead>\n",
       "    <tr style=\"text-align: right;\">\n",
       "      <th></th>\n",
       "      <th>Tweets</th>\n",
       "    </tr>\n",
       "  </thead>\n",
       "  <tbody>\n",
       "    <tr>\n",
       "      <th>0</th>\n",
       "      <td>Belasan perusahaan di wilayah Kota Tasikmalaya...</td>\n",
       "    </tr>\n",
       "    <tr>\n",
       "      <th>1</th>\n",
       "      <td>Latar belakang pengalaman Prabowo di dunia mil...</td>\n",
       "    </tr>\n",
       "    <tr>\n",
       "      <th>2</th>\n",
       "      <td>9 Tips Sederhana untuk Memulai Rutininas Olahr...</td>\n",
       "    </tr>\n",
       "    <tr>\n",
       "      <th>3</th>\n",
       "      <td>Sebagai informasi, Mandatory Serum Infused Bri...</td>\n",
       "    </tr>\n",
       "    <tr>\n",
       "      <th>4</th>\n",
       "      <td>RT @KementerianLHK: Sobat Hijau, Pemerintah In...</td>\n",
       "    </tr>\n",
       "    <tr>\n",
       "      <th>...</th>\n",
       "      <td>...</td>\n",
       "    </tr>\n",
       "    <tr>\n",
       "      <th>95</th>\n",
       "      <td>Sementara itu, kasus aktif meningkat 1.005 seh...</td>\n",
       "    </tr>\n",
       "    <tr>\n",
       "      <th>96</th>\n",
       "      <td>Shodiq meyakini bahwa kekuatan anak muda sanga...</td>\n",
       "    </tr>\n",
       "    <tr>\n",
       "      <th>97</th>\n",
       "      <td>Tahun ini, Indonesia secara global maupun di A...</td>\n",
       "    </tr>\n",
       "    <tr>\n",
       "      <th>98</th>\n",
       "      <td>\"Jangan dahulu anti ini anti itu. Kriterianya ...</td>\n",
       "    </tr>\n",
       "    <tr>\n",
       "      <th>99</th>\n",
       "      <td>Pada gelaran ini, Ditjen Diktiristek memperole...</td>\n",
       "    </tr>\n",
       "  </tbody>\n",
       "</table>\n",
       "<p>100 rows × 1 columns</p>\n",
       "</div>"
      ],
      "text/plain": [
       "                                               Tweets\n",
       "0   Belasan perusahaan di wilayah Kota Tasikmalaya...\n",
       "1   Latar belakang pengalaman Prabowo di dunia mil...\n",
       "2   9 Tips Sederhana untuk Memulai Rutininas Olahr...\n",
       "3   Sebagai informasi, Mandatory Serum Infused Bri...\n",
       "4   RT @KementerianLHK: Sobat Hijau, Pemerintah In...\n",
       "..                                                ...\n",
       "95  Sementara itu, kasus aktif meningkat 1.005 seh...\n",
       "96  Shodiq meyakini bahwa kekuatan anak muda sanga...\n",
       "97  Tahun ini, Indonesia secara global maupun di A...\n",
       "98  \"Jangan dahulu anti ini anti itu. Kriterianya ...\n",
       "99  Pada gelaran ini, Ditjen Diktiristek memperole...\n",
       "\n",
       "[100 rows x 1 columns]"
      ]
     },
     "metadata": {},
     "output_type": "display_data"
    }
   ],
   "source": [
    "# Membuat kerangka data menggunakan sintaks berikut\n",
    "dataset = pd.DataFrame(data = [tweet.text for tweet in tweets], columns = ['Tweets'])\n",
    "\n",
    "# Tampilan kerangka data\n",
    "display(dataset.head(100))"
   ]
  },
  {
   "cell_type": "code",
   "execution_count": 6,
   "metadata": {},
   "outputs": [],
   "source": [
    "dataset.to_csv('dataset_mediaindonesia.csv')"
   ]
  },
  {
   "cell_type": "markdown",
   "metadata": {},
   "source": [
    "## Menentukan Sentimen pada Tweet"
   ]
  },
  {
   "cell_type": "code",
   "execution_count": 7,
   "metadata": {},
   "outputs": [],
   "source": [
    "import tweepy as tw\n",
    "import re\n",
    "import pandas as pd\n",
    "from textblob import TextBlob"
   ]
  },
  {
   "cell_type": "code",
   "execution_count": 9,
   "metadata": {},
   "outputs": [],
   "source": [
    "auth = tw.OAuthHandler(\"lr5lTHMv7q3c6gOeCR8w0DFzQ\", \"t9LpATUUcebgxKaHm0fgxjWMqXK3kZBxeL98WHEOSolf8dFLt4\")\n",
    "auth.set_access_token(\"1576445316596781056-RXF1mToSQtHn6O9BRxbAzeaTV3zN7N\", \"UpmNsnkOoCxzn0lKhMas7LV0KfeKBm0QAeobWz66ohLuM\")\n",
    "api = tw.API(auth)\n",
    "    \n",
    "hasilsearch = api.search_tweets(q=\"mediaindonesia\",lang=\"id\",count=100) "
   ]
  },
  {
   "cell_type": "code",
   "execution_count": 13,
   "metadata": {},
   "outputs": [
    {
     "name": "stdout",
     "output_type": "stream",
     "text": [
      "Wah cocok ne gw dukung 2024 menang di balai pustaka Amin\n",
      "'list' object has no attribute 'strip'\n",
      "Belasan perusahaan di wilayah Kota Tasikmalaya Jawa Barat melakuan pemutusan hubungan kerja PHK bagi pegawai\n",
      "'list' object has no attribute 'strip'\n",
      "Latar belakang pengalaman Prabowo di dunia militer menjadi lengkap bila berpasangan dengan Erick Thohir\n",
      "'list' object has no attribute 'strip'\n",
      "9 Tips Sederhana untuk Memulai Rutininas Olahraga Lari\n",
      "'list' object has no attribute 'strip'\n",
      "Sebagai informasi Mandatory Serum Infused Brightening Body Lotion dilengkapi dengan kandungan serum infused di set\n",
      "'list' object has no attribute 'strip'\n",
      "RT Sobat Hijau Pemerintah Indonesia melalui Kementerian LHK dan Inggris UK melalui the Foreign Commonwealth and Devel\n",
      "'list' object has no attribute 'strip'\n",
      "RT Video musik The Astronaut menunjukkan pesona unik Jin sebagai artis solo saat ia mengungkapkan cintanya kepada ARMY\n",
      "'list' object has no attribute 'strip'\n",
      "World Justice Project WJP organisasi yang bergerak untuk memajukan supremasi hukum lewat penelitian bertajuk Ru\n",
      "'list' object has no attribute 'strip'\n",
      "Redam Masalah Air Srikandi Ganjar Bangun Sumur untuk Warga Desa Pengkol\n",
      "'list' object has no attribute 'strip'\n",
      "RT Ia menyerukan kepada para mahasiswa untuk menjadi kekuatan perubahan\n",
      "'list' object has no attribute 'strip'\n",
      "Wakil Ketua Majelis Syuro Partai Keadilan Sejahtera Ahmad Heryawan bertemu calon presiden capres dari Partai NasD\n",
      "'list' object has no attribute 'strip'\n",
      "Ia menyerukan kepada para mahasiswa untuk menjadi kekuatan perubahan\n",
      "'list' object has no attribute 'strip'\n",
      "Wakil Ketua Majelis Syura Partai Keadilan Sejahtera PKS Ahmad Heryawan Aher mengatakan hubungan partainya denga\n",
      "'list' object has no attribute 'strip'\n",
      "Colekan dari PKS disampaikan melalui aneka pantun Anies turut meresponsnya dengan pantun\n",
      "'list' object has no attribute 'strip'\n",
      "Orde Kolaborasi Tata Baru Pasca Pembelahan Politik\n",
      "'list' object has no attribute 'strip'\n",
      "Polri TNI\n",
      "'list' object has no attribute 'strip'\n",
      "bintan Referensi media id Centang biru aja nggak Ambil referensi itu yg agak umum d\n",
      "'list' object has no attribute 'strip'\n",
      "RT Presiden Somalia Hassan Sheikh Mohamud mengatakan sedikitnya 100 orang tewas dan 300 terluka dalam dua ledakan bom mobi\n",
      "'list' object has no attribute 'strip'\n",
      "Presiden Somalia Hassan Sheikh Mohamud mengatakan sedikitnya 100 orang tewas dan 300 terluka dalam dua ledakan bom\n",
      "'list' object has no attribute 'strip'\n",
      "Iyee contohnya situng kpu 1 1 11 ato pembobolan dan penjualan data2 pribadi tiap sebentar bjorka merajalela\n",
      "'list' object has no attribute 'strip'\n",
      "Guna mendukung kompetensi tenaga kerja konstruksi sekaligus sumber daya manusia SDM di bidang konstruksi Nippon\n",
      "'list' object has no attribute 'strip'\n",
      "Guna mendukung kompetensi tenaga kerja konstruksi sekaligus sumber daya manusia SDM di bidang konstruksi Nippon\n",
      "'list' object has no attribute 'strip'\n",
      "Relawan Puan Sebar Ratusan Paket Sembako untuk Masyarakat Banten\n",
      "'list' object has no attribute 'strip'\n",
      "Sementara Menhub Budi Karya mengatakan pemerintah akan memfasilitasi berbagai infrastruktur kendaraan listrik\n",
      "'list' object has no attribute 'strip'\n",
      "Martono optimistis langkah Jokowi menggenjot percepatan digitalisasi di Tanah Air berdampak pada kemajuan menuju In\n",
      "'list' object has no attribute 'strip'\n",
      "RATUSAN angkutan kota angkot di Kota Depok Jawa Barat dalam tiga tahun terakhir menunggak pajak Total tunggakan\n",
      "'list' object has no attribute 'strip'\n",
      "Bisa kali dibantu breakdown rinciannya\n",
      "'list' object has no attribute 'strip'\n",
      "RT Ada banyak PBJ yang akhirnya tertahan karena kena AA begitu mendekati akhir tahun ternyata banyak sisa PBJ gak bisa jalan\n",
      "'list' object has no attribute 'strip'\n",
      "Pembalap Formula 1 F1 Max Verstappen sukses merebut pole position Grand Prix GP Meksiko setelah mengalahkan du\n",
      "'list' object has no attribute 'strip'\n",
      "Petenis putri nomor satu dunia Iga Swiatek berkeinginan menutup musim 2022 dengan mahkota juara WTA Finals Di mana\n",
      "'list' object has no attribute 'strip'\n",
      "Luhut Binsar Pandjaitan yakin ekonomi Indonesia akan bertahan terhadap ketidakpastian ekonomi global dengan meningk\n",
      "'list' object has no attribute 'strip'\n",
      "Perbanyak literasi lah sulit kalau ingin jadi anggota parlemen sementara pengetahuan sejarahnya minim begitu\n",
      "'list' object has no attribute 'strip'\n",
      "Ondoafi dari Suku Tibo ini mengungkapkan kegembiraannya atas kemajuan sikap Lukas sehingga sangkaan korupsi yang me\n",
      "'list' object has no attribute 'strip'\n",
      "Tingginya jumlah peserta dalam kompetisi bidang khusus ini mewakili keberhasilan upaya Daikin dalam mempromosikan\n",
      "'list' object has no attribute 'strip'\n",
      "Telkomsel melalui platform video MAXstream kembali menghadirkan konten video on demand service berjudul Healing tel\n",
      "'list' object has no attribute 'strip'\n",
      "Sehubungan dengan kejadian yang menimpa turis lokal dan mancanegara di Itaewon Seoul pada malam Halloween atau Sa\n",
      "'list' object has no attribute 'strip'\n",
      "RT Dalam survei yang melibatkan 1 200 responden itu Ridwan Kamil paling banyak dipilih karena dinilai sebagai pribadi sed\n",
      "'list' object has no attribute 'strip'\n",
      "RT Dalam survei yang melibatkan 1 200 responden itu Ridwan Kamil paling banyak dipilih karena dinilai sebagai pribadi sed\n",
      "'list' object has no attribute 'strip'\n",
      "Kementerian Pendidikan Kebudayaan Riset dan Teknologi Kemendikbudristek RI telah menetapkan tujuh budaya tak bend\n",
      "'list' object has no attribute 'strip'\n",
      "RT Dalam survei yang melibatkan 1 200 responden itu Ridwan Kamil paling banyak dipilih karena dinilai sebagai pribadi sed\n",
      "'list' object has no attribute 'strip'\n",
      "Perundingan Batas ZEE dengan Vietnam Dipertanyakan Pengamat Maritim\n",
      "'list' object has no attribute 'strip'\n",
      "UMKM meronta ronta karena daya beli masyarakat lemah Ternyata karena duitnya disimpen ga dibelanjakan\n",
      "'list' object has no attribute 'strip'\n",
      "Menurutnya anggota atau pengurus AMAN yang merupakan anak adat dari berbagai wilayah adat di Indonesia tidak laya\n",
      "'list' object has no attribute 'strip'\n",
      "RT Dalam survei yang melibatkan 1 200 responden itu Ridwan Kamil paling banyak dipilih karena dinilai sebagai pribadi sed\n",
      "'list' object has no attribute 'strip'\n",
      "KKP optimistis mampu memenuhi target produksi udang nasional sebanyak 2 juta ton pada tahun 2024 dan memicu bangkit\n",
      "'list' object has no attribute 'strip'\n",
      "Otoritas Jasa Keuangan OJK mengumumkan hasil Survei Nasional Literasi dan Inklusi Keuangan SNLIK 2022 menunjukk\n",
      "'list' object has no attribute 'strip'\n",
      "Di tahun ini BP Batam mengangkat tema 51 tahun BP Batam Terus Berkarya sebagai penyulut semangat dalam lika lik\n",
      "'list' object has no attribute 'strip'\n",
      "Bisa di bayaran ke utang gk buk kasihan pemimpin setelah ini pusing mikirin utang yg kaga dia bikin\n",
      "'list' object has no attribute 'strip'\n",
      "Ikut serta secara aktif atasi krisis Dan resesi nasional menjaga fiskal Dan moneter dengan seimbang\n",
      "'list' object has no attribute 'strip'\n",
      "Wakil Kepala Polri Komisaris Jenderal Polisi Gatot Eddy Pramono mengatakan aparat kepolisian siap melakukan pengama\n",
      "'list' object has no attribute 'strip'\n",
      "Menteri Koperasi dan UKM Teten Masduki meresmikan Pos Bloc di Kota Medan Sumatra Utara\n",
      "'list' object has no attribute 'strip'\n",
      "Masih mengusung nilai nilai dari FDR Riding Culture yaitu Safe Care dan Respect rangkaian kegiatan FDR Day jug\n",
      "'list' object has no attribute 'strip'\n",
      "RATUSAN para pencari kerja terlihat duduk menunggu giliran antiran wawancara kerja untuk industri pernikahan yang d\n",
      "'list' object has no attribute 'strip'\n",
      "Polri TNI\n",
      "'list' object has no attribute 'strip'\n",
      "RT ASDP Pelni Pelayaran Nasional Indonesia dan Pelindo Pelabuhan Indonesia ini kita dorong untuk bersinergi membantu\n",
      "'list' object has no attribute 'strip'\n",
      "Jenama Starbucks akan menyajikan minuman makanan dan koleksi merchandise khas untuk merayakan dan menikmati suasa\n",
      "'list' object has no attribute 'strip'\n",
      "ASDP Pelni Pelayaran Nasional Indonesia dan Pelindo Pelabuhan Indonesia ini kita dorong untuk bersinergi memb\n",
      "'list' object has no attribute 'strip'\n",
      "RT Kedutaan Besar Republik Indonesia KBRI Seoul mengatakan bahwa tidak ada warga negara Indonesia WNI yang menjadi kor\n",
      "'list' object has no attribute 'strip'\n",
      "Polri TNI\n",
      "'list' object has no attribute 'strip'\n",
      "Melalui Sumpah Pemuda yang kita kita peringati pada 28 Oktober kemaren kita bias mengambil pelajaran bahwa musik\n",
      "'list' object has no attribute 'strip'\n",
      "Kedutaan Besar Republik Indonesia KBRI Seoul mengatakan bahwa tidak ada warga negara Indonesia WNI yang menjadi\n"
     ]
    },
    {
     "name": "stdout",
     "output_type": "stream",
     "text": [
      "'list' object has no attribute 'strip'\n",
      "Namun utk Capres yg di didukung oleh NASDEM saat ini bakal merusak Citra NASDEM pada Pemilu 2024\n",
      "'list' object has no attribute 'strip'\n",
      "Kedutaan Besar RI di Beijing telah mengeluarkan visa bagi 221 wartawan dari berbagai media yang berafiliasi dengan\n",
      "'list' object has no attribute 'strip'\n",
      "RT Dua Bulan Menuju 2023 Anggaran Belanja Negara Masih Tersisa Rp1 200 Triliun Hingga akhir September alokasi belanja n\n",
      "'list' object has no attribute 'strip'\n",
      "Konser musik Berdendang Bergoyang di Istora Senayan Sabtu 29 10 malam dihentikan oleh polisi\n",
      "'list' object has no attribute 'strip'\n",
      "Puncak Milad Ke 45 BKPRMI Prabowo Subianto Sumbang 25 Mobil Pemelihara Masjid\n",
      "'list' object has no attribute 'strip'\n",
      "Polri TNI\n",
      "'list' object has no attribute 'strip'\n",
      "Ya untuk Perjuangan karena bpk tahu siapa yg seharusnya dicalonkan bukan karena anak atau cucu tokoh\n",
      "'list' object has no attribute 'strip'\n",
      "Oalahh pantesan hehe\n",
      "'list' object has no attribute 'strip'\n",
      "Pada malam Halloween kemarin lebih tepatnya pada hari Sabtu 29 30 malam setidaknya sekitar 149 orang dilaporkan\n",
      "'list' object has no attribute 'strip'\n",
      "Bila kita tidak melupakan sejarah Partai NasDem adalah yang pertama kali menyatakan mendukung Joko Widodo sebagai\n",
      "'list' object has no attribute 'strip'\n",
      "Polri TNI\n",
      "'list' object has no attribute 'strip'\n",
      "Sedikitnya 149 orang tewas dan puluhan lainnya luka luka akibat terinjak injak pada acara Halloween di pusat kota S\n",
      "'list' object has no attribute 'strip'\n",
      "Kepada seluruh masyarakat Indonesia saya mengucapkan selamat memperingati Hari Sumpah Pemuda Bangkit terus pemud\n",
      "'list' object has no attribute 'strip'\n",
      "Dalam kesempatan itu Syamsurizal mewakili Komisi II juga menanggapi respon masyarakat yang menilai kurangnya transp\n",
      "'list' object has no attribute 'strip'\n",
      "Kepala Biro Komunikasi dan Pelayanan Publik Kemenkes RI Siti Nadia Tarmizi mengatakan Jepang mendonasikan 200 vial\n",
      "'list' object has no attribute 'strip'\n",
      "Ribuan Bayi Penyu Dilepasliarkan di Danau Amazon Peru\n",
      "'list' object has no attribute 'strip'\n",
      "RT Rp 1 200 T itu Kalo dipake untuk bikin LRT bisa dpt 2 400 km Ujung ke ujung Pulau Sumatera dari Pelabuhan Bakauheni k\n",
      "'list' object has no attribute 'strip'\n",
      "Blibli terus meningkatkan kapabilitas dan menerapkan pendekatan yang lebih tepat lebih dekat dan lebih familiar b\n",
      "'list' object has no attribute 'strip'\n",
      "MEDIA INDONESIA BICARA TENTANG KEUNGGULAN UNITSKY STRING TECHNOLOGIES VS MRT\n",
      "'list' object has no attribute 'strip'\n",
      "Kini di tengah makian dan ujaran kebencian yang bertebaran memang sudah selayaknya kita mengingat dan merenungi k\n",
      "'list' object has no attribute 'strip'\n",
      "Polri TNI\n",
      "'list' object has no attribute 'strip'\n",
      "Salah satu contoh dampak positif dari banyak kegiatan menjelang KTT adalah meningkatnya tingkat hunian hotel hotel\n",
      "'list' object has no attribute 'strip'\n",
      "RT Ada banyak PBJ yang akhirnya tertahan karena kena AA begitu mendekati akhir tahun ternyata banyak sisa PBJ gak bisa jalan\n",
      "'list' object has no attribute 'strip'\n",
      "CEO Segway Motors Indonesia Yedi Sondy mengungkapkan bahwa pihaknya memiliki target untuk membuka lebih banyak dil\n",
      "'list' object has no attribute 'strip'\n",
      "Percakapan Diri I IV\n",
      "'list' object has no attribute 'strip'\n",
      "RT Ada banyak PBJ yang akhirnya tertahan karena kena AA begitu mendekati akhir tahun ternyata banyak sisa PBJ gak bisa jalan\n",
      "'list' object has no attribute 'strip'\n",
      "RT dumdum Telak banget ini Semoga banyak yg sadar dan bisa ambil hikmahnya Saya bukan seorang politisi saya tidak akrab den\n",
      "'list' object has no attribute 'strip'\n",
      "RT Emang udah dipersiapkan untuk isi ikbikn Apakah masyarakat Indonesia belum sadar juga\n",
      "'list' object has no attribute 'strip'\n",
      "RT Video musik The Astronaut menunjukkan pesona unik Jin sebagai artis solo saat ia mengungkapkan cintanya kepada ARMY\n",
      "'list' object has no attribute 'strip'\n",
      "Politik identitas yang seperti apa ya pak Kapolri\n",
      "'list' object has no attribute 'strip'\n",
      "MEMBANGKITKAN kembali gairah memproduksi miniatur kapal menjadi fokus Universitas Pembangunan Nasional Veteran Jak\n",
      "'list' object has no attribute 'strip'\n",
      "RT Berbagai macam pengalaman selama mengajar tentunya sudah dirasakan oleh para guru maupun dosen Buku yang ditulis oleh\n",
      "'list' object has no attribute 'strip'\n",
      "Menurut Saiful Syahrial sebagai litbang juga tidak cermat membaca sejarah\n",
      "'list' object has no attribute 'strip'\n",
      "Diketahui PSSI memutuskan untuk mempercepat pelaksanaan KLB setelah menggelar rapat darurat Exco di Kantor PSSI\n",
      "'list' object has no attribute 'strip'\n",
      "Riri berharap ini menjadi contoh regenerasi masa depan bersama sama menjada sumberdaya untuk masa depan yang cerah\n",
      "'list' object has no attribute 'strip'\n"
     ]
    }
   ],
   "source": [
    "hasilanalisis =[]\n",
    "\n",
    "for tweet in hasilsearch:\n",
    "    tweet_properties = {}\n",
    "    tweet_properties[\"pengguna\"] = tweet.user.screen_name\n",
    "    tweet_properties[\"Tweets\"] = tweet.text\n",
    "    tweet_bersih = ' '.join(re.sub(\"(@[A-Za-z0-9]+)|([^0-9A-Za-z \\t])|(\\w+:\\/\\/\\S+)\",\" \",tweet.text).split())\n",
    "    print(tweet_bersih)\n",
    "    \n",
    "    analysis = TextBlob(tweet_bersih)\n",
    "    try:\n",
    "        analysis = analysis.translate(to=\"en\")\n",
    "    except Exception as e:\n",
    "        print(e)\n",
    "    \n",
    "    if analysis.sentiment.polarity > 0.0:\n",
    "        tweet_properties[\"sentimen\"] = \"1\"\n",
    "    elif analysis.sentiment.polarity == 0.0:\n",
    "        tweet_properties[\"sentimen\"] = \"0\"\n",
    "    else:\n",
    "        tweet_properties[\"sentimen\"] = \"-1\"\n",
    "        \n",
    "    if tweet.retweet_count > 0:\n",
    "        if tweet_properties not in hasilanalisis:\n",
    "            hasilanalisis.append(tweet_properties)\n",
    "    else:\n",
    "        hasilanalisis.append(tweet_properties)"
   ]
  },
  {
   "cell_type": "code",
   "execution_count": 14,
   "metadata": {},
   "outputs": [
    {
     "data": {
      "text/html": [
       "<div>\n",
       "<style scoped>\n",
       "    .dataframe tbody tr th:only-of-type {\n",
       "        vertical-align: middle;\n",
       "    }\n",
       "\n",
       "    .dataframe tbody tr th {\n",
       "        vertical-align: top;\n",
       "    }\n",
       "\n",
       "    .dataframe thead th {\n",
       "        text-align: right;\n",
       "    }\n",
       "</style>\n",
       "<table border=\"1\" class=\"dataframe\">\n",
       "  <thead>\n",
       "    <tr style=\"text-align: right;\">\n",
       "      <th></th>\n",
       "      <th>pengguna</th>\n",
       "      <th>Tweets</th>\n",
       "      <th>sentimen</th>\n",
       "    </tr>\n",
       "  </thead>\n",
       "  <tbody>\n",
       "    <tr>\n",
       "      <th>0</th>\n",
       "      <td>OtterAng</td>\n",
       "      <td>@mediaindonesia Wah cocok ne, gw dukung 2024 m...</td>\n",
       "      <td>0</td>\n",
       "    </tr>\n",
       "    <tr>\n",
       "      <th>1</th>\n",
       "      <td>mediaindonesia</td>\n",
       "      <td>Belasan perusahaan di wilayah Kota Tasikmalaya...</td>\n",
       "      <td>0</td>\n",
       "    </tr>\n",
       "    <tr>\n",
       "      <th>2</th>\n",
       "      <td>mediaindonesia</td>\n",
       "      <td>Latar belakang pengalaman Prabowo di dunia mil...</td>\n",
       "      <td>0</td>\n",
       "    </tr>\n",
       "    <tr>\n",
       "      <th>3</th>\n",
       "      <td>mediaindonesia</td>\n",
       "      <td>9 Tips Sederhana untuk Memulai Rutininas Olahr...</td>\n",
       "      <td>0</td>\n",
       "    </tr>\n",
       "    <tr>\n",
       "      <th>4</th>\n",
       "      <td>mediaindonesia</td>\n",
       "      <td>Sebagai informasi, Mandatory Serum Infused Bri...</td>\n",
       "      <td>0</td>\n",
       "    </tr>\n",
       "    <tr>\n",
       "      <th>...</th>\n",
       "      <td>...</td>\n",
       "      <td>...</td>\n",
       "      <td>...</td>\n",
       "    </tr>\n",
       "    <tr>\n",
       "      <th>91</th>\n",
       "      <td>mediaindonesia</td>\n",
       "      <td>MEMBANGKITKAN kembali gairah memproduksi minia...</td>\n",
       "      <td>0</td>\n",
       "    </tr>\n",
       "    <tr>\n",
       "      <th>92</th>\n",
       "      <td>auliafikrah10</td>\n",
       "      <td>RT @mediaindonesia: Berbagai macam pengalaman ...</td>\n",
       "      <td>0</td>\n",
       "    </tr>\n",
       "    <tr>\n",
       "      <th>93</th>\n",
       "      <td>mediaindonesia</td>\n",
       "      <td>Menurut Saiful, Syahrial sebagai litbang juga ...</td>\n",
       "      <td>0</td>\n",
       "    </tr>\n",
       "    <tr>\n",
       "      <th>94</th>\n",
       "      <td>mediaindonesia</td>\n",
       "      <td>Diketahui, PSSI memutuskan untuk mempercepat p...</td>\n",
       "      <td>0</td>\n",
       "    </tr>\n",
       "    <tr>\n",
       "      <th>95</th>\n",
       "      <td>mediaindonesia</td>\n",
       "      <td>Riri berharap, ini menjadi contoh regenerasi m...</td>\n",
       "      <td>0</td>\n",
       "    </tr>\n",
       "  </tbody>\n",
       "</table>\n",
       "<p>96 rows × 3 columns</p>\n",
       "</div>"
      ],
      "text/plain": [
       "          pengguna                                             Tweets sentimen\n",
       "0         OtterAng  @mediaindonesia Wah cocok ne, gw dukung 2024 m...        0\n",
       "1   mediaindonesia  Belasan perusahaan di wilayah Kota Tasikmalaya...        0\n",
       "2   mediaindonesia  Latar belakang pengalaman Prabowo di dunia mil...        0\n",
       "3   mediaindonesia  9 Tips Sederhana untuk Memulai Rutininas Olahr...        0\n",
       "4   mediaindonesia  Sebagai informasi, Mandatory Serum Infused Bri...        0\n",
       "..             ...                                                ...      ...\n",
       "91  mediaindonesia  MEMBANGKITKAN kembali gairah memproduksi minia...        0\n",
       "92   auliafikrah10  RT @mediaindonesia: Berbagai macam pengalaman ...        0\n",
       "93  mediaindonesia  Menurut Saiful, Syahrial sebagai litbang juga ...        0\n",
       "94  mediaindonesia  Diketahui, PSSI memutuskan untuk mempercepat p...        0\n",
       "95  mediaindonesia  Riri berharap, ini menjadi contoh regenerasi m...        0\n",
       "\n",
       "[96 rows x 3 columns]"
      ]
     },
     "execution_count": 14,
     "metadata": {},
     "output_type": "execute_result"
    }
   ],
   "source": [
    "df = pd.DataFrame(hasilanalisis)\n",
    "df"
   ]
  },
  {
   "cell_type": "code",
   "execution_count": 15,
   "metadata": {},
   "outputs": [],
   "source": [
    "df.to_csv('Dataset_Sentimen.csv')"
   ]
  },
  {
   "cell_type": "markdown",
   "metadata": {},
   "source": [
    "# Preprocessing Tahap 00\n",
    "## Yang dipakai adalah Label `Sentimen` "
   ]
  },
  {
   "cell_type": "code",
   "execution_count": 16,
   "metadata": {},
   "outputs": [
    {
     "data": {
      "text/html": [
       "<div>\n",
       "<style scoped>\n",
       "    .dataframe tbody tr th:only-of-type {\n",
       "        vertical-align: middle;\n",
       "    }\n",
       "\n",
       "    .dataframe tbody tr th {\n",
       "        vertical-align: top;\n",
       "    }\n",
       "\n",
       "    .dataframe thead th {\n",
       "        text-align: right;\n",
       "    }\n",
       "</style>\n",
       "<table border=\"1\" class=\"dataframe\">\n",
       "  <thead>\n",
       "    <tr style=\"text-align: right;\">\n",
       "      <th></th>\n",
       "      <th>pengguna</th>\n",
       "      <th>Tweets</th>\n",
       "      <th>sentimen</th>\n",
       "    </tr>\n",
       "  </thead>\n",
       "  <tbody>\n",
       "    <tr>\n",
       "      <th>0</th>\n",
       "      <td>OtterAng</td>\n",
       "      <td>@mediaindonesia Wah cocok ne, gw dukung 2024 m...</td>\n",
       "      <td>0</td>\n",
       "    </tr>\n",
       "    <tr>\n",
       "      <th>1</th>\n",
       "      <td>mediaindonesia</td>\n",
       "      <td>Belasan perusahaan di wilayah Kota Tasikmalaya...</td>\n",
       "      <td>0</td>\n",
       "    </tr>\n",
       "    <tr>\n",
       "      <th>2</th>\n",
       "      <td>mediaindonesia</td>\n",
       "      <td>Latar belakang pengalaman Prabowo di dunia mil...</td>\n",
       "      <td>0</td>\n",
       "    </tr>\n",
       "    <tr>\n",
       "      <th>3</th>\n",
       "      <td>mediaindonesia</td>\n",
       "      <td>9 Tips Sederhana untuk Memulai Rutininas Olahr...</td>\n",
       "      <td>0</td>\n",
       "    </tr>\n",
       "    <tr>\n",
       "      <th>4</th>\n",
       "      <td>mediaindonesia</td>\n",
       "      <td>Sebagai informasi, Mandatory Serum Infused Bri...</td>\n",
       "      <td>0</td>\n",
       "    </tr>\n",
       "  </tbody>\n",
       "</table>\n",
       "</div>"
      ],
      "text/plain": [
       "         pengguna                                             Tweets sentimen\n",
       "0        OtterAng  @mediaindonesia Wah cocok ne, gw dukung 2024 m...        0\n",
       "1  mediaindonesia  Belasan perusahaan di wilayah Kota Tasikmalaya...        0\n",
       "2  mediaindonesia  Latar belakang pengalaman Prabowo di dunia mil...        0\n",
       "3  mediaindonesia  9 Tips Sederhana untuk Memulai Rutininas Olahr...        0\n",
       "4  mediaindonesia  Sebagai informasi, Mandatory Serum Infused Bri...        0"
      ]
     },
     "execution_count": 16,
     "metadata": {},
     "output_type": "execute_result"
    }
   ],
   "source": [
    "df.head()"
   ]
  },
  {
   "cell_type": "code",
   "execution_count": 17,
   "metadata": {
    "scrolled": true
   },
   "outputs": [
    {
     "data": {
      "text/html": [
       "<div>\n",
       "<style scoped>\n",
       "    .dataframe tbody tr th:only-of-type {\n",
       "        vertical-align: middle;\n",
       "    }\n",
       "\n",
       "    .dataframe tbody tr th {\n",
       "        vertical-align: top;\n",
       "    }\n",
       "\n",
       "    .dataframe thead th {\n",
       "        text-align: right;\n",
       "    }\n",
       "</style>\n",
       "<table border=\"1\" class=\"dataframe\">\n",
       "  <thead>\n",
       "    <tr style=\"text-align: right;\">\n",
       "      <th></th>\n",
       "      <th>pengguna</th>\n",
       "      <th>Tweets</th>\n",
       "      <th>sentimen</th>\n",
       "    </tr>\n",
       "  </thead>\n",
       "  <tbody>\n",
       "    <tr>\n",
       "      <th>0</th>\n",
       "      <td>OtterAng</td>\n",
       "      <td>@mediaindonesia Wah cocok ne, gw dukung 2024 m...</td>\n",
       "      <td>0</td>\n",
       "    </tr>\n",
       "    <tr>\n",
       "      <th>1</th>\n",
       "      <td>mediaindonesia</td>\n",
       "      <td>Belasan perusahaan di wilayah Kota Tasikmalaya...</td>\n",
       "      <td>0</td>\n",
       "    </tr>\n",
       "    <tr>\n",
       "      <th>2</th>\n",
       "      <td>mediaindonesia</td>\n",
       "      <td>Latar belakang pengalaman Prabowo di dunia mil...</td>\n",
       "      <td>0</td>\n",
       "    </tr>\n",
       "    <tr>\n",
       "      <th>3</th>\n",
       "      <td>mediaindonesia</td>\n",
       "      <td>9 Tips Sederhana untuk Memulai Rutininas Olahr...</td>\n",
       "      <td>0</td>\n",
       "    </tr>\n",
       "    <tr>\n",
       "      <th>4</th>\n",
       "      <td>mediaindonesia</td>\n",
       "      <td>Sebagai informasi, Mandatory Serum Infused Bri...</td>\n",
       "      <td>0</td>\n",
       "    </tr>\n",
       "    <tr>\n",
       "      <th>...</th>\n",
       "      <td>...</td>\n",
       "      <td>...</td>\n",
       "      <td>...</td>\n",
       "    </tr>\n",
       "    <tr>\n",
       "      <th>91</th>\n",
       "      <td>mediaindonesia</td>\n",
       "      <td>MEMBANGKITKAN kembali gairah memproduksi minia...</td>\n",
       "      <td>0</td>\n",
       "    </tr>\n",
       "    <tr>\n",
       "      <th>92</th>\n",
       "      <td>auliafikrah10</td>\n",
       "      <td>RT @mediaindonesia: Berbagai macam pengalaman ...</td>\n",
       "      <td>0</td>\n",
       "    </tr>\n",
       "    <tr>\n",
       "      <th>93</th>\n",
       "      <td>mediaindonesia</td>\n",
       "      <td>Menurut Saiful, Syahrial sebagai litbang juga ...</td>\n",
       "      <td>0</td>\n",
       "    </tr>\n",
       "    <tr>\n",
       "      <th>94</th>\n",
       "      <td>mediaindonesia</td>\n",
       "      <td>Diketahui, PSSI memutuskan untuk mempercepat p...</td>\n",
       "      <td>0</td>\n",
       "    </tr>\n",
       "    <tr>\n",
       "      <th>95</th>\n",
       "      <td>mediaindonesia</td>\n",
       "      <td>Riri berharap, ini menjadi contoh regenerasi m...</td>\n",
       "      <td>0</td>\n",
       "    </tr>\n",
       "  </tbody>\n",
       "</table>\n",
       "<p>96 rows × 3 columns</p>\n",
       "</div>"
      ],
      "text/plain": [
       "          pengguna                                             Tweets sentimen\n",
       "0         OtterAng  @mediaindonesia Wah cocok ne, gw dukung 2024 m...        0\n",
       "1   mediaindonesia  Belasan perusahaan di wilayah Kota Tasikmalaya...        0\n",
       "2   mediaindonesia  Latar belakang pengalaman Prabowo di dunia mil...        0\n",
       "3   mediaindonesia  9 Tips Sederhana untuk Memulai Rutininas Olahr...        0\n",
       "4   mediaindonesia  Sebagai informasi, Mandatory Serum Infused Bri...        0\n",
       "..             ...                                                ...      ...\n",
       "91  mediaindonesia  MEMBANGKITKAN kembali gairah memproduksi minia...        0\n",
       "92   auliafikrah10  RT @mediaindonesia: Berbagai macam pengalaman ...        0\n",
       "93  mediaindonesia  Menurut Saiful, Syahrial sebagai litbang juga ...        0\n",
       "94  mediaindonesia  Diketahui, PSSI memutuskan untuk mempercepat p...        0\n",
       "95  mediaindonesia  Riri berharap, ini menjadi contoh regenerasi m...        0\n",
       "\n",
       "[96 rows x 3 columns]"
      ]
     },
     "execution_count": 17,
     "metadata": {},
     "output_type": "execute_result"
    }
   ],
   "source": [
    "df.head(100)"
   ]
  },
  {
   "cell_type": "code",
   "execution_count": 18,
   "metadata": {
    "scrolled": true
   },
   "outputs": [
    {
     "name": "stdout",
     "output_type": "stream",
     "text": [
      "<class 'pandas.core.frame.DataFrame'>\n",
      "RangeIndex: 96 entries, 0 to 95\n",
      "Data columns (total 3 columns):\n",
      " #   Column    Non-Null Count  Dtype \n",
      "---  ------    --------------  ----- \n",
      " 0   pengguna  96 non-null     object\n",
      " 1   Tweets    96 non-null     object\n",
      " 2   sentimen  96 non-null     object\n",
      "dtypes: object(3)\n",
      "memory usage: 2.4+ KB\n"
     ]
    }
   ],
   "source": [
    "df.info()"
   ]
  },
  {
   "cell_type": "markdown",
   "metadata": {},
   "source": [
    "## Load dataset"
   ]
  },
  {
   "cell_type": "code",
   "execution_count": 19,
   "metadata": {
    "scrolled": true
   },
   "outputs": [
    {
     "data": {
      "text/html": [
       "<div>\n",
       "<style scoped>\n",
       "    .dataframe tbody tr th:only-of-type {\n",
       "        vertical-align: middle;\n",
       "    }\n",
       "\n",
       "    .dataframe tbody tr th {\n",
       "        vertical-align: top;\n",
       "    }\n",
       "\n",
       "    .dataframe thead th {\n",
       "        text-align: right;\n",
       "    }\n",
       "</style>\n",
       "<table border=\"1\" class=\"dataframe\">\n",
       "  <thead>\n",
       "    <tr style=\"text-align: right;\">\n",
       "      <th></th>\n",
       "      <th>Unnamed: 0</th>\n",
       "      <th>pengguna</th>\n",
       "      <th>Tweets</th>\n",
       "      <th>sentimen</th>\n",
       "    </tr>\n",
       "  </thead>\n",
       "  <tbody>\n",
       "    <tr>\n",
       "      <th>0</th>\n",
       "      <td>0</td>\n",
       "      <td>OtterAng</td>\n",
       "      <td>@mediaindonesia Wah cocok ne, gw dukung 2024 m...</td>\n",
       "      <td>0</td>\n",
       "    </tr>\n",
       "    <tr>\n",
       "      <th>1</th>\n",
       "      <td>1</td>\n",
       "      <td>mediaindonesia</td>\n",
       "      <td>Belasan perusahaan di wilayah Kota Tasikmalaya...</td>\n",
       "      <td>0</td>\n",
       "    </tr>\n",
       "    <tr>\n",
       "      <th>2</th>\n",
       "      <td>2</td>\n",
       "      <td>mediaindonesia</td>\n",
       "      <td>Latar belakang pengalaman Prabowo di dunia mil...</td>\n",
       "      <td>0</td>\n",
       "    </tr>\n",
       "    <tr>\n",
       "      <th>3</th>\n",
       "      <td>3</td>\n",
       "      <td>mediaindonesia</td>\n",
       "      <td>9 Tips Sederhana untuk Memulai Rutininas Olahr...</td>\n",
       "      <td>0</td>\n",
       "    </tr>\n",
       "    <tr>\n",
       "      <th>4</th>\n",
       "      <td>4</td>\n",
       "      <td>mediaindonesia</td>\n",
       "      <td>Sebagai informasi, Mandatory Serum Infused Bri...</td>\n",
       "      <td>0</td>\n",
       "    </tr>\n",
       "    <tr>\n",
       "      <th>5</th>\n",
       "      <td>5</td>\n",
       "      <td>mediaindonesia</td>\n",
       "      <td>RT @KementerianLHK: Sobat Hijau, Pemerintah In...</td>\n",
       "      <td>-1</td>\n",
       "    </tr>\n",
       "    <tr>\n",
       "      <th>6</th>\n",
       "      <td>6</td>\n",
       "      <td>JinkimJo</td>\n",
       "      <td>RT @mediaindonesia: Video musik The Astronaut ...</td>\n",
       "      <td>0</td>\n",
       "    </tr>\n",
       "    <tr>\n",
       "      <th>7</th>\n",
       "      <td>7</td>\n",
       "      <td>mediaindonesia</td>\n",
       "      <td>World Justice Project (WJP), organisasi yang b...</td>\n",
       "      <td>0</td>\n",
       "    </tr>\n",
       "    <tr>\n",
       "      <th>8</th>\n",
       "      <td>8</td>\n",
       "      <td>cocoblogger</td>\n",
       "      <td>Redam Masalah Air, Srikandi Ganjar Bangun Sumu...</td>\n",
       "      <td>0</td>\n",
       "    </tr>\n",
       "    <tr>\n",
       "      <th>9</th>\n",
       "      <td>9</td>\n",
       "      <td>kokokdirgantoro</td>\n",
       "      <td>RT @mediaindonesia: Ia menyerukan kepada para ...</td>\n",
       "      <td>0</td>\n",
       "    </tr>\n",
       "  </tbody>\n",
       "</table>\n",
       "</div>"
      ],
      "text/plain": [
       "   Unnamed: 0         pengguna  \\\n",
       "0           0         OtterAng   \n",
       "1           1   mediaindonesia   \n",
       "2           2   mediaindonesia   \n",
       "3           3   mediaindonesia   \n",
       "4           4   mediaindonesia   \n",
       "5           5   mediaindonesia   \n",
       "6           6         JinkimJo   \n",
       "7           7   mediaindonesia   \n",
       "8           8      cocoblogger   \n",
       "9           9  kokokdirgantoro   \n",
       "\n",
       "                                              Tweets  sentimen  \n",
       "0  @mediaindonesia Wah cocok ne, gw dukung 2024 m...         0  \n",
       "1  Belasan perusahaan di wilayah Kota Tasikmalaya...         0  \n",
       "2  Latar belakang pengalaman Prabowo di dunia mil...         0  \n",
       "3  9 Tips Sederhana untuk Memulai Rutininas Olahr...         0  \n",
       "4  Sebagai informasi, Mandatory Serum Infused Bri...         0  \n",
       "5  RT @KementerianLHK: Sobat Hijau, Pemerintah In...        -1  \n",
       "6  RT @mediaindonesia: Video musik The Astronaut ...         0  \n",
       "7  World Justice Project (WJP), organisasi yang b...         0  \n",
       "8  Redam Masalah Air, Srikandi Ganjar Bangun Sumu...         0  \n",
       "9  RT @mediaindonesia: Ia menyerukan kepada para ...         0  "
      ]
     },
     "execution_count": 19,
     "metadata": {},
     "output_type": "execute_result"
    }
   ],
   "source": [
    "df = pd.read_csv('Dataset_Sentimen.csv')\n",
    "df.head(10)"
   ]
  },
  {
   "cell_type": "code",
   "execution_count": 20,
   "metadata": {},
   "outputs": [
    {
     "name": "stdout",
     "output_type": "stream",
     "text": [
      "<class 'pandas.core.frame.DataFrame'>\n",
      "RangeIndex: 96 entries, 0 to 95\n",
      "Data columns (total 4 columns):\n",
      " #   Column      Non-Null Count  Dtype \n",
      "---  ------      --------------  ----- \n",
      " 0   Unnamed: 0  96 non-null     int64 \n",
      " 1   pengguna    96 non-null     object\n",
      " 2   Tweets      96 non-null     object\n",
      " 3   sentimen    96 non-null     int64 \n",
      "dtypes: int64(2), object(2)\n",
      "memory usage: 3.1+ KB\n"
     ]
    }
   ],
   "source": [
    "df.info()"
   ]
  },
  {
   "cell_type": "markdown",
   "metadata": {},
   "source": [
    "# Preprocessing Tahap 01"
   ]
  },
  {
   "cell_type": "markdown",
   "metadata": {},
   "source": [
    "## Proses Penataan Data\n",
    "bisa menggunakan ekphrasis"
   ]
  },
  {
   "cell_type": "code",
   "execution_count": 21,
   "metadata": {
    "scrolled": false
   },
   "outputs": [
    {
     "name": "stderr",
     "output_type": "stream",
     "text": [
      "/Users/faradilazahrotunnisa/opt/anaconda3/lib/python3.9/site-packages/ekphrasis/classes/tokenizer.py:225: FutureWarning: Possible nested set at position 2190\n",
      "  self.tok = re.compile(r\"({})\".format(\"|\".join(pipeline)))\n"
     ]
    },
    {
     "name": "stdout",
     "output_type": "stream",
     "text": [
      "Reading twitter - 1grams ...\n",
      "Reading twitter - 2grams ...\n",
      "Reading twitter - 1grams ...\n"
     ]
    },
    {
     "name": "stderr",
     "output_type": "stream",
     "text": [
      "/Users/faradilazahrotunnisa/opt/anaconda3/lib/python3.9/site-packages/ekphrasis/classes/exmanager.py:14: FutureWarning: Possible nested set at position 42\n",
      "  regexes = {k.lower(): re.compile(self.expressions[k]) for k, v in\n"
     ]
    }
   ],
   "source": [
    "from ekphrasis.classes.preprocessor import TextPreProcessor\n",
    "from ekphrasis.classes.tokenizer import SocialTokenizer\n",
    "from ekphrasis.dicts.emoticons import emoticons\n",
    "\n",
    "text_processor = TextPreProcessor(\n",
    "    # terms that will be normalized\n",
    "    normalize=['email', 'percent', 'money', 'phone', 'user',\n",
    "        'time', 'date', 'number'],\n",
    "    # terms that will be annotated\n",
    "    #annotate={\"hashtag\", \"allcaps\", \"elongated\", \"repeated\",'emphasis', 'censored'},\n",
    "    annotate={\"hashtag\"},\n",
    "    fix_html=True,  # fix HTML tokens\n",
    "    \n",
    "    # corpus from which the word statistics are going to be used \n",
    "    # for word segmentation \n",
    "    segmenter=\"twitter\", \n",
    "    \n",
    "    # corpus from which the word statistics are going to be used \n",
    "    # for spell correction\n",
    "    corrector=\"twitter\", \n",
    "    \n",
    "    unpack_hashtags=True,  # perform word segmentation on hashtags\n",
    "    unpack_contractions=True,  # Unpack contractions (can't -> can not)\n",
    "    spell_correct_elong=False,  # spell correction for elongated words\n",
    "    \n",
    "    # select a tokenizer. You can use SocialTokenizer, or pass your own\n",
    "    # the tokenizer, should take as input a string and return a list of tokens\n",
    "    tokenizer=SocialTokenizer(lowercase=True).tokenize,\n",
    "    \n",
    "    # list of dictionaries, for replacing tokens extracted from the text,\n",
    "    # with other expressions. You can pass more than one dictionaries.\n",
    "    dicts=[emoticons]\n",
    ")"
   ]
  },
  {
   "cell_type": "markdown",
   "metadata": {},
   "source": [
    "## Pembersihan element yang tidak digunakan\n"
   ]
  },
  {
   "cell_type": "code",
   "execution_count": 22,
   "metadata": {},
   "outputs": [],
   "source": [
    "def bersih_data(text):\n",
    "    return \" \".join(text_processor.pre_process_doc(text))\n",
    "\n",
    "def non_ascii(text):\n",
    "    return text.encode('ascii', 'replace').decode('ascii')\n",
    "\n",
    "def remove_space_alzami(text):\n",
    "    return \" \".join(text.split())\n",
    "\n",
    "def remove_emoji_alzami(text):\n",
    "    return ' '.join(re.sub(\"([x#][A-Za-z0-9]+)\",\" \", text).split())\n",
    "\n",
    "def remove_tab(text):\n",
    "    return text.replace('\\\\t',\" \").replace('\\\\n',\" \").replace('\\\\u',\" \").replace('\\\\',\"\")\n",
    "\n",
    "def remove_tab2(text):\n",
    "    return re.sub('\\s+',' ',text)\n",
    "\n",
    "def remove_rt(text):\n",
    "    return text.replace('RT',\" \")\n",
    "\n",
    "def remove_mention(text):\n",
    "    return ' '.join(re.sub(\"([@#][A-Za-z0-9]+)|(\\w+:\\/\\/\\S+)\",\" \", text).split())\n",
    "\n",
    "def remove_incomplete_url(text):\n",
    "    return text.replace(\"http://\", \" \").replace(\"https://\", \" \")\n",
    "\n",
    "def remove_single_char(text):\n",
    "    return re.sub(r\"\\b[a-zA-Z]\\b\", \"\", text)\n",
    "\n",
    "def change_stripe(text):\n",
    "    return text.replace('-',\" \")\n",
    "\n",
    "def lower(text):\n",
    "    return text.lower()\n",
    "\n",
    "def remove_punctuation(text):\n",
    "    remove = string.punctuation\n",
    "    remove = remove.replace(\"_\", \"\") # don't remove hyphens\n",
    "    pattern = r\"[{}]\".format(remove) # create the pattern\n",
    "    return re.sub(pattern, \"\", text) "
   ]
  },
  {
   "cell_type": "code",
   "execution_count": 23,
   "metadata": {},
   "outputs": [],
   "source": [
    "import string"
   ]
  },
  {
   "cell_type": "markdown",
   "metadata": {},
   "source": [
    "### Panggil dan jalankan fungsi yang di deskripsikan diatas"
   ]
  },
  {
   "cell_type": "code",
   "execution_count": 24,
   "metadata": {},
   "outputs": [],
   "source": [
    "final_string = []\n",
    "for text in df['Tweets'].values:\n",
    "    EachReviewText = \"\"\n",
    "    proc = bersih_data(text)\n",
    "    proc = remove_rt(proc) \n",
    "    proc = lower(proc)\n",
    "    proc = change_stripe(proc)\n",
    "    proc = remove_tab(proc)\n",
    "    proc = remove_tab2(proc)\n",
    "    proc = non_ascii(proc)\n",
    "    proc = remove_incomplete_url(proc)\n",
    "    proc = remove_single_char(proc)\n",
    "    proc = remove_punctuation(proc)\n",
    "    proc = remove_space_alzami(proc)\n",
    "    EachReviewText = proc\n",
    "    final_string.append(EachReviewText)"
   ]
  },
  {
   "cell_type": "code",
   "execution_count": 25,
   "metadata": {},
   "outputs": [
    {
     "data": {
      "text/html": [
       "<div>\n",
       "<style scoped>\n",
       "    .dataframe tbody tr th:only-of-type {\n",
       "        vertical-align: middle;\n",
       "    }\n",
       "\n",
       "    .dataframe tbody tr th {\n",
       "        vertical-align: top;\n",
       "    }\n",
       "\n",
       "    .dataframe thead th {\n",
       "        text-align: right;\n",
       "    }\n",
       "</style>\n",
       "<table border=\"1\" class=\"dataframe\">\n",
       "  <thead>\n",
       "    <tr style=\"text-align: right;\">\n",
       "      <th></th>\n",
       "      <th>Unnamed: 0</th>\n",
       "      <th>pengguna</th>\n",
       "      <th>Tweets</th>\n",
       "      <th>sentimen</th>\n",
       "      <th>step01</th>\n",
       "    </tr>\n",
       "  </thead>\n",
       "  <tbody>\n",
       "    <tr>\n",
       "      <th>0</th>\n",
       "      <td>0</td>\n",
       "      <td>OtterAng</td>\n",
       "      <td>@mediaindonesia Wah cocok ne, gw dukung 2024 m...</td>\n",
       "      <td>0</td>\n",
       "      <td>user wah cocok ne gw dukung number menang di b...</td>\n",
       "    </tr>\n",
       "    <tr>\n",
       "      <th>1</th>\n",
       "      <td>1</td>\n",
       "      <td>mediaindonesia</td>\n",
       "      <td>Belasan perusahaan di wilayah Kota Tasikmalaya...</td>\n",
       "      <td>0</td>\n",
       "      <td>belasan perusahaan di wilayah kota tasikmalaya...</td>\n",
       "    </tr>\n",
       "    <tr>\n",
       "      <th>2</th>\n",
       "      <td>2</td>\n",
       "      <td>mediaindonesia</td>\n",
       "      <td>Latar belakang pengalaman Prabowo di dunia mil...</td>\n",
       "      <td>0</td>\n",
       "      <td>latar belakang pengalaman prabowo di dunia mil...</td>\n",
       "    </tr>\n",
       "    <tr>\n",
       "      <th>3</th>\n",
       "      <td>3</td>\n",
       "      <td>mediaindonesia</td>\n",
       "      <td>9 Tips Sederhana untuk Memulai Rutininas Olahr...</td>\n",
       "      <td>0</td>\n",
       "      <td>number tips sederhana untuk memulai rutininas ...</td>\n",
       "    </tr>\n",
       "    <tr>\n",
       "      <th>4</th>\n",
       "      <td>4</td>\n",
       "      <td>mediaindonesia</td>\n",
       "      <td>Sebagai informasi, Mandatory Serum Infused Bri...</td>\n",
       "      <td>0</td>\n",
       "      <td>sebagai informasi mandatory serum infused brig...</td>\n",
       "    </tr>\n",
       "    <tr>\n",
       "      <th>...</th>\n",
       "      <td>...</td>\n",
       "      <td>...</td>\n",
       "      <td>...</td>\n",
       "      <td>...</td>\n",
       "      <td>...</td>\n",
       "    </tr>\n",
       "    <tr>\n",
       "      <th>91</th>\n",
       "      <td>91</td>\n",
       "      <td>mediaindonesia</td>\n",
       "      <td>MEMBANGKITKAN kembali gairah memproduksi minia...</td>\n",
       "      <td>0</td>\n",
       "      <td>membangkitkan kembali gairah memproduksi minia...</td>\n",
       "    </tr>\n",
       "    <tr>\n",
       "      <th>92</th>\n",
       "      <td>92</td>\n",
       "      <td>auliafikrah10</td>\n",
       "      <td>RT @mediaindonesia: Berbagai macam pengalaman ...</td>\n",
       "      <td>0</td>\n",
       "      <td>rt user berbagai macam pengalaman selama menga...</td>\n",
       "    </tr>\n",
       "    <tr>\n",
       "      <th>93</th>\n",
       "      <td>93</td>\n",
       "      <td>mediaindonesia</td>\n",
       "      <td>Menurut Saiful, Syahrial sebagai litbang juga ...</td>\n",
       "      <td>0</td>\n",
       "      <td>menurut saiful syahrial sebagai litbang juga t...</td>\n",
       "    </tr>\n",
       "    <tr>\n",
       "      <th>94</th>\n",
       "      <td>94</td>\n",
       "      <td>mediaindonesia</td>\n",
       "      <td>Diketahui, PSSI memutuskan untuk mempercepat p...</td>\n",
       "      <td>0</td>\n",
       "      <td>diketahui pssi memutuskan untuk mempercepat pe...</td>\n",
       "    </tr>\n",
       "    <tr>\n",
       "      <th>95</th>\n",
       "      <td>95</td>\n",
       "      <td>mediaindonesia</td>\n",
       "      <td>Riri berharap, ini menjadi contoh regenerasi m...</td>\n",
       "      <td>0</td>\n",
       "      <td>riri berharap ini menjadi contoh regenerasi ma...</td>\n",
       "    </tr>\n",
       "  </tbody>\n",
       "</table>\n",
       "<p>96 rows × 5 columns</p>\n",
       "</div>"
      ],
      "text/plain": [
       "    Unnamed: 0        pengguna  \\\n",
       "0            0        OtterAng   \n",
       "1            1  mediaindonesia   \n",
       "2            2  mediaindonesia   \n",
       "3            3  mediaindonesia   \n",
       "4            4  mediaindonesia   \n",
       "..         ...             ...   \n",
       "91          91  mediaindonesia   \n",
       "92          92   auliafikrah10   \n",
       "93          93  mediaindonesia   \n",
       "94          94  mediaindonesia   \n",
       "95          95  mediaindonesia   \n",
       "\n",
       "                                               Tweets  sentimen  \\\n",
       "0   @mediaindonesia Wah cocok ne, gw dukung 2024 m...         0   \n",
       "1   Belasan perusahaan di wilayah Kota Tasikmalaya...         0   \n",
       "2   Latar belakang pengalaman Prabowo di dunia mil...         0   \n",
       "3   9 Tips Sederhana untuk Memulai Rutininas Olahr...         0   \n",
       "4   Sebagai informasi, Mandatory Serum Infused Bri...         0   \n",
       "..                                                ...       ...   \n",
       "91  MEMBANGKITKAN kembali gairah memproduksi minia...         0   \n",
       "92  RT @mediaindonesia: Berbagai macam pengalaman ...         0   \n",
       "93  Menurut Saiful, Syahrial sebagai litbang juga ...         0   \n",
       "94  Diketahui, PSSI memutuskan untuk mempercepat p...         0   \n",
       "95  Riri berharap, ini menjadi contoh regenerasi m...         0   \n",
       "\n",
       "                                               step01  \n",
       "0   user wah cocok ne gw dukung number menang di b...  \n",
       "1   belasan perusahaan di wilayah kota tasikmalaya...  \n",
       "2   latar belakang pengalaman prabowo di dunia mil...  \n",
       "3   number tips sederhana untuk memulai rutininas ...  \n",
       "4   sebagai informasi mandatory serum infused brig...  \n",
       "..                                                ...  \n",
       "91  membangkitkan kembali gairah memproduksi minia...  \n",
       "92  rt user berbagai macam pengalaman selama menga...  \n",
       "93  menurut saiful syahrial sebagai litbang juga t...  \n",
       "94  diketahui pssi memutuskan untuk mempercepat pe...  \n",
       "95  riri berharap ini menjadi contoh regenerasi ma...  \n",
       "\n",
       "[96 rows x 5 columns]"
      ]
     },
     "execution_count": 25,
     "metadata": {},
     "output_type": "execute_result"
    }
   ],
   "source": [
    "df[\"step01\"] = final_string\n",
    "df"
   ]
  },
  {
   "cell_type": "markdown",
   "metadata": {},
   "source": [
    "#### Sampai tahap ini didaparkan kolom baru untuk Kolom `step01`"
   ]
  },
  {
   "cell_type": "code",
   "execution_count": 26,
   "metadata": {},
   "outputs": [
    {
     "data": {
      "text/html": [
       "<div>\n",
       "<style scoped>\n",
       "    .dataframe tbody tr th:only-of-type {\n",
       "        vertical-align: middle;\n",
       "    }\n",
       "\n",
       "    .dataframe tbody tr th {\n",
       "        vertical-align: top;\n",
       "    }\n",
       "\n",
       "    .dataframe thead th {\n",
       "        text-align: right;\n",
       "    }\n",
       "</style>\n",
       "<table border=\"1\" class=\"dataframe\">\n",
       "  <thead>\n",
       "    <tr style=\"text-align: right;\">\n",
       "      <th></th>\n",
       "      <th>Unnamed: 0</th>\n",
       "      <th>pengguna</th>\n",
       "      <th>Tweets</th>\n",
       "      <th>sentimen</th>\n",
       "      <th>step01</th>\n",
       "    </tr>\n",
       "  </thead>\n",
       "  <tbody>\n",
       "    <tr>\n",
       "      <th>0</th>\n",
       "      <td>0</td>\n",
       "      <td>OtterAng</td>\n",
       "      <td>@mediaindonesia Wah cocok ne, gw dukung 2024 m...</td>\n",
       "      <td>0</td>\n",
       "      <td>user wah cocok ne gw dukung number menang di b...</td>\n",
       "    </tr>\n",
       "    <tr>\n",
       "      <th>1</th>\n",
       "      <td>1</td>\n",
       "      <td>mediaindonesia</td>\n",
       "      <td>Belasan perusahaan di wilayah Kota Tasikmalaya...</td>\n",
       "      <td>0</td>\n",
       "      <td>belasan perusahaan di wilayah kota tasikmalaya...</td>\n",
       "    </tr>\n",
       "    <tr>\n",
       "      <th>2</th>\n",
       "      <td>2</td>\n",
       "      <td>mediaindonesia</td>\n",
       "      <td>Latar belakang pengalaman Prabowo di dunia mil...</td>\n",
       "      <td>0</td>\n",
       "      <td>latar belakang pengalaman prabowo di dunia mil...</td>\n",
       "    </tr>\n",
       "    <tr>\n",
       "      <th>3</th>\n",
       "      <td>3</td>\n",
       "      <td>mediaindonesia</td>\n",
       "      <td>9 Tips Sederhana untuk Memulai Rutininas Olahr...</td>\n",
       "      <td>0</td>\n",
       "      <td>number tips sederhana untuk memulai rutininas ...</td>\n",
       "    </tr>\n",
       "    <tr>\n",
       "      <th>4</th>\n",
       "      <td>4</td>\n",
       "      <td>mediaindonesia</td>\n",
       "      <td>Sebagai informasi, Mandatory Serum Infused Bri...</td>\n",
       "      <td>0</td>\n",
       "      <td>sebagai informasi mandatory serum infused brig...</td>\n",
       "    </tr>\n",
       "    <tr>\n",
       "      <th>5</th>\n",
       "      <td>5</td>\n",
       "      <td>mediaindonesia</td>\n",
       "      <td>RT @KementerianLHK: Sobat Hijau, Pemerintah In...</td>\n",
       "      <td>-1</td>\n",
       "      <td>rt user sobat hijau pemerintah indonesia melal...</td>\n",
       "    </tr>\n",
       "    <tr>\n",
       "      <th>6</th>\n",
       "      <td>6</td>\n",
       "      <td>JinkimJo</td>\n",
       "      <td>RT @mediaindonesia: Video musik The Astronaut ...</td>\n",
       "      <td>0</td>\n",
       "      <td>rt user video musik the astronaut menunjukkan ...</td>\n",
       "    </tr>\n",
       "    <tr>\n",
       "      <th>7</th>\n",
       "      <td>7</td>\n",
       "      <td>mediaindonesia</td>\n",
       "      <td>World Justice Project (WJP), organisasi yang b...</td>\n",
       "      <td>0</td>\n",
       "      <td>world justice project wjp organisasi yang berg...</td>\n",
       "    </tr>\n",
       "    <tr>\n",
       "      <th>8</th>\n",
       "      <td>8</td>\n",
       "      <td>cocoblogger</td>\n",
       "      <td>Redam Masalah Air, Srikandi Ganjar Bangun Sumu...</td>\n",
       "      <td>0</td>\n",
       "      <td>redam masalah air srikandi ganjar bangun sumur...</td>\n",
       "    </tr>\n",
       "    <tr>\n",
       "      <th>9</th>\n",
       "      <td>9</td>\n",
       "      <td>kokokdirgantoro</td>\n",
       "      <td>RT @mediaindonesia: Ia menyerukan kepada para ...</td>\n",
       "      <td>0</td>\n",
       "      <td>rt user ia menyerukan kepada para mahasiswa un...</td>\n",
       "    </tr>\n",
       "  </tbody>\n",
       "</table>\n",
       "</div>"
      ],
      "text/plain": [
       "   Unnamed: 0         pengguna  \\\n",
       "0           0         OtterAng   \n",
       "1           1   mediaindonesia   \n",
       "2           2   mediaindonesia   \n",
       "3           3   mediaindonesia   \n",
       "4           4   mediaindonesia   \n",
       "5           5   mediaindonesia   \n",
       "6           6         JinkimJo   \n",
       "7           7   mediaindonesia   \n",
       "8           8      cocoblogger   \n",
       "9           9  kokokdirgantoro   \n",
       "\n",
       "                                              Tweets  sentimen  \\\n",
       "0  @mediaindonesia Wah cocok ne, gw dukung 2024 m...         0   \n",
       "1  Belasan perusahaan di wilayah Kota Tasikmalaya...         0   \n",
       "2  Latar belakang pengalaman Prabowo di dunia mil...         0   \n",
       "3  9 Tips Sederhana untuk Memulai Rutininas Olahr...         0   \n",
       "4  Sebagai informasi, Mandatory Serum Infused Bri...         0   \n",
       "5  RT @KementerianLHK: Sobat Hijau, Pemerintah In...        -1   \n",
       "6  RT @mediaindonesia: Video musik The Astronaut ...         0   \n",
       "7  World Justice Project (WJP), organisasi yang b...         0   \n",
       "8  Redam Masalah Air, Srikandi Ganjar Bangun Sumu...         0   \n",
       "9  RT @mediaindonesia: Ia menyerukan kepada para ...         0   \n",
       "\n",
       "                                              step01  \n",
       "0  user wah cocok ne gw dukung number menang di b...  \n",
       "1  belasan perusahaan di wilayah kota tasikmalaya...  \n",
       "2  latar belakang pengalaman prabowo di dunia mil...  \n",
       "3  number tips sederhana untuk memulai rutininas ...  \n",
       "4  sebagai informasi mandatory serum infused brig...  \n",
       "5  rt user sobat hijau pemerintah indonesia melal...  \n",
       "6  rt user video musik the astronaut menunjukkan ...  \n",
       "7  world justice project wjp organisasi yang berg...  \n",
       "8  redam masalah air srikandi ganjar bangun sumur...  \n",
       "9  rt user ia menyerukan kepada para mahasiswa un...  "
      ]
     },
     "execution_count": 26,
     "metadata": {},
     "output_type": "execute_result"
    }
   ],
   "source": [
    "df.head(10)"
   ]
  },
  {
   "cell_type": "markdown",
   "metadata": {},
   "source": [
    "## Hapus data kosong"
   ]
  },
  {
   "cell_type": "code",
   "execution_count": 27,
   "metadata": {},
   "outputs": [],
   "source": [
    "df_hapus = df[~df['step01'].str.contains(\" \")]"
   ]
  },
  {
   "cell_type": "code",
   "execution_count": 28,
   "metadata": {},
   "outputs": [
    {
     "name": "stdout",
     "output_type": "stream",
     "text": [
      "<class 'pandas.core.frame.DataFrame'>\n",
      "Int64Index: 0 entries\n",
      "Data columns (total 5 columns):\n",
      " #   Column      Non-Null Count  Dtype \n",
      "---  ------      --------------  ----- \n",
      " 0   Unnamed: 0  0 non-null      int64 \n",
      " 1   pengguna    0 non-null      object\n",
      " 2   Tweets      0 non-null      object\n",
      " 3   sentimen    0 non-null      int64 \n",
      " 4   step01      0 non-null      object\n",
      "dtypes: int64(2), object(3)\n",
      "memory usage: 0.0+ bytes\n"
     ]
    }
   ],
   "source": [
    "df_hapus.info()"
   ]
  },
  {
   "cell_type": "code",
   "execution_count": 29,
   "metadata": {},
   "outputs": [
    {
     "data": {
      "text/html": [
       "<div>\n",
       "<style scoped>\n",
       "    .dataframe tbody tr th:only-of-type {\n",
       "        vertical-align: middle;\n",
       "    }\n",
       "\n",
       "    .dataframe tbody tr th {\n",
       "        vertical-align: top;\n",
       "    }\n",
       "\n",
       "    .dataframe thead th {\n",
       "        text-align: right;\n",
       "    }\n",
       "</style>\n",
       "<table border=\"1\" class=\"dataframe\">\n",
       "  <thead>\n",
       "    <tr style=\"text-align: right;\">\n",
       "      <th></th>\n",
       "      <th>Unnamed: 0</th>\n",
       "      <th>pengguna</th>\n",
       "      <th>Tweets</th>\n",
       "      <th>sentimen</th>\n",
       "      <th>step01</th>\n",
       "    </tr>\n",
       "  </thead>\n",
       "  <tbody>\n",
       "  </tbody>\n",
       "</table>\n",
       "</div>"
      ],
      "text/plain": [
       "Empty DataFrame\n",
       "Columns: [Unnamed: 0, pengguna, Tweets, sentimen, step01]\n",
       "Index: []"
      ]
     },
     "execution_count": 29,
     "metadata": {},
     "output_type": "execute_result"
    }
   ],
   "source": [
    "df_hapus.head()"
   ]
  },
  {
   "cell_type": "code",
   "execution_count": 30,
   "metadata": {},
   "outputs": [],
   "source": [
    "df_new = df[~df.isin(df_hapus)].dropna()"
   ]
  },
  {
   "cell_type": "code",
   "execution_count": 31,
   "metadata": {},
   "outputs": [
    {
     "name": "stdout",
     "output_type": "stream",
     "text": [
      "<class 'pandas.core.frame.DataFrame'>\n",
      "RangeIndex: 96 entries, 0 to 95\n",
      "Data columns (total 5 columns):\n",
      " #   Column      Non-Null Count  Dtype \n",
      "---  ------      --------------  ----- \n",
      " 0   Unnamed: 0  96 non-null     int64 \n",
      " 1   pengguna    96 non-null     object\n",
      " 2   Tweets      96 non-null     object\n",
      " 3   sentimen    96 non-null     int64 \n",
      " 4   step01      96 non-null     object\n",
      "dtypes: int64(2), object(3)\n",
      "memory usage: 3.9+ KB\n"
     ]
    }
   ],
   "source": [
    "df_new.info()"
   ]
  },
  {
   "cell_type": "code",
   "execution_count": 32,
   "metadata": {},
   "outputs": [
    {
     "data": {
      "text/html": [
       "<div>\n",
       "<style scoped>\n",
       "    .dataframe tbody tr th:only-of-type {\n",
       "        vertical-align: middle;\n",
       "    }\n",
       "\n",
       "    .dataframe tbody tr th {\n",
       "        vertical-align: top;\n",
       "    }\n",
       "\n",
       "    .dataframe thead th {\n",
       "        text-align: right;\n",
       "    }\n",
       "</style>\n",
       "<table border=\"1\" class=\"dataframe\">\n",
       "  <thead>\n",
       "    <tr style=\"text-align: right;\">\n",
       "      <th></th>\n",
       "      <th>Unnamed: 0</th>\n",
       "      <th>pengguna</th>\n",
       "      <th>Tweets</th>\n",
       "      <th>sentimen</th>\n",
       "      <th>step01</th>\n",
       "    </tr>\n",
       "  </thead>\n",
       "  <tbody>\n",
       "    <tr>\n",
       "      <th>0</th>\n",
       "      <td>0</td>\n",
       "      <td>OtterAng</td>\n",
       "      <td>@mediaindonesia Wah cocok ne, gw dukung 2024 m...</td>\n",
       "      <td>0</td>\n",
       "      <td>user wah cocok ne gw dukung number menang di b...</td>\n",
       "    </tr>\n",
       "    <tr>\n",
       "      <th>1</th>\n",
       "      <td>1</td>\n",
       "      <td>mediaindonesia</td>\n",
       "      <td>Belasan perusahaan di wilayah Kota Tasikmalaya...</td>\n",
       "      <td>0</td>\n",
       "      <td>belasan perusahaan di wilayah kota tasikmalaya...</td>\n",
       "    </tr>\n",
       "    <tr>\n",
       "      <th>2</th>\n",
       "      <td>2</td>\n",
       "      <td>mediaindonesia</td>\n",
       "      <td>Latar belakang pengalaman Prabowo di dunia mil...</td>\n",
       "      <td>0</td>\n",
       "      <td>latar belakang pengalaman prabowo di dunia mil...</td>\n",
       "    </tr>\n",
       "    <tr>\n",
       "      <th>3</th>\n",
       "      <td>3</td>\n",
       "      <td>mediaindonesia</td>\n",
       "      <td>9 Tips Sederhana untuk Memulai Rutininas Olahr...</td>\n",
       "      <td>0</td>\n",
       "      <td>number tips sederhana untuk memulai rutininas ...</td>\n",
       "    </tr>\n",
       "    <tr>\n",
       "      <th>4</th>\n",
       "      <td>4</td>\n",
       "      <td>mediaindonesia</td>\n",
       "      <td>Sebagai informasi, Mandatory Serum Infused Bri...</td>\n",
       "      <td>0</td>\n",
       "      <td>sebagai informasi mandatory serum infused brig...</td>\n",
       "    </tr>\n",
       "    <tr>\n",
       "      <th>...</th>\n",
       "      <td>...</td>\n",
       "      <td>...</td>\n",
       "      <td>...</td>\n",
       "      <td>...</td>\n",
       "      <td>...</td>\n",
       "    </tr>\n",
       "    <tr>\n",
       "      <th>91</th>\n",
       "      <td>91</td>\n",
       "      <td>mediaindonesia</td>\n",
       "      <td>MEMBANGKITKAN kembali gairah memproduksi minia...</td>\n",
       "      <td>0</td>\n",
       "      <td>membangkitkan kembali gairah memproduksi minia...</td>\n",
       "    </tr>\n",
       "    <tr>\n",
       "      <th>92</th>\n",
       "      <td>92</td>\n",
       "      <td>auliafikrah10</td>\n",
       "      <td>RT @mediaindonesia: Berbagai macam pengalaman ...</td>\n",
       "      <td>0</td>\n",
       "      <td>rt user berbagai macam pengalaman selama menga...</td>\n",
       "    </tr>\n",
       "    <tr>\n",
       "      <th>93</th>\n",
       "      <td>93</td>\n",
       "      <td>mediaindonesia</td>\n",
       "      <td>Menurut Saiful, Syahrial sebagai litbang juga ...</td>\n",
       "      <td>0</td>\n",
       "      <td>menurut saiful syahrial sebagai litbang juga t...</td>\n",
       "    </tr>\n",
       "    <tr>\n",
       "      <th>94</th>\n",
       "      <td>94</td>\n",
       "      <td>mediaindonesia</td>\n",
       "      <td>Diketahui, PSSI memutuskan untuk mempercepat p...</td>\n",
       "      <td>0</td>\n",
       "      <td>diketahui pssi memutuskan untuk mempercepat pe...</td>\n",
       "    </tr>\n",
       "    <tr>\n",
       "      <th>95</th>\n",
       "      <td>95</td>\n",
       "      <td>mediaindonesia</td>\n",
       "      <td>Riri berharap, ini menjadi contoh regenerasi m...</td>\n",
       "      <td>0</td>\n",
       "      <td>riri berharap ini menjadi contoh regenerasi ma...</td>\n",
       "    </tr>\n",
       "  </tbody>\n",
       "</table>\n",
       "<p>96 rows × 5 columns</p>\n",
       "</div>"
      ],
      "text/plain": [
       "    Unnamed: 0        pengguna  \\\n",
       "0            0        OtterAng   \n",
       "1            1  mediaindonesia   \n",
       "2            2  mediaindonesia   \n",
       "3            3  mediaindonesia   \n",
       "4            4  mediaindonesia   \n",
       "..         ...             ...   \n",
       "91          91  mediaindonesia   \n",
       "92          92   auliafikrah10   \n",
       "93          93  mediaindonesia   \n",
       "94          94  mediaindonesia   \n",
       "95          95  mediaindonesia   \n",
       "\n",
       "                                               Tweets  sentimen  \\\n",
       "0   @mediaindonesia Wah cocok ne, gw dukung 2024 m...         0   \n",
       "1   Belasan perusahaan di wilayah Kota Tasikmalaya...         0   \n",
       "2   Latar belakang pengalaman Prabowo di dunia mil...         0   \n",
       "3   9 Tips Sederhana untuk Memulai Rutininas Olahr...         0   \n",
       "4   Sebagai informasi, Mandatory Serum Infused Bri...         0   \n",
       "..                                                ...       ...   \n",
       "91  MEMBANGKITKAN kembali gairah memproduksi minia...         0   \n",
       "92  RT @mediaindonesia: Berbagai macam pengalaman ...         0   \n",
       "93  Menurut Saiful, Syahrial sebagai litbang juga ...         0   \n",
       "94  Diketahui, PSSI memutuskan untuk mempercepat p...         0   \n",
       "95  Riri berharap, ini menjadi contoh regenerasi m...         0   \n",
       "\n",
       "                                               step01  \n",
       "0   user wah cocok ne gw dukung number menang di b...  \n",
       "1   belasan perusahaan di wilayah kota tasikmalaya...  \n",
       "2   latar belakang pengalaman prabowo di dunia mil...  \n",
       "3   number tips sederhana untuk memulai rutininas ...  \n",
       "4   sebagai informasi mandatory serum infused brig...  \n",
       "..                                                ...  \n",
       "91  membangkitkan kembali gairah memproduksi minia...  \n",
       "92  rt user berbagai macam pengalaman selama menga...  \n",
       "93  menurut saiful syahrial sebagai litbang juga t...  \n",
       "94  diketahui pssi memutuskan untuk mempercepat pe...  \n",
       "95  riri berharap ini menjadi contoh regenerasi ma...  \n",
       "\n",
       "[96 rows x 5 columns]"
      ]
     },
     "execution_count": 32,
     "metadata": {},
     "output_type": "execute_result"
    }
   ],
   "source": [
    "df_new"
   ]
  },
  {
   "cell_type": "markdown",
   "metadata": {},
   "source": [
    "## Pembersihan data dengan konsep rubah kata `SLANG` menjadi kata `BAKU`"
   ]
  },
  {
   "cell_type": "markdown",
   "metadata": {},
   "source": [
    "### Menggunakan NLTK"
   ]
  },
  {
   "cell_type": "code",
   "execution_count": 33,
   "metadata": {},
   "outputs": [
    {
     "name": "stderr",
     "output_type": "stream",
     "text": [
      "[nltk_data] Downloading package punkt to\n",
      "[nltk_data]     /Users/faradilazahrotunnisa/nltk_data...\n",
      "[nltk_data]   Package punkt is already up-to-date!\n"
     ]
    }
   ],
   "source": [
    "import nltk\n",
    "nltk.download('punkt')\n",
    "from nltk.tokenize import word_tokenize "
   ]
  },
  {
   "cell_type": "code",
   "execution_count": 34,
   "metadata": {},
   "outputs": [],
   "source": [
    "def word_tokenize_wrapper(text):\n",
    "  return word_tokenize(text)"
   ]
  },
  {
   "cell_type": "code",
   "execution_count": 35,
   "metadata": {},
   "outputs": [],
   "source": [
    "df_new['tokens'] = df['step01'].apply(word_tokenize_wrapper)"
   ]
  },
  {
   "cell_type": "markdown",
   "metadata": {},
   "source": [
    "#### Sampai tahap ini didapatkan kolom baru untuk Kolom `tokens`"
   ]
  },
  {
   "cell_type": "code",
   "execution_count": 36,
   "metadata": {},
   "outputs": [
    {
     "data": {
      "text/html": [
       "<div>\n",
       "<style scoped>\n",
       "    .dataframe tbody tr th:only-of-type {\n",
       "        vertical-align: middle;\n",
       "    }\n",
       "\n",
       "    .dataframe tbody tr th {\n",
       "        vertical-align: top;\n",
       "    }\n",
       "\n",
       "    .dataframe thead th {\n",
       "        text-align: right;\n",
       "    }\n",
       "</style>\n",
       "<table border=\"1\" class=\"dataframe\">\n",
       "  <thead>\n",
       "    <tr style=\"text-align: right;\">\n",
       "      <th></th>\n",
       "      <th>Unnamed: 0</th>\n",
       "      <th>pengguna</th>\n",
       "      <th>Tweets</th>\n",
       "      <th>sentimen</th>\n",
       "      <th>step01</th>\n",
       "      <th>tokens</th>\n",
       "    </tr>\n",
       "  </thead>\n",
       "  <tbody>\n",
       "    <tr>\n",
       "      <th>0</th>\n",
       "      <td>0</td>\n",
       "      <td>OtterAng</td>\n",
       "      <td>@mediaindonesia Wah cocok ne, gw dukung 2024 m...</td>\n",
       "      <td>0</td>\n",
       "      <td>user wah cocok ne gw dukung number menang di b...</td>\n",
       "      <td>[user, wah, cocok, ne, gw, dukung, number, men...</td>\n",
       "    </tr>\n",
       "    <tr>\n",
       "      <th>1</th>\n",
       "      <td>1</td>\n",
       "      <td>mediaindonesia</td>\n",
       "      <td>Belasan perusahaan di wilayah Kota Tasikmalaya...</td>\n",
       "      <td>0</td>\n",
       "      <td>belasan perusahaan di wilayah kota tasikmalaya...</td>\n",
       "      <td>[belasan, perusahaan, di, wilayah, kota, tasik...</td>\n",
       "    </tr>\n",
       "    <tr>\n",
       "      <th>2</th>\n",
       "      <td>2</td>\n",
       "      <td>mediaindonesia</td>\n",
       "      <td>Latar belakang pengalaman Prabowo di dunia mil...</td>\n",
       "      <td>0</td>\n",
       "      <td>latar belakang pengalaman prabowo di dunia mil...</td>\n",
       "      <td>[latar, belakang, pengalaman, prabowo, di, dun...</td>\n",
       "    </tr>\n",
       "    <tr>\n",
       "      <th>3</th>\n",
       "      <td>3</td>\n",
       "      <td>mediaindonesia</td>\n",
       "      <td>9 Tips Sederhana untuk Memulai Rutininas Olahr...</td>\n",
       "      <td>0</td>\n",
       "      <td>number tips sederhana untuk memulai rutininas ...</td>\n",
       "      <td>[number, tips, sederhana, untuk, memulai, ruti...</td>\n",
       "    </tr>\n",
       "    <tr>\n",
       "      <th>4</th>\n",
       "      <td>4</td>\n",
       "      <td>mediaindonesia</td>\n",
       "      <td>Sebagai informasi, Mandatory Serum Infused Bri...</td>\n",
       "      <td>0</td>\n",
       "      <td>sebagai informasi mandatory serum infused brig...</td>\n",
       "      <td>[sebagai, informasi, mandatory, serum, infused...</td>\n",
       "    </tr>\n",
       "    <tr>\n",
       "      <th>5</th>\n",
       "      <td>5</td>\n",
       "      <td>mediaindonesia</td>\n",
       "      <td>RT @KementerianLHK: Sobat Hijau, Pemerintah In...</td>\n",
       "      <td>-1</td>\n",
       "      <td>rt user sobat hijau pemerintah indonesia melal...</td>\n",
       "      <td>[rt, user, sobat, hijau, pemerintah, indonesia...</td>\n",
       "    </tr>\n",
       "    <tr>\n",
       "      <th>6</th>\n",
       "      <td>6</td>\n",
       "      <td>JinkimJo</td>\n",
       "      <td>RT @mediaindonesia: Video musik The Astronaut ...</td>\n",
       "      <td>0</td>\n",
       "      <td>rt user video musik the astronaut menunjukkan ...</td>\n",
       "      <td>[rt, user, video, musik, the, astronaut, menun...</td>\n",
       "    </tr>\n",
       "    <tr>\n",
       "      <th>7</th>\n",
       "      <td>7</td>\n",
       "      <td>mediaindonesia</td>\n",
       "      <td>World Justice Project (WJP), organisasi yang b...</td>\n",
       "      <td>0</td>\n",
       "      <td>world justice project wjp organisasi yang berg...</td>\n",
       "      <td>[world, justice, project, wjp, organisasi, yan...</td>\n",
       "    </tr>\n",
       "    <tr>\n",
       "      <th>8</th>\n",
       "      <td>8</td>\n",
       "      <td>cocoblogger</td>\n",
       "      <td>Redam Masalah Air, Srikandi Ganjar Bangun Sumu...</td>\n",
       "      <td>0</td>\n",
       "      <td>redam masalah air srikandi ganjar bangun sumur...</td>\n",
       "      <td>[redam, masalah, air, srikandi, ganjar, bangun...</td>\n",
       "    </tr>\n",
       "    <tr>\n",
       "      <th>9</th>\n",
       "      <td>9</td>\n",
       "      <td>kokokdirgantoro</td>\n",
       "      <td>RT @mediaindonesia: Ia menyerukan kepada para ...</td>\n",
       "      <td>0</td>\n",
       "      <td>rt user ia menyerukan kepada para mahasiswa un...</td>\n",
       "      <td>[rt, user, ia, menyerukan, kepada, para, mahas...</td>\n",
       "    </tr>\n",
       "  </tbody>\n",
       "</table>\n",
       "</div>"
      ],
      "text/plain": [
       "   Unnamed: 0         pengguna  \\\n",
       "0           0         OtterAng   \n",
       "1           1   mediaindonesia   \n",
       "2           2   mediaindonesia   \n",
       "3           3   mediaindonesia   \n",
       "4           4   mediaindonesia   \n",
       "5           5   mediaindonesia   \n",
       "6           6         JinkimJo   \n",
       "7           7   mediaindonesia   \n",
       "8           8      cocoblogger   \n",
       "9           9  kokokdirgantoro   \n",
       "\n",
       "                                              Tweets  sentimen  \\\n",
       "0  @mediaindonesia Wah cocok ne, gw dukung 2024 m...         0   \n",
       "1  Belasan perusahaan di wilayah Kota Tasikmalaya...         0   \n",
       "2  Latar belakang pengalaman Prabowo di dunia mil...         0   \n",
       "3  9 Tips Sederhana untuk Memulai Rutininas Olahr...         0   \n",
       "4  Sebagai informasi, Mandatory Serum Infused Bri...         0   \n",
       "5  RT @KementerianLHK: Sobat Hijau, Pemerintah In...        -1   \n",
       "6  RT @mediaindonesia: Video musik The Astronaut ...         0   \n",
       "7  World Justice Project (WJP), organisasi yang b...         0   \n",
       "8  Redam Masalah Air, Srikandi Ganjar Bangun Sumu...         0   \n",
       "9  RT @mediaindonesia: Ia menyerukan kepada para ...         0   \n",
       "\n",
       "                                              step01  \\\n",
       "0  user wah cocok ne gw dukung number menang di b...   \n",
       "1  belasan perusahaan di wilayah kota tasikmalaya...   \n",
       "2  latar belakang pengalaman prabowo di dunia mil...   \n",
       "3  number tips sederhana untuk memulai rutininas ...   \n",
       "4  sebagai informasi mandatory serum infused brig...   \n",
       "5  rt user sobat hijau pemerintah indonesia melal...   \n",
       "6  rt user video musik the astronaut menunjukkan ...   \n",
       "7  world justice project wjp organisasi yang berg...   \n",
       "8  redam masalah air srikandi ganjar bangun sumur...   \n",
       "9  rt user ia menyerukan kepada para mahasiswa un...   \n",
       "\n",
       "                                              tokens  \n",
       "0  [user, wah, cocok, ne, gw, dukung, number, men...  \n",
       "1  [belasan, perusahaan, di, wilayah, kota, tasik...  \n",
       "2  [latar, belakang, pengalaman, prabowo, di, dun...  \n",
       "3  [number, tips, sederhana, untuk, memulai, ruti...  \n",
       "4  [sebagai, informasi, mandatory, serum, infused...  \n",
       "5  [rt, user, sobat, hijau, pemerintah, indonesia...  \n",
       "6  [rt, user, video, musik, the, astronaut, menun...  \n",
       "7  [world, justice, project, wjp, organisasi, yan...  \n",
       "8  [redam, masalah, air, srikandi, ganjar, bangun...  \n",
       "9  [rt, user, ia, menyerukan, kepada, para, mahas...  "
      ]
     },
     "execution_count": 36,
     "metadata": {},
     "output_type": "execute_result"
    }
   ],
   "source": [
    "df_new.head(10)"
   ]
  },
  {
   "cell_type": "code",
   "execution_count": 37,
   "metadata": {},
   "outputs": [],
   "source": [
    "normalized_word = pd.read_csv('kamus_clean.csv', sep=\",\")"
   ]
  },
  {
   "cell_type": "code",
   "execution_count": 38,
   "metadata": {},
   "outputs": [],
   "source": [
    "normalized_word_dict = {}\n",
    "\n",
    "for index, row in normalized_word.iterrows():\n",
    "    if row[0] not in normalized_word_dict:\n",
    "        normalized_word_dict[row[0]] = row[1] \n",
    "\n",
    "def normalized_term(document):\n",
    "    return [normalized_word_dict[term] if term in normalized_word_dict else term for term in document]"
   ]
  },
  {
   "cell_type": "code",
   "execution_count": 39,
   "metadata": {},
   "outputs": [],
   "source": [
    "df_new['final_tokens'] = df_new['tokens'].apply(normalized_term)"
   ]
  },
  {
   "cell_type": "code",
   "execution_count": 40,
   "metadata": {},
   "outputs": [],
   "source": [
    "i=0\n",
    "final_string_tokens = []\n",
    "for text in df_new['final_tokens'].values:\n",
    "    EachReviewText = \"\"\n",
    "    EachReviewText = ' '.join(text)\n",
    "    final_string_tokens.append(EachReviewText)"
   ]
  },
  {
   "cell_type": "code",
   "execution_count": 41,
   "metadata": {},
   "outputs": [],
   "source": [
    "df_new[\"step02\"] = final_string_tokens"
   ]
  },
  {
   "cell_type": "markdown",
   "metadata": {},
   "source": [
    "#### Sampai tahap ini didapatkan kolom baru untuk Kolom `final_token` `dan step02`"
   ]
  },
  {
   "cell_type": "code",
   "execution_count": 42,
   "metadata": {},
   "outputs": [
    {
     "data": {
      "text/html": [
       "<div>\n",
       "<style scoped>\n",
       "    .dataframe tbody tr th:only-of-type {\n",
       "        vertical-align: middle;\n",
       "    }\n",
       "\n",
       "    .dataframe tbody tr th {\n",
       "        vertical-align: top;\n",
       "    }\n",
       "\n",
       "    .dataframe thead th {\n",
       "        text-align: right;\n",
       "    }\n",
       "</style>\n",
       "<table border=\"1\" class=\"dataframe\">\n",
       "  <thead>\n",
       "    <tr style=\"text-align: right;\">\n",
       "      <th></th>\n",
       "      <th>Unnamed: 0</th>\n",
       "      <th>pengguna</th>\n",
       "      <th>Tweets</th>\n",
       "      <th>sentimen</th>\n",
       "      <th>step01</th>\n",
       "      <th>tokens</th>\n",
       "      <th>final_tokens</th>\n",
       "      <th>step02</th>\n",
       "    </tr>\n",
       "  </thead>\n",
       "  <tbody>\n",
       "    <tr>\n",
       "      <th>0</th>\n",
       "      <td>0</td>\n",
       "      <td>OtterAng</td>\n",
       "      <td>@mediaindonesia Wah cocok ne, gw dukung 2024 m...</td>\n",
       "      <td>0</td>\n",
       "      <td>user wah cocok ne gw dukung number menang di b...</td>\n",
       "      <td>[user, wah, cocok, ne, gw, dukung, number, men...</td>\n",
       "      <td>[user, wah, cocok, ne, gw, dukung, number, men...</td>\n",
       "      <td>user wah cocok ne gw dukung number menang di b...</td>\n",
       "    </tr>\n",
       "    <tr>\n",
       "      <th>1</th>\n",
       "      <td>1</td>\n",
       "      <td>mediaindonesia</td>\n",
       "      <td>Belasan perusahaan di wilayah Kota Tasikmalaya...</td>\n",
       "      <td>0</td>\n",
       "      <td>belasan perusahaan di wilayah kota tasikmalaya...</td>\n",
       "      <td>[belasan, perusahaan, di, wilayah, kota, tasik...</td>\n",
       "      <td>[belasan, perusahaan, di, wilayah, kota, tasik...</td>\n",
       "      <td>belasan perusahaan di wilayah kota tasikmalaya...</td>\n",
       "    </tr>\n",
       "    <tr>\n",
       "      <th>2</th>\n",
       "      <td>2</td>\n",
       "      <td>mediaindonesia</td>\n",
       "      <td>Latar belakang pengalaman Prabowo di dunia mil...</td>\n",
       "      <td>0</td>\n",
       "      <td>latar belakang pengalaman prabowo di dunia mil...</td>\n",
       "      <td>[latar, belakang, pengalaman, prabowo, di, dun...</td>\n",
       "      <td>[latar, belakang, pengalaman, prabowo, di, dun...</td>\n",
       "      <td>latar belakang pengalaman prabowo di dunia mil...</td>\n",
       "    </tr>\n",
       "    <tr>\n",
       "      <th>3</th>\n",
       "      <td>3</td>\n",
       "      <td>mediaindonesia</td>\n",
       "      <td>9 Tips Sederhana untuk Memulai Rutininas Olahr...</td>\n",
       "      <td>0</td>\n",
       "      <td>number tips sederhana untuk memulai rutininas ...</td>\n",
       "      <td>[number, tips, sederhana, untuk, memulai, ruti...</td>\n",
       "      <td>[number, tips, sederhana, untuk, memulai, ruti...</td>\n",
       "      <td>number tips sederhana untuk memulai rutininas ...</td>\n",
       "    </tr>\n",
       "    <tr>\n",
       "      <th>4</th>\n",
       "      <td>4</td>\n",
       "      <td>mediaindonesia</td>\n",
       "      <td>Sebagai informasi, Mandatory Serum Infused Bri...</td>\n",
       "      <td>0</td>\n",
       "      <td>sebagai informasi mandatory serum infused brig...</td>\n",
       "      <td>[sebagai, informasi, mandatory, serum, infused...</td>\n",
       "      <td>[sebagai, informasi, mandatory, serum, infused...</td>\n",
       "      <td>sebagai informasi mandatory serum infused brig...</td>\n",
       "    </tr>\n",
       "    <tr>\n",
       "      <th>5</th>\n",
       "      <td>5</td>\n",
       "      <td>mediaindonesia</td>\n",
       "      <td>RT @KementerianLHK: Sobat Hijau, Pemerintah In...</td>\n",
       "      <td>-1</td>\n",
       "      <td>rt user sobat hijau pemerintah indonesia melal...</td>\n",
       "      <td>[rt, user, sobat, hijau, pemerintah, indonesia...</td>\n",
       "      <td>[rt, user, sobat, hijau, pemerintah, indonesia...</td>\n",
       "      <td>rt user sobat hijau pemerintah indonesia melal...</td>\n",
       "    </tr>\n",
       "    <tr>\n",
       "      <th>6</th>\n",
       "      <td>6</td>\n",
       "      <td>JinkimJo</td>\n",
       "      <td>RT @mediaindonesia: Video musik The Astronaut ...</td>\n",
       "      <td>0</td>\n",
       "      <td>rt user video musik the astronaut menunjukkan ...</td>\n",
       "      <td>[rt, user, video, musik, the, astronaut, menun...</td>\n",
       "      <td>[rt, user, video, musik, the, astronaut, menun...</td>\n",
       "      <td>rt user video musik the astronaut menunjukkan ...</td>\n",
       "    </tr>\n",
       "    <tr>\n",
       "      <th>7</th>\n",
       "      <td>7</td>\n",
       "      <td>mediaindonesia</td>\n",
       "      <td>World Justice Project (WJP), organisasi yang b...</td>\n",
       "      <td>0</td>\n",
       "      <td>world justice project wjp organisasi yang berg...</td>\n",
       "      <td>[world, justice, project, wjp, organisasi, yan...</td>\n",
       "      <td>[world, justice, project, wjp, organisasi, yan...</td>\n",
       "      <td>world justice project wjp organisasi yang berg...</td>\n",
       "    </tr>\n",
       "    <tr>\n",
       "      <th>8</th>\n",
       "      <td>8</td>\n",
       "      <td>cocoblogger</td>\n",
       "      <td>Redam Masalah Air, Srikandi Ganjar Bangun Sumu...</td>\n",
       "      <td>0</td>\n",
       "      <td>redam masalah air srikandi ganjar bangun sumur...</td>\n",
       "      <td>[redam, masalah, air, srikandi, ganjar, bangun...</td>\n",
       "      <td>[redam, masalah, air, srikandi, ganjar, bangun...</td>\n",
       "      <td>redam masalah air srikandi ganjar bangun sumur...</td>\n",
       "    </tr>\n",
       "    <tr>\n",
       "      <th>9</th>\n",
       "      <td>9</td>\n",
       "      <td>kokokdirgantoro</td>\n",
       "      <td>RT @mediaindonesia: Ia menyerukan kepada para ...</td>\n",
       "      <td>0</td>\n",
       "      <td>rt user ia menyerukan kepada para mahasiswa un...</td>\n",
       "      <td>[rt, user, ia, menyerukan, kepada, para, mahas...</td>\n",
       "      <td>[rt, user, ia, menyerukan, kepada, para, mahas...</td>\n",
       "      <td>rt user ia menyerukan kepada para mahasiswa un...</td>\n",
       "    </tr>\n",
       "  </tbody>\n",
       "</table>\n",
       "</div>"
      ],
      "text/plain": [
       "   Unnamed: 0         pengguna  \\\n",
       "0           0         OtterAng   \n",
       "1           1   mediaindonesia   \n",
       "2           2   mediaindonesia   \n",
       "3           3   mediaindonesia   \n",
       "4           4   mediaindonesia   \n",
       "5           5   mediaindonesia   \n",
       "6           6         JinkimJo   \n",
       "7           7   mediaindonesia   \n",
       "8           8      cocoblogger   \n",
       "9           9  kokokdirgantoro   \n",
       "\n",
       "                                              Tweets  sentimen  \\\n",
       "0  @mediaindonesia Wah cocok ne, gw dukung 2024 m...         0   \n",
       "1  Belasan perusahaan di wilayah Kota Tasikmalaya...         0   \n",
       "2  Latar belakang pengalaman Prabowo di dunia mil...         0   \n",
       "3  9 Tips Sederhana untuk Memulai Rutininas Olahr...         0   \n",
       "4  Sebagai informasi, Mandatory Serum Infused Bri...         0   \n",
       "5  RT @KementerianLHK: Sobat Hijau, Pemerintah In...        -1   \n",
       "6  RT @mediaindonesia: Video musik The Astronaut ...         0   \n",
       "7  World Justice Project (WJP), organisasi yang b...         0   \n",
       "8  Redam Masalah Air, Srikandi Ganjar Bangun Sumu...         0   \n",
       "9  RT @mediaindonesia: Ia menyerukan kepada para ...         0   \n",
       "\n",
       "                                              step01  \\\n",
       "0  user wah cocok ne gw dukung number menang di b...   \n",
       "1  belasan perusahaan di wilayah kota tasikmalaya...   \n",
       "2  latar belakang pengalaman prabowo di dunia mil...   \n",
       "3  number tips sederhana untuk memulai rutininas ...   \n",
       "4  sebagai informasi mandatory serum infused brig...   \n",
       "5  rt user sobat hijau pemerintah indonesia melal...   \n",
       "6  rt user video musik the astronaut menunjukkan ...   \n",
       "7  world justice project wjp organisasi yang berg...   \n",
       "8  redam masalah air srikandi ganjar bangun sumur...   \n",
       "9  rt user ia menyerukan kepada para mahasiswa un...   \n",
       "\n",
       "                                              tokens  \\\n",
       "0  [user, wah, cocok, ne, gw, dukung, number, men...   \n",
       "1  [belasan, perusahaan, di, wilayah, kota, tasik...   \n",
       "2  [latar, belakang, pengalaman, prabowo, di, dun...   \n",
       "3  [number, tips, sederhana, untuk, memulai, ruti...   \n",
       "4  [sebagai, informasi, mandatory, serum, infused...   \n",
       "5  [rt, user, sobat, hijau, pemerintah, indonesia...   \n",
       "6  [rt, user, video, musik, the, astronaut, menun...   \n",
       "7  [world, justice, project, wjp, organisasi, yan...   \n",
       "8  [redam, masalah, air, srikandi, ganjar, bangun...   \n",
       "9  [rt, user, ia, menyerukan, kepada, para, mahas...   \n",
       "\n",
       "                                        final_tokens  \\\n",
       "0  [user, wah, cocok, ne, gw, dukung, number, men...   \n",
       "1  [belasan, perusahaan, di, wilayah, kota, tasik...   \n",
       "2  [latar, belakang, pengalaman, prabowo, di, dun...   \n",
       "3  [number, tips, sederhana, untuk, memulai, ruti...   \n",
       "4  [sebagai, informasi, mandatory, serum, infused...   \n",
       "5  [rt, user, sobat, hijau, pemerintah, indonesia...   \n",
       "6  [rt, user, video, musik, the, astronaut, menun...   \n",
       "7  [world, justice, project, wjp, organisasi, yan...   \n",
       "8  [redam, masalah, air, srikandi, ganjar, bangun...   \n",
       "9  [rt, user, ia, menyerukan, kepada, para, mahas...   \n",
       "\n",
       "                                              step02  \n",
       "0  user wah cocok ne gw dukung number menang di b...  \n",
       "1  belasan perusahaan di wilayah kota tasikmalaya...  \n",
       "2  latar belakang pengalaman prabowo di dunia mil...  \n",
       "3  number tips sederhana untuk memulai rutininas ...  \n",
       "4  sebagai informasi mandatory serum infused brig...  \n",
       "5  rt user sobat hijau pemerintah indonesia melal...  \n",
       "6  rt user video musik the astronaut menunjukkan ...  \n",
       "7  world justice project wjp organisasi yang berg...  \n",
       "8  redam masalah air srikandi ganjar bangun sumur...  \n",
       "9  rt user ia menyerukan kepada para mahasiswa un...  "
      ]
     },
     "execution_count": 42,
     "metadata": {},
     "output_type": "execute_result"
    }
   ],
   "source": [
    "df_new.head(10)"
   ]
  },
  {
   "cell_type": "markdown",
   "metadata": {},
   "source": [
    "## simpan file terlebih dahulu"
   ]
  },
  {
   "cell_type": "code",
   "execution_count": 43,
   "metadata": {},
   "outputs": [],
   "source": [
    "df_new.to_csv('clean_dataset_uts_part01.csv',sep=\";\")"
   ]
  },
  {
   "cell_type": "markdown",
   "metadata": {},
   "source": [
    "# Stemming menggunakan Sastrawi"
   ]
  },
  {
   "cell_type": "markdown",
   "metadata": {},
   "source": [
    "## load dataset"
   ]
  },
  {
   "cell_type": "code",
   "execution_count": 44,
   "metadata": {},
   "outputs": [],
   "source": [
    "import pandas as pd"
   ]
  },
  {
   "cell_type": "code",
   "execution_count": 45,
   "metadata": {},
   "outputs": [],
   "source": [
    "dataset = pd.read_csv('clean_dataset_uts_part01.csv', sep=';')"
   ]
  },
  {
   "cell_type": "code",
   "execution_count": 46,
   "metadata": {
    "scrolled": true
   },
   "outputs": [
    {
     "data": {
      "text/html": [
       "<div>\n",
       "<style scoped>\n",
       "    .dataframe tbody tr th:only-of-type {\n",
       "        vertical-align: middle;\n",
       "    }\n",
       "\n",
       "    .dataframe tbody tr th {\n",
       "        vertical-align: top;\n",
       "    }\n",
       "\n",
       "    .dataframe thead th {\n",
       "        text-align: right;\n",
       "    }\n",
       "</style>\n",
       "<table border=\"1\" class=\"dataframe\">\n",
       "  <thead>\n",
       "    <tr style=\"text-align: right;\">\n",
       "      <th></th>\n",
       "      <th>Unnamed: 0.1</th>\n",
       "      <th>Unnamed: 0</th>\n",
       "      <th>pengguna</th>\n",
       "      <th>Tweets</th>\n",
       "      <th>sentimen</th>\n",
       "      <th>step01</th>\n",
       "      <th>tokens</th>\n",
       "      <th>final_tokens</th>\n",
       "      <th>step02</th>\n",
       "    </tr>\n",
       "  </thead>\n",
       "  <tbody>\n",
       "    <tr>\n",
       "      <th>0</th>\n",
       "      <td>0</td>\n",
       "      <td>0</td>\n",
       "      <td>OtterAng</td>\n",
       "      <td>@mediaindonesia Wah cocok ne, gw dukung 2024 m...</td>\n",
       "      <td>0</td>\n",
       "      <td>user wah cocok ne gw dukung number menang di b...</td>\n",
       "      <td>['user', 'wah', 'cocok', 'ne', 'gw', 'dukung',...</td>\n",
       "      <td>['user', 'wah', 'cocok', 'ne', 'gw', 'dukung',...</td>\n",
       "      <td>user wah cocok ne gw dukung number menang di b...</td>\n",
       "    </tr>\n",
       "    <tr>\n",
       "      <th>1</th>\n",
       "      <td>1</td>\n",
       "      <td>1</td>\n",
       "      <td>mediaindonesia</td>\n",
       "      <td>Belasan perusahaan di wilayah Kota Tasikmalaya...</td>\n",
       "      <td>0</td>\n",
       "      <td>belasan perusahaan di wilayah kota tasikmalaya...</td>\n",
       "      <td>['belasan', 'perusahaan', 'di', 'wilayah', 'ko...</td>\n",
       "      <td>['belasan', 'perusahaan', 'di', 'wilayah', 'ko...</td>\n",
       "      <td>belasan perusahaan di wilayah kota tasikmalaya...</td>\n",
       "    </tr>\n",
       "    <tr>\n",
       "      <th>2</th>\n",
       "      <td>2</td>\n",
       "      <td>2</td>\n",
       "      <td>mediaindonesia</td>\n",
       "      <td>Latar belakang pengalaman Prabowo di dunia mil...</td>\n",
       "      <td>0</td>\n",
       "      <td>latar belakang pengalaman prabowo di dunia mil...</td>\n",
       "      <td>['latar', 'belakang', 'pengalaman', 'prabowo',...</td>\n",
       "      <td>['latar', 'belakang', 'pengalaman', 'prabowo',...</td>\n",
       "      <td>latar belakang pengalaman prabowo di dunia mil...</td>\n",
       "    </tr>\n",
       "    <tr>\n",
       "      <th>3</th>\n",
       "      <td>3</td>\n",
       "      <td>3</td>\n",
       "      <td>mediaindonesia</td>\n",
       "      <td>9 Tips Sederhana untuk Memulai Rutininas Olahr...</td>\n",
       "      <td>0</td>\n",
       "      <td>number tips sederhana untuk memulai rutininas ...</td>\n",
       "      <td>['number', 'tips', 'sederhana', 'untuk', 'memu...</td>\n",
       "      <td>['number', 'tips', 'sederhana', 'untuk', 'memu...</td>\n",
       "      <td>number tips sederhana untuk memulai rutininas ...</td>\n",
       "    </tr>\n",
       "    <tr>\n",
       "      <th>4</th>\n",
       "      <td>4</td>\n",
       "      <td>4</td>\n",
       "      <td>mediaindonesia</td>\n",
       "      <td>Sebagai informasi, Mandatory Serum Infused Bri...</td>\n",
       "      <td>0</td>\n",
       "      <td>sebagai informasi mandatory serum infused brig...</td>\n",
       "      <td>['sebagai', 'informasi', 'mandatory', 'serum',...</td>\n",
       "      <td>['sebagai', 'informasi', 'mandatory', 'serum',...</td>\n",
       "      <td>sebagai informasi mandatory serum infused brig...</td>\n",
       "    </tr>\n",
       "  </tbody>\n",
       "</table>\n",
       "</div>"
      ],
      "text/plain": [
       "   Unnamed: 0.1  Unnamed: 0        pengguna  \\\n",
       "0             0           0        OtterAng   \n",
       "1             1           1  mediaindonesia   \n",
       "2             2           2  mediaindonesia   \n",
       "3             3           3  mediaindonesia   \n",
       "4             4           4  mediaindonesia   \n",
       "\n",
       "                                              Tweets  sentimen  \\\n",
       "0  @mediaindonesia Wah cocok ne, gw dukung 2024 m...         0   \n",
       "1  Belasan perusahaan di wilayah Kota Tasikmalaya...         0   \n",
       "2  Latar belakang pengalaman Prabowo di dunia mil...         0   \n",
       "3  9 Tips Sederhana untuk Memulai Rutininas Olahr...         0   \n",
       "4  Sebagai informasi, Mandatory Serum Infused Bri...         0   \n",
       "\n",
       "                                              step01  \\\n",
       "0  user wah cocok ne gw dukung number menang di b...   \n",
       "1  belasan perusahaan di wilayah kota tasikmalaya...   \n",
       "2  latar belakang pengalaman prabowo di dunia mil...   \n",
       "3  number tips sederhana untuk memulai rutininas ...   \n",
       "4  sebagai informasi mandatory serum infused brig...   \n",
       "\n",
       "                                              tokens  \\\n",
       "0  ['user', 'wah', 'cocok', 'ne', 'gw', 'dukung',...   \n",
       "1  ['belasan', 'perusahaan', 'di', 'wilayah', 'ko...   \n",
       "2  ['latar', 'belakang', 'pengalaman', 'prabowo',...   \n",
       "3  ['number', 'tips', 'sederhana', 'untuk', 'memu...   \n",
       "4  ['sebagai', 'informasi', 'mandatory', 'serum',...   \n",
       "\n",
       "                                        final_tokens  \\\n",
       "0  ['user', 'wah', 'cocok', 'ne', 'gw', 'dukung',...   \n",
       "1  ['belasan', 'perusahaan', 'di', 'wilayah', 'ko...   \n",
       "2  ['latar', 'belakang', 'pengalaman', 'prabowo',...   \n",
       "3  ['number', 'tips', 'sederhana', 'untuk', 'memu...   \n",
       "4  ['sebagai', 'informasi', 'mandatory', 'serum',...   \n",
       "\n",
       "                                              step02  \n",
       "0  user wah cocok ne gw dukung number menang di b...  \n",
       "1  belasan perusahaan di wilayah kota tasikmalaya...  \n",
       "2  latar belakang pengalaman prabowo di dunia mil...  \n",
       "3  number tips sederhana untuk memulai rutininas ...  \n",
       "4  sebagai informasi mandatory serum infused brig...  "
      ]
     },
     "execution_count": 46,
     "metadata": {},
     "output_type": "execute_result"
    }
   ],
   "source": [
    "dataset.head()"
   ]
  },
  {
   "cell_type": "markdown",
   "metadata": {},
   "source": [
    "### Load sastrawi sebagai stemmer"
   ]
  },
  {
   "cell_type": "code",
   "execution_count": 47,
   "metadata": {},
   "outputs": [],
   "source": [
    "from Sastrawi.Stemmer.StemmerFactory import StemmerFactory\n",
    "factory = StemmerFactory()\n",
    "stemmer = factory.create_stemmer()"
   ]
  },
  {
   "cell_type": "markdown",
   "metadata": {},
   "source": [
    "## Hapus stopwords"
   ]
  },
  {
   "cell_type": "code",
   "execution_count": 48,
   "metadata": {},
   "outputs": [],
   "source": [
    "from Sastrawi.StopWordRemover.StopWordRemoverFactory import StopWordRemoverFactory, StopWordRemover, ArrayDictionary\n",
    " \n",
    "factory = StopWordRemoverFactory()\n",
    "\n",
    "more_stopword = ['sih', 'nya','rt','loh','lah', 'dd', 'mah', 'nye', 'eh', 'ehh', 'ah', 'yang','yg']\n",
    " \n",
    "# Tambahkan Stopword Baru\n",
    "data = factory.get_stop_words()+more_stopword\n",
    "\n",
    "stopwords_sastrawi = factory.create_stop_word_remover()\n",
    "\n",
    "dictionary = ArrayDictionary(data)\n",
    "str_stopwords = StopWordRemover(dictionary)"
   ]
  },
  {
   "cell_type": "code",
   "execution_count": 49,
   "metadata": {},
   "outputs": [],
   "source": [
    "dataset['step02'] = dataset['step02'].apply(str)"
   ]
  },
  {
   "cell_type": "code",
   "execution_count": 50,
   "metadata": {},
   "outputs": [
    {
     "data": {
      "text/html": [
       "<div>\n",
       "<style scoped>\n",
       "    .dataframe tbody tr th:only-of-type {\n",
       "        vertical-align: middle;\n",
       "    }\n",
       "\n",
       "    .dataframe tbody tr th {\n",
       "        vertical-align: top;\n",
       "    }\n",
       "\n",
       "    .dataframe thead th {\n",
       "        text-align: right;\n",
       "    }\n",
       "</style>\n",
       "<table border=\"1\" class=\"dataframe\">\n",
       "  <thead>\n",
       "    <tr style=\"text-align: right;\">\n",
       "      <th></th>\n",
       "      <th>Unnamed: 0</th>\n",
       "      <th>pengguna</th>\n",
       "      <th>Tweets</th>\n",
       "      <th>sentimen</th>\n",
       "      <th>step01</th>\n",
       "      <th>tokens</th>\n",
       "      <th>final_tokens</th>\n",
       "      <th>step02</th>\n",
       "    </tr>\n",
       "  </thead>\n",
       "  <tbody>\n",
       "    <tr>\n",
       "      <th>0</th>\n",
       "      <td>0</td>\n",
       "      <td>OtterAng</td>\n",
       "      <td>@mediaindonesia Wah cocok ne, gw dukung 2024 m...</td>\n",
       "      <td>0</td>\n",
       "      <td>user wah cocok ne gw dukung number menang di b...</td>\n",
       "      <td>[user, wah, cocok, ne, gw, dukung, number, men...</td>\n",
       "      <td>[user, wah, cocok, ne, gw, dukung, number, men...</td>\n",
       "      <td>user wah cocok ne gw dukung number menang di b...</td>\n",
       "    </tr>\n",
       "    <tr>\n",
       "      <th>1</th>\n",
       "      <td>1</td>\n",
       "      <td>mediaindonesia</td>\n",
       "      <td>Belasan perusahaan di wilayah Kota Tasikmalaya...</td>\n",
       "      <td>0</td>\n",
       "      <td>belasan perusahaan di wilayah kota tasikmalaya...</td>\n",
       "      <td>[belasan, perusahaan, di, wilayah, kota, tasik...</td>\n",
       "      <td>[belasan, perusahaan, di, wilayah, kota, tasik...</td>\n",
       "      <td>belasan perusahaan di wilayah kota tasikmalaya...</td>\n",
       "    </tr>\n",
       "    <tr>\n",
       "      <th>2</th>\n",
       "      <td>2</td>\n",
       "      <td>mediaindonesia</td>\n",
       "      <td>Latar belakang pengalaman Prabowo di dunia mil...</td>\n",
       "      <td>0</td>\n",
       "      <td>latar belakang pengalaman prabowo di dunia mil...</td>\n",
       "      <td>[latar, belakang, pengalaman, prabowo, di, dun...</td>\n",
       "      <td>[latar, belakang, pengalaman, prabowo, di, dun...</td>\n",
       "      <td>latar belakang pengalaman prabowo di dunia mil...</td>\n",
       "    </tr>\n",
       "    <tr>\n",
       "      <th>3</th>\n",
       "      <td>3</td>\n",
       "      <td>mediaindonesia</td>\n",
       "      <td>9 Tips Sederhana untuk Memulai Rutininas Olahr...</td>\n",
       "      <td>0</td>\n",
       "      <td>number tips sederhana untuk memulai rutininas ...</td>\n",
       "      <td>[number, tips, sederhana, untuk, memulai, ruti...</td>\n",
       "      <td>[number, tips, sederhana, untuk, memulai, ruti...</td>\n",
       "      <td>number tips sederhana untuk memulai rutininas ...</td>\n",
       "    </tr>\n",
       "    <tr>\n",
       "      <th>4</th>\n",
       "      <td>4</td>\n",
       "      <td>mediaindonesia</td>\n",
       "      <td>Sebagai informasi, Mandatory Serum Infused Bri...</td>\n",
       "      <td>0</td>\n",
       "      <td>sebagai informasi mandatory serum infused brig...</td>\n",
       "      <td>[sebagai, informasi, mandatory, serum, infused...</td>\n",
       "      <td>[sebagai, informasi, mandatory, serum, infused...</td>\n",
       "      <td>sebagai informasi mandatory serum infused brig...</td>\n",
       "    </tr>\n",
       "  </tbody>\n",
       "</table>\n",
       "</div>"
      ],
      "text/plain": [
       "   Unnamed: 0        pengguna  \\\n",
       "0           0        OtterAng   \n",
       "1           1  mediaindonesia   \n",
       "2           2  mediaindonesia   \n",
       "3           3  mediaindonesia   \n",
       "4           4  mediaindonesia   \n",
       "\n",
       "                                              Tweets  sentimen  \\\n",
       "0  @mediaindonesia Wah cocok ne, gw dukung 2024 m...         0   \n",
       "1  Belasan perusahaan di wilayah Kota Tasikmalaya...         0   \n",
       "2  Latar belakang pengalaman Prabowo di dunia mil...         0   \n",
       "3  9 Tips Sederhana untuk Memulai Rutininas Olahr...         0   \n",
       "4  Sebagai informasi, Mandatory Serum Infused Bri...         0   \n",
       "\n",
       "                                              step01  \\\n",
       "0  user wah cocok ne gw dukung number menang di b...   \n",
       "1  belasan perusahaan di wilayah kota tasikmalaya...   \n",
       "2  latar belakang pengalaman prabowo di dunia mil...   \n",
       "3  number tips sederhana untuk memulai rutininas ...   \n",
       "4  sebagai informasi mandatory serum infused brig...   \n",
       "\n",
       "                                              tokens  \\\n",
       "0  [user, wah, cocok, ne, gw, dukung, number, men...   \n",
       "1  [belasan, perusahaan, di, wilayah, kota, tasik...   \n",
       "2  [latar, belakang, pengalaman, prabowo, di, dun...   \n",
       "3  [number, tips, sederhana, untuk, memulai, ruti...   \n",
       "4  [sebagai, informasi, mandatory, serum, infused...   \n",
       "\n",
       "                                        final_tokens  \\\n",
       "0  [user, wah, cocok, ne, gw, dukung, number, men...   \n",
       "1  [belasan, perusahaan, di, wilayah, kota, tasik...   \n",
       "2  [latar, belakang, pengalaman, prabowo, di, dun...   \n",
       "3  [number, tips, sederhana, untuk, memulai, ruti...   \n",
       "4  [sebagai, informasi, mandatory, serum, infused...   \n",
       "\n",
       "                                              step02  \n",
       "0  user wah cocok ne gw dukung number menang di b...  \n",
       "1  belasan perusahaan di wilayah kota tasikmalaya...  \n",
       "2  latar belakang pengalaman prabowo di dunia mil...  \n",
       "3  number tips sederhana untuk memulai rutininas ...  \n",
       "4  sebagai informasi mandatory serum infused brig...  "
      ]
     },
     "execution_count": 50,
     "metadata": {},
     "output_type": "execute_result"
    }
   ],
   "source": [
    "df_new.head()"
   ]
  },
  {
   "cell_type": "code",
   "execution_count": 51,
   "metadata": {},
   "outputs": [],
   "source": [
    "i=0\n",
    "final_string = []\n",
    "s = \"\"\n",
    "for sentence in df_new[\"step02\"].values:\n",
    "    filteredSentence = []\n",
    "    EachReviewText = \"\"\n",
    "    st = stopwords_sastrawi.remove(sentence)\n",
    "    s = (stemmer.stem(st))\n",
    "    filteredSentence.append(s)\n",
    "    \n",
    "    EachReviewText = ' '.join(filteredSentence)\n",
    "    final_string.append(EachReviewText)"
   ]
  },
  {
   "cell_type": "code",
   "execution_count": 52,
   "metadata": {},
   "outputs": [],
   "source": [
    "df_new.loc[:, ('ProcessedText')] = final_string"
   ]
  },
  {
   "cell_type": "code",
   "execution_count": 53,
   "metadata": {},
   "outputs": [
    {
     "data": {
      "text/html": [
       "<div>\n",
       "<style scoped>\n",
       "    .dataframe tbody tr th:only-of-type {\n",
       "        vertical-align: middle;\n",
       "    }\n",
       "\n",
       "    .dataframe tbody tr th {\n",
       "        vertical-align: top;\n",
       "    }\n",
       "\n",
       "    .dataframe thead th {\n",
       "        text-align: right;\n",
       "    }\n",
       "</style>\n",
       "<table border=\"1\" class=\"dataframe\">\n",
       "  <thead>\n",
       "    <tr style=\"text-align: right;\">\n",
       "      <th></th>\n",
       "      <th>Unnamed: 0</th>\n",
       "      <th>pengguna</th>\n",
       "      <th>Tweets</th>\n",
       "      <th>sentimen</th>\n",
       "      <th>step01</th>\n",
       "      <th>tokens</th>\n",
       "      <th>final_tokens</th>\n",
       "      <th>step02</th>\n",
       "      <th>ProcessedText</th>\n",
       "    </tr>\n",
       "  </thead>\n",
       "  <tbody>\n",
       "    <tr>\n",
       "      <th>0</th>\n",
       "      <td>0</td>\n",
       "      <td>OtterAng</td>\n",
       "      <td>@mediaindonesia Wah cocok ne, gw dukung 2024 m...</td>\n",
       "      <td>0</td>\n",
       "      <td>user wah cocok ne gw dukung number menang di b...</td>\n",
       "      <td>[user, wah, cocok, ne, gw, dukung, number, men...</td>\n",
       "      <td>[user, wah, cocok, ne, gw, dukung, number, men...</td>\n",
       "      <td>user wah cocok ne gw dukung number menang di b...</td>\n",
       "      <td>user wah cocok ne gw dukung number menang bala...</td>\n",
       "    </tr>\n",
       "    <tr>\n",
       "      <th>1</th>\n",
       "      <td>1</td>\n",
       "      <td>mediaindonesia</td>\n",
       "      <td>Belasan perusahaan di wilayah Kota Tasikmalaya...</td>\n",
       "      <td>0</td>\n",
       "      <td>belasan perusahaan di wilayah kota tasikmalaya...</td>\n",
       "      <td>[belasan, perusahaan, di, wilayah, kota, tasik...</td>\n",
       "      <td>[belasan, perusahaan, di, wilayah, kota, tasik...</td>\n",
       "      <td>belasan perusahaan di wilayah kota tasikmalaya...</td>\n",
       "      <td>bas usaha wilayah kota tasikmalaya jawa barat ...</td>\n",
       "    </tr>\n",
       "    <tr>\n",
       "      <th>2</th>\n",
       "      <td>2</td>\n",
       "      <td>mediaindonesia</td>\n",
       "      <td>Latar belakang pengalaman Prabowo di dunia mil...</td>\n",
       "      <td>0</td>\n",
       "      <td>latar belakang pengalaman prabowo di dunia mil...</td>\n",
       "      <td>[latar, belakang, pengalaman, prabowo, di, dun...</td>\n",
       "      <td>[latar, belakang, pengalaman, prabowo, di, dun...</td>\n",
       "      <td>latar belakang pengalaman prabowo di dunia mil...</td>\n",
       "      <td>latar belakang alam prabowo dunia militer jadi...</td>\n",
       "    </tr>\n",
       "    <tr>\n",
       "      <th>3</th>\n",
       "      <td>3</td>\n",
       "      <td>mediaindonesia</td>\n",
       "      <td>9 Tips Sederhana untuk Memulai Rutininas Olahr...</td>\n",
       "      <td>0</td>\n",
       "      <td>number tips sederhana untuk memulai rutininas ...</td>\n",
       "      <td>[number, tips, sederhana, untuk, memulai, ruti...</td>\n",
       "      <td>[number, tips, sederhana, untuk, memulai, ruti...</td>\n",
       "      <td>number tips sederhana untuk memulai rutininas ...</td>\n",
       "      <td>number tips sederhana mulai rutininas olahraga...</td>\n",
       "    </tr>\n",
       "    <tr>\n",
       "      <th>4</th>\n",
       "      <td>4</td>\n",
       "      <td>mediaindonesia</td>\n",
       "      <td>Sebagai informasi, Mandatory Serum Infused Bri...</td>\n",
       "      <td>0</td>\n",
       "      <td>sebagai informasi mandatory serum infused brig...</td>\n",
       "      <td>[sebagai, informasi, mandatory, serum, infused...</td>\n",
       "      <td>[sebagai, informasi, mandatory, serum, infused...</td>\n",
       "      <td>sebagai informasi mandatory serum infused brig...</td>\n",
       "      <td>informasi mandatory serum infused brightening ...</td>\n",
       "    </tr>\n",
       "  </tbody>\n",
       "</table>\n",
       "</div>"
      ],
      "text/plain": [
       "   Unnamed: 0        pengguna  \\\n",
       "0           0        OtterAng   \n",
       "1           1  mediaindonesia   \n",
       "2           2  mediaindonesia   \n",
       "3           3  mediaindonesia   \n",
       "4           4  mediaindonesia   \n",
       "\n",
       "                                              Tweets  sentimen  \\\n",
       "0  @mediaindonesia Wah cocok ne, gw dukung 2024 m...         0   \n",
       "1  Belasan perusahaan di wilayah Kota Tasikmalaya...         0   \n",
       "2  Latar belakang pengalaman Prabowo di dunia mil...         0   \n",
       "3  9 Tips Sederhana untuk Memulai Rutininas Olahr...         0   \n",
       "4  Sebagai informasi, Mandatory Serum Infused Bri...         0   \n",
       "\n",
       "                                              step01  \\\n",
       "0  user wah cocok ne gw dukung number menang di b...   \n",
       "1  belasan perusahaan di wilayah kota tasikmalaya...   \n",
       "2  latar belakang pengalaman prabowo di dunia mil...   \n",
       "3  number tips sederhana untuk memulai rutininas ...   \n",
       "4  sebagai informasi mandatory serum infused brig...   \n",
       "\n",
       "                                              tokens  \\\n",
       "0  [user, wah, cocok, ne, gw, dukung, number, men...   \n",
       "1  [belasan, perusahaan, di, wilayah, kota, tasik...   \n",
       "2  [latar, belakang, pengalaman, prabowo, di, dun...   \n",
       "3  [number, tips, sederhana, untuk, memulai, ruti...   \n",
       "4  [sebagai, informasi, mandatory, serum, infused...   \n",
       "\n",
       "                                        final_tokens  \\\n",
       "0  [user, wah, cocok, ne, gw, dukung, number, men...   \n",
       "1  [belasan, perusahaan, di, wilayah, kota, tasik...   \n",
       "2  [latar, belakang, pengalaman, prabowo, di, dun...   \n",
       "3  [number, tips, sederhana, untuk, memulai, ruti...   \n",
       "4  [sebagai, informasi, mandatory, serum, infused...   \n",
       "\n",
       "                                              step02  \\\n",
       "0  user wah cocok ne gw dukung number menang di b...   \n",
       "1  belasan perusahaan di wilayah kota tasikmalaya...   \n",
       "2  latar belakang pengalaman prabowo di dunia mil...   \n",
       "3  number tips sederhana untuk memulai rutininas ...   \n",
       "4  sebagai informasi mandatory serum infused brig...   \n",
       "\n",
       "                                       ProcessedText  \n",
       "0  user wah cocok ne gw dukung number menang bala...  \n",
       "1  bas usaha wilayah kota tasikmalaya jawa barat ...  \n",
       "2  latar belakang alam prabowo dunia militer jadi...  \n",
       "3  number tips sederhana mulai rutininas olahraga...  \n",
       "4  informasi mandatory serum infused brightening ...  "
      ]
     },
     "execution_count": 53,
     "metadata": {},
     "output_type": "execute_result"
    }
   ],
   "source": [
    "df_new.head()"
   ]
  },
  {
   "cell_type": "markdown",
   "metadata": {},
   "source": [
    "## simpan kembali untuk jaga-jaga"
   ]
  },
  {
   "cell_type": "code",
   "execution_count": 54,
   "metadata": {},
   "outputs": [],
   "source": [
    "df_new.to_csv('clean_dataset_uts_part02.csv',sep=\";\")"
   ]
  },
  {
   "cell_type": "markdown",
   "metadata": {},
   "source": [
    "# Penutup bagian preprocessing data\n",
    "\n",
    "disini data sudah bersih, kita akan masuk ke tahap machine learning"
   ]
  },
  {
   "cell_type": "markdown",
   "metadata": {},
   "source": [
    "# Mulai Modelling"
   ]
  },
  {
   "cell_type": "markdown",
   "metadata": {},
   "source": [
    "## bagi menjadi feature dan label"
   ]
  },
  {
   "cell_type": "markdown",
   "metadata": {},
   "source": [
    "### load dataset"
   ]
  },
  {
   "cell_type": "code",
   "execution_count": 55,
   "metadata": {},
   "outputs": [],
   "source": [
    "import pandas as pd\n",
    "import numpy as np"
   ]
  },
  {
   "cell_type": "code",
   "execution_count": 56,
   "metadata": {},
   "outputs": [],
   "source": [
    "dataset = pd.read_csv('clean_dataset_uts_part02.csv',sep=';')"
   ]
  },
  {
   "cell_type": "code",
   "execution_count": 57,
   "metadata": {},
   "outputs": [
    {
     "data": {
      "text/plain": [
       "(96, 10)"
      ]
     },
     "execution_count": 57,
     "metadata": {},
     "output_type": "execute_result"
    }
   ],
   "source": [
    "dataset.shape"
   ]
  },
  {
   "cell_type": "code",
   "execution_count": 58,
   "metadata": {},
   "outputs": [
    {
     "data": {
      "text/html": [
       "<div>\n",
       "<style scoped>\n",
       "    .dataframe tbody tr th:only-of-type {\n",
       "        vertical-align: middle;\n",
       "    }\n",
       "\n",
       "    .dataframe tbody tr th {\n",
       "        vertical-align: top;\n",
       "    }\n",
       "\n",
       "    .dataframe thead th {\n",
       "        text-align: right;\n",
       "    }\n",
       "</style>\n",
       "<table border=\"1\" class=\"dataframe\">\n",
       "  <thead>\n",
       "    <tr style=\"text-align: right;\">\n",
       "      <th></th>\n",
       "      <th>Unnamed: 0.1</th>\n",
       "      <th>Unnamed: 0</th>\n",
       "      <th>pengguna</th>\n",
       "      <th>Tweets</th>\n",
       "      <th>sentimen</th>\n",
       "      <th>step01</th>\n",
       "      <th>tokens</th>\n",
       "      <th>final_tokens</th>\n",
       "      <th>step02</th>\n",
       "      <th>ProcessedText</th>\n",
       "    </tr>\n",
       "  </thead>\n",
       "  <tbody>\n",
       "    <tr>\n",
       "      <th>0</th>\n",
       "      <td>0</td>\n",
       "      <td>0</td>\n",
       "      <td>OtterAng</td>\n",
       "      <td>@mediaindonesia Wah cocok ne, gw dukung 2024 m...</td>\n",
       "      <td>0</td>\n",
       "      <td>user wah cocok ne gw dukung number menang di b...</td>\n",
       "      <td>['user', 'wah', 'cocok', 'ne', 'gw', 'dukung',...</td>\n",
       "      <td>['user', 'wah', 'cocok', 'ne', 'gw', 'dukung',...</td>\n",
       "      <td>user wah cocok ne gw dukung number menang di b...</td>\n",
       "      <td>user wah cocok ne gw dukung number menang bala...</td>\n",
       "    </tr>\n",
       "    <tr>\n",
       "      <th>1</th>\n",
       "      <td>1</td>\n",
       "      <td>1</td>\n",
       "      <td>mediaindonesia</td>\n",
       "      <td>Belasan perusahaan di wilayah Kota Tasikmalaya...</td>\n",
       "      <td>0</td>\n",
       "      <td>belasan perusahaan di wilayah kota tasikmalaya...</td>\n",
       "      <td>['belasan', 'perusahaan', 'di', 'wilayah', 'ko...</td>\n",
       "      <td>['belasan', 'perusahaan', 'di', 'wilayah', 'ko...</td>\n",
       "      <td>belasan perusahaan di wilayah kota tasikmalaya...</td>\n",
       "      <td>bas usaha wilayah kota tasikmalaya jawa barat ...</td>\n",
       "    </tr>\n",
       "    <tr>\n",
       "      <th>2</th>\n",
       "      <td>2</td>\n",
       "      <td>2</td>\n",
       "      <td>mediaindonesia</td>\n",
       "      <td>Latar belakang pengalaman Prabowo di dunia mil...</td>\n",
       "      <td>0</td>\n",
       "      <td>latar belakang pengalaman prabowo di dunia mil...</td>\n",
       "      <td>['latar', 'belakang', 'pengalaman', 'prabowo',...</td>\n",
       "      <td>['latar', 'belakang', 'pengalaman', 'prabowo',...</td>\n",
       "      <td>latar belakang pengalaman prabowo di dunia mil...</td>\n",
       "      <td>latar belakang alam prabowo dunia militer jadi...</td>\n",
       "    </tr>\n",
       "    <tr>\n",
       "      <th>3</th>\n",
       "      <td>3</td>\n",
       "      <td>3</td>\n",
       "      <td>mediaindonesia</td>\n",
       "      <td>9 Tips Sederhana untuk Memulai Rutininas Olahr...</td>\n",
       "      <td>0</td>\n",
       "      <td>number tips sederhana untuk memulai rutininas ...</td>\n",
       "      <td>['number', 'tips', 'sederhana', 'untuk', 'memu...</td>\n",
       "      <td>['number', 'tips', 'sederhana', 'untuk', 'memu...</td>\n",
       "      <td>number tips sederhana untuk memulai rutininas ...</td>\n",
       "      <td>number tips sederhana mulai rutininas olahraga...</td>\n",
       "    </tr>\n",
       "    <tr>\n",
       "      <th>4</th>\n",
       "      <td>4</td>\n",
       "      <td>4</td>\n",
       "      <td>mediaindonesia</td>\n",
       "      <td>Sebagai informasi, Mandatory Serum Infused Bri...</td>\n",
       "      <td>0</td>\n",
       "      <td>sebagai informasi mandatory serum infused brig...</td>\n",
       "      <td>['sebagai', 'informasi', 'mandatory', 'serum',...</td>\n",
       "      <td>['sebagai', 'informasi', 'mandatory', 'serum',...</td>\n",
       "      <td>sebagai informasi mandatory serum infused brig...</td>\n",
       "      <td>informasi mandatory serum infused brightening ...</td>\n",
       "    </tr>\n",
       "    <tr>\n",
       "      <th>5</th>\n",
       "      <td>5</td>\n",
       "      <td>5</td>\n",
       "      <td>mediaindonesia</td>\n",
       "      <td>RT @KementerianLHK: Sobat Hijau, Pemerintah In...</td>\n",
       "      <td>-1</td>\n",
       "      <td>rt user sobat hijau pemerintah indonesia melal...</td>\n",
       "      <td>['rt', 'user', 'sobat', 'hijau', 'pemerintah',...</td>\n",
       "      <td>['rt', 'user', 'sobat', 'hijau', 'pemerintah',...</td>\n",
       "      <td>rt user sobat hijau pemerintah indonesia melal...</td>\n",
       "      <td>rt user sobat hijau perintah indonesia lalu me...</td>\n",
       "    </tr>\n",
       "    <tr>\n",
       "      <th>6</th>\n",
       "      <td>6</td>\n",
       "      <td>6</td>\n",
       "      <td>JinkimJo</td>\n",
       "      <td>RT @mediaindonesia: Video musik The Astronaut ...</td>\n",
       "      <td>0</td>\n",
       "      <td>rt user video musik the astronaut menunjukkan ...</td>\n",
       "      <td>['rt', 'user', 'video', 'musik', 'the', 'astro...</td>\n",
       "      <td>['rt', 'user', 'video', 'musik', 'the', 'astro...</td>\n",
       "      <td>rt user video musik the astronaut menunjukkan ...</td>\n",
       "      <td>rt user video musik the astronaut tunjuk peson...</td>\n",
       "    </tr>\n",
       "    <tr>\n",
       "      <th>7</th>\n",
       "      <td>7</td>\n",
       "      <td>7</td>\n",
       "      <td>mediaindonesia</td>\n",
       "      <td>World Justice Project (WJP), organisasi yang b...</td>\n",
       "      <td>0</td>\n",
       "      <td>world justice project wjp organisasi yang berg...</td>\n",
       "      <td>['world', 'justice', 'project', 'wjp', 'organi...</td>\n",
       "      <td>['world', 'justice', 'project', 'wjp', 'organi...</td>\n",
       "      <td>world justice project wjp organisasi yang berg...</td>\n",
       "      <td>world justice project wjp organisasi gerak maj...</td>\n",
       "    </tr>\n",
       "    <tr>\n",
       "      <th>8</th>\n",
       "      <td>8</td>\n",
       "      <td>8</td>\n",
       "      <td>cocoblogger</td>\n",
       "      <td>Redam Masalah Air, Srikandi Ganjar Bangun Sumu...</td>\n",
       "      <td>0</td>\n",
       "      <td>redam masalah air srikandi ganjar bangun sumur...</td>\n",
       "      <td>['redam', 'masalah', 'air', 'srikandi', 'ganja...</td>\n",
       "      <td>['redam', 'masalah', 'air', 'srikandi', 'ganja...</td>\n",
       "      <td>redam masalah air srikandi ganjar bangun sumur...</td>\n",
       "      <td>redam masalah air srikandi ganjar bangun sumur...</td>\n",
       "    </tr>\n",
       "    <tr>\n",
       "      <th>9</th>\n",
       "      <td>9</td>\n",
       "      <td>9</td>\n",
       "      <td>kokokdirgantoro</td>\n",
       "      <td>RT @mediaindonesia: Ia menyerukan kepada para ...</td>\n",
       "      <td>0</td>\n",
       "      <td>rt user ia menyerukan kepada para mahasiswa un...</td>\n",
       "      <td>['rt', 'user', 'ia', 'menyerukan', 'kepada', '...</td>\n",
       "      <td>['rt', 'user', 'ia', 'menyerukan', 'kepada', '...</td>\n",
       "      <td>rt user ia menyerukan kepada para mahasiswa un...</td>\n",
       "      <td>rt user seru para mahasiswa jadi kuat ubah com...</td>\n",
       "    </tr>\n",
       "  </tbody>\n",
       "</table>\n",
       "</div>"
      ],
      "text/plain": [
       "   Unnamed: 0.1  Unnamed: 0         pengguna  \\\n",
       "0             0           0         OtterAng   \n",
       "1             1           1   mediaindonesia   \n",
       "2             2           2   mediaindonesia   \n",
       "3             3           3   mediaindonesia   \n",
       "4             4           4   mediaindonesia   \n",
       "5             5           5   mediaindonesia   \n",
       "6             6           6         JinkimJo   \n",
       "7             7           7   mediaindonesia   \n",
       "8             8           8      cocoblogger   \n",
       "9             9           9  kokokdirgantoro   \n",
       "\n",
       "                                              Tweets  sentimen  \\\n",
       "0  @mediaindonesia Wah cocok ne, gw dukung 2024 m...         0   \n",
       "1  Belasan perusahaan di wilayah Kota Tasikmalaya...         0   \n",
       "2  Latar belakang pengalaman Prabowo di dunia mil...         0   \n",
       "3  9 Tips Sederhana untuk Memulai Rutininas Olahr...         0   \n",
       "4  Sebagai informasi, Mandatory Serum Infused Bri...         0   \n",
       "5  RT @KementerianLHK: Sobat Hijau, Pemerintah In...        -1   \n",
       "6  RT @mediaindonesia: Video musik The Astronaut ...         0   \n",
       "7  World Justice Project (WJP), organisasi yang b...         0   \n",
       "8  Redam Masalah Air, Srikandi Ganjar Bangun Sumu...         0   \n",
       "9  RT @mediaindonesia: Ia menyerukan kepada para ...         0   \n",
       "\n",
       "                                              step01  \\\n",
       "0  user wah cocok ne gw dukung number menang di b...   \n",
       "1  belasan perusahaan di wilayah kota tasikmalaya...   \n",
       "2  latar belakang pengalaman prabowo di dunia mil...   \n",
       "3  number tips sederhana untuk memulai rutininas ...   \n",
       "4  sebagai informasi mandatory serum infused brig...   \n",
       "5  rt user sobat hijau pemerintah indonesia melal...   \n",
       "6  rt user video musik the astronaut menunjukkan ...   \n",
       "7  world justice project wjp organisasi yang berg...   \n",
       "8  redam masalah air srikandi ganjar bangun sumur...   \n",
       "9  rt user ia menyerukan kepada para mahasiswa un...   \n",
       "\n",
       "                                              tokens  \\\n",
       "0  ['user', 'wah', 'cocok', 'ne', 'gw', 'dukung',...   \n",
       "1  ['belasan', 'perusahaan', 'di', 'wilayah', 'ko...   \n",
       "2  ['latar', 'belakang', 'pengalaman', 'prabowo',...   \n",
       "3  ['number', 'tips', 'sederhana', 'untuk', 'memu...   \n",
       "4  ['sebagai', 'informasi', 'mandatory', 'serum',...   \n",
       "5  ['rt', 'user', 'sobat', 'hijau', 'pemerintah',...   \n",
       "6  ['rt', 'user', 'video', 'musik', 'the', 'astro...   \n",
       "7  ['world', 'justice', 'project', 'wjp', 'organi...   \n",
       "8  ['redam', 'masalah', 'air', 'srikandi', 'ganja...   \n",
       "9  ['rt', 'user', 'ia', 'menyerukan', 'kepada', '...   \n",
       "\n",
       "                                        final_tokens  \\\n",
       "0  ['user', 'wah', 'cocok', 'ne', 'gw', 'dukung',...   \n",
       "1  ['belasan', 'perusahaan', 'di', 'wilayah', 'ko...   \n",
       "2  ['latar', 'belakang', 'pengalaman', 'prabowo',...   \n",
       "3  ['number', 'tips', 'sederhana', 'untuk', 'memu...   \n",
       "4  ['sebagai', 'informasi', 'mandatory', 'serum',...   \n",
       "5  ['rt', 'user', 'sobat', 'hijau', 'pemerintah',...   \n",
       "6  ['rt', 'user', 'video', 'musik', 'the', 'astro...   \n",
       "7  ['world', 'justice', 'project', 'wjp', 'organi...   \n",
       "8  ['redam', 'masalah', 'air', 'srikandi', 'ganja...   \n",
       "9  ['rt', 'user', 'ia', 'menyerukan', 'kepada', '...   \n",
       "\n",
       "                                              step02  \\\n",
       "0  user wah cocok ne gw dukung number menang di b...   \n",
       "1  belasan perusahaan di wilayah kota tasikmalaya...   \n",
       "2  latar belakang pengalaman prabowo di dunia mil...   \n",
       "3  number tips sederhana untuk memulai rutininas ...   \n",
       "4  sebagai informasi mandatory serum infused brig...   \n",
       "5  rt user sobat hijau pemerintah indonesia melal...   \n",
       "6  rt user video musik the astronaut menunjukkan ...   \n",
       "7  world justice project wjp organisasi yang berg...   \n",
       "8  redam masalah air srikandi ganjar bangun sumur...   \n",
       "9  rt user ia menyerukan kepada para mahasiswa un...   \n",
       "\n",
       "                                       ProcessedText  \n",
       "0  user wah cocok ne gw dukung number menang bala...  \n",
       "1  bas usaha wilayah kota tasikmalaya jawa barat ...  \n",
       "2  latar belakang alam prabowo dunia militer jadi...  \n",
       "3  number tips sederhana mulai rutininas olahraga...  \n",
       "4  informasi mandatory serum infused brightening ...  \n",
       "5  rt user sobat hijau perintah indonesia lalu me...  \n",
       "6  rt user video musik the astronaut tunjuk peson...  \n",
       "7  world justice project wjp organisasi gerak maj...  \n",
       "8  redam masalah air srikandi ganjar bangun sumur...  \n",
       "9  rt user seru para mahasiswa jadi kuat ubah com...  "
      ]
     },
     "execution_count": 58,
     "metadata": {},
     "output_type": "execute_result"
    }
   ],
   "source": [
    "dataset.head(10)"
   ]
  },
  {
   "cell_type": "code",
   "execution_count": 59,
   "metadata": {},
   "outputs": [],
   "source": [
    "dataset_feature = df_new['ProcessedText']"
   ]
  },
  {
   "cell_type": "code",
   "execution_count": 60,
   "metadata": {},
   "outputs": [],
   "source": [
    "dataset_label = df_new['sentimen']"
   ]
  },
  {
   "cell_type": "code",
   "execution_count": 61,
   "metadata": {},
   "outputs": [
    {
     "data": {
      "text/plain": [
       "0     user wah cocok ne gw dukung number menang bala...\n",
       "1     bas usaha wilayah kota tasikmalaya jawa barat ...\n",
       "2     latar belakang alam prabowo dunia militer jadi...\n",
       "3     number tips sederhana mulai rutininas olahraga...\n",
       "4     informasi mandatory serum infused brightening ...\n",
       "                            ...                        \n",
       "91    bangkit gairah produksi miniatur kapal jadi fo...\n",
       "92    rt user bagai macam alam lama ajar tentu rasa ...\n",
       "93    saiful syahrial litbang tidak cermat baca seja...\n",
       "94    tahu pssi putus cepat laksana klb gelar rapat ...\n",
       "95    riri harap jadi contoh regenerasi masa depan s...\n",
       "Name: ProcessedText, Length: 96, dtype: object"
      ]
     },
     "execution_count": 61,
     "metadata": {},
     "output_type": "execute_result"
    }
   ],
   "source": [
    "dataset_feature"
   ]
  },
  {
   "cell_type": "code",
   "execution_count": 62,
   "metadata": {
    "scrolled": true
   },
   "outputs": [
    {
     "data": {
      "text/plain": [
       "0     0\n",
       "1     0\n",
       "2     0\n",
       "3     0\n",
       "4     0\n",
       "     ..\n",
       "91    0\n",
       "92    0\n",
       "93    0\n",
       "94    0\n",
       "95    0\n",
       "Name: sentimen, Length: 96, dtype: int64"
      ]
     },
     "execution_count": 62,
     "metadata": {},
     "output_type": "execute_result"
    }
   ],
   "source": [
    "dataset_label"
   ]
  },
  {
   "cell_type": "markdown",
   "metadata": {},
   "source": [
    "## Cek Distribusi Data"
   ]
  },
  {
   "cell_type": "code",
   "execution_count": 63,
   "metadata": {
    "scrolled": true
   },
   "outputs": [
    {
     "data": {
      "text/plain": [
       " 0    92\n",
       " 1     3\n",
       "-1     1\n",
       "Name: sentimen, dtype: int64"
      ]
     },
     "execution_count": 63,
     "metadata": {},
     "output_type": "execute_result"
    }
   ],
   "source": [
    "dataset_label.value_counts()"
   ]
  },
  {
   "cell_type": "code",
   "execution_count": 64,
   "metadata": {},
   "outputs": [
    {
     "data": {
      "text/plain": [
       " 0    95.8%\n",
       " 1     3.1%\n",
       "-1     1.0%\n",
       "Name: sentimen, dtype: object"
      ]
     },
     "execution_count": 64,
     "metadata": {},
     "output_type": "execute_result"
    }
   ],
   "source": [
    "dataset_label.value_counts(normalize=True).mul(100).round(1).astype(str) + '%'"
   ]
  },
  {
   "cell_type": "code",
   "execution_count": 65,
   "metadata": {},
   "outputs": [],
   "source": [
    "import matplotlib.pyplot as plt\n",
    "import seaborn as sns\n",
    "%matplotlib inline"
   ]
  },
  {
   "cell_type": "code",
   "execution_count": 66,
   "metadata": {},
   "outputs": [
    {
     "name": "stdout",
     "output_type": "stream",
     "text": [
      "Sumber pembuatan konten:\n",
      "* 0\n",
      "* -1\n",
      "* 1\n"
     ]
    }
   ],
   "source": [
    "sources = []\n",
    "for source in dataset['sentimen']:\n",
    "    if source not in sources:\n",
    "        sources.append(source)\n",
    "\n",
    "# pembuatan:\n",
    "print(\"Sumber pembuatan konten:\")\n",
    "for source in sources:\n",
    "    print(\"* {}\".format(source))"
   ]
  },
  {
   "cell_type": "code",
   "execution_count": 67,
   "metadata": {},
   "outputs": [
    {
     "name": "stderr",
     "output_type": "stream",
     "text": [
      "/Users/faradilazahrotunnisa/opt/anaconda3/lib/python3.9/site-packages/seaborn/distributions.py:2619: FutureWarning: `distplot` is a deprecated function and will be removed in a future version. Please adapt your code to use either `displot` (a figure-level function with similar flexibility) or `histplot` (an axes-level function for histograms).\n",
      "  warnings.warn(msg, FutureWarning)\n"
     ]
    },
    {
     "data": {
      "image/png": "[encoded data removed]",
      "text/plain": [
       "<Figure size 864x576 with 1 Axes>"
      ]
     },
     "metadata": {
      "needs_background": "light"
     },
     "output_type": "display_data"
    }
   ],
   "source": [
    "# Visualizing the target variable\n",
    "plt.figure(figsize=(12,8))\n",
    "sns.distplot(dataset_label, label=f'target, skew: {dataset_label.skew():.2f}')\n",
    "plt.legend(loc='best')\n",
    "plt.show()"
   ]
  },
  {
   "cell_type": "markdown",
   "metadata": {},
   "source": [
    "***Kesimpulan***\n",
    "Dari proses distribusi dataset yang saya gunakan, menghasilkan data sentimen dengan parameter 0 (netral) 95.8%, parameter 1 (positif) 3.1%, dan parameter -1 (negatif) 1%\n"
   ]
  },
  {
   "cell_type": "markdown",
   "metadata": {},
   "source": [
    "## Fitur Ekstraksi Menggunakan TF-IDF"
   ]
  },
  {
   "cell_type": "markdown",
   "metadata": {},
   "source": [
    "### Cek Sentimen"
   ]
  },
  {
   "cell_type": "code",
   "execution_count": 68,
   "metadata": {},
   "outputs": [],
   "source": [
    "from sklearn.feature_extraction.text import TfidfVectorizer"
   ]
  },
  {
   "cell_type": "code",
   "execution_count": 69,
   "metadata": {},
   "outputs": [],
   "source": [
    "vectorizer = TfidfVectorizer()"
   ]
  },
  {
   "cell_type": "code",
   "execution_count": 70,
   "metadata": {},
   "outputs": [],
   "source": [
    "X = vectorizer.fit_transform(dataset_feature)"
   ]
  },
  {
   "cell_type": "code",
   "execution_count": 71,
   "metadata": {},
   "outputs": [
    {
     "name": "stdout",
     "output_type": "stream",
     "text": [
      "(96, 748)\n"
     ]
    }
   ],
   "source": [
    "print(X.shape)"
   ]
  },
  {
   "cell_type": "code",
   "execution_count": 73,
   "metadata": {
    "scrolled": false
   },
   "outputs": [
    {
     "data": {
      "text/plain": [
       "array(['aa', 'acara', 'adat', 'adil', 'afiliasi', 'aher', 'ahmad', 'air',\n",
       "       'aja', 'ajar', 'akhir', 'akibat', 'akrab', 'aktif', 'alam',\n",
       "       'alokasi', 'ama', 'aman', 'amat', 'amazon', 'ambil', 'amin',\n",
       "       'anak', 'and', 'aneka', 'anggar', 'anggota', 'angkat', 'angkot',\n",
       "       'angkut', 'anies', 'antiran', 'apa', 'aparat', 'army', 'artis',\n",
       "       'asdp', 'astronaut', 'atas', 'ato', 'baca', 'bagai', 'bakal',\n",
       "       'bakauheni', 'balai', 'balap', 'banget', 'bangkit', 'bangun',\n",
       "       'banten', 'bantu', 'banyak', 'barat', 'baru', 'bas', 'batam',\n",
       "       'batas', 'bayar', 'bayi', 'beijing', 'belah', 'belakang',\n",
       "       'belanja', 'beli', 'benci', 'bend', 'besar', 'bias', 'bicara',\n",
       "       'bidang', 'bikin', 'bila', 'binsar', 'biro', 'biru', 'bisa',\n",
       "       'bjorka', 'bkprmi', 'blibli', 'bloc', 'bobol', 'body', 'bom', 'bp',\n",
       "       'bpk', 'breakdown', 'brightening', 'budaya', 'budi', 'buk', 'buka',\n",
       "       'bukan', 'buku', 'bulan', 'cakap', 'calon', 'capres', 'cara',\n",
       "       'care', 'cari', 'centang', 'ceo', 'cepat', 'cerah', 'cermat',\n",
       "       'cinta', 'citra', 'co0hopwuzned', 'co0mbsmbhza5', 'co0ngp6nlzpr',\n",
       "       'co0qrxht6kz3', 'co0ze5gx9rpy', 'co1t1ykco1vj', 'co2cpoduqfw4',\n",
       "       'co2dp9lludhe', 'co3jh0o0mxir', 'co4qkxcqbc2m', 'co6mgulmerlb',\n",
       "       'co7y22temzuy', 'coafmrf9gppl', 'coat27z40oib', 'cobpxwc1tswn',\n",
       "       'cobtqclb6oiz', 'cocc6vxepmnh', 'cocok', 'coczsqkskyak',\n",
       "       'cod73tzwr07q', 'codfztz6sejh', 'codm0o2uydxv', 'coe9mkuh7cpi',\n",
       "       'coecemraghgo', 'coecev9hxqad', 'coelcylniugt', 'cofrg2o04jpv',\n",
       "       'cogeqss3ctec', 'cogfixchbsnq', 'cogszykgk2xg', 'coguufzedpby',\n",
       "       'coh2pugmce84', 'cohkautsxezz', 'cohn3f6i3ocr', 'cohrfotv2ypi',\n",
       "       'coiu9jwjxr6h', 'coizcyzicd8s', 'cojsfsv6j7cd', 'col7knvsuqzj',\n",
       "       'colek', 'colpnt8ewaze', 'com4x9iz5c1b', 'comi9srbx8rk',\n",
       "       'commonwealth', 'comwz6ap8m5c', 'comxrkueqvie', 'confyz0nuryx',\n",
       "       'conpa81r8fyx', 'contoh', 'coozx4iac11i', 'cophyzy1yjkn',\n",
       "       'copujhkqfsub', 'coqexqgrjrrn', 'coqey3cnibcx', 'coqk9rjyoznb',\n",
       "       'cor96vils2pq', 'corw7beurcqr', 'corzocktc99z', 'cosexbt',\n",
       "       'cosgovkqly5m', 'cot6al5brdiz', 'cotpigazpotw', 'cotteiqatixh',\n",
       "       'cottgc67n0ym', 'cov7nt8r4a5c', 'covwfvjqtvl1', 'cowa9h33vyid',\n",
       "       'cowekbdm0dki', 'cowlaifcirfy', 'cowt0dwkggdf', 'coxjqnblogls',\n",
       "       'coxlhmuwzchn', 'coyn5bphkaso', 'coyyoczgwoki', 'cucu', 'culture',\n",
       "       'daikin', 'dampak', 'danau', 'darurat', 'data2', 'day', 'daya',\n",
       "       'dekat', 'demand', 'den', 'dendang', 'denga', 'depan', 'depok',\n",
       "       'desa', 'devel', 'di', 'didik', 'digitalisasi', 'dil',\n",
       "       'dilepasliarkan', 'dipake', 'diri', 'disimpen', 'donasi', 'dorong',\n",
       "       'dosen', 'dpt', 'du', 'dua', 'duduk', 'duit', 'dukung', 'dunia',\n",
       "       'duta', 'eddy', 'ekonomi', 'emang', 'erick', 'exco', 'f1',\n",
       "       'familiar', 'fasilitas', 'fdr', 'finals', 'fiskal', 'fokus',\n",
       "       'foreign', 'formula', 'ga', 'gairah', 'gak', 'ganjar', 'gatot',\n",
       "       'gelar', 'gembira', 'genjot', 'gerak', 'giat', 'gilir', 'gk',\n",
       "       'global', 'goyang', 'gp', 'grand', 'guru', 'gw', 'hadir',\n",
       "       'halloween', 'harap', 'hari', 'hasil', 'hassan', 'healing', 'hehe',\n",
       "       'henti', 'heryawan', 'hijau', 'hikmah', 'hingga', 'hotel',\n",
       "       'hubung', 'hukum', 'huni', 'ia', 'identitas', 'iga', 'ii',\n",
       "       'ikbikn', 'ikut', 'imbang', 'in', 'indonesia', 'industri',\n",
       "       'informasi', 'infrastruktur', 'infused', 'ingat', 'inggris',\n",
       "       'ingin', 'ini', 'injak', 'inklusi', 'isi', 'istora', 'itaewon',\n",
       "       'iv', 'iyee', 'jadi', 'jaga', 'jak', 'jalan', 'jasa', 'jawa',\n",
       "       'jelang', 'jenama', 'jenderal', 'jepang', 'jin', 'joko', 'jokowi',\n",
       "       'jual', 'juara', 'judul', 'jug', 'jumlah', 'justice', 'juta',\n",
       "       'kaga', 'kalah', 'kalau', 'kali', 'kalo', 'kamil', 'kandung',\n",
       "       'kantor', 'kapabilitas', 'kapal', 'kapolri', 'karya', 'kasihan',\n",
       "       'kata', 'kbri', 'keluar', 'kemaren', 'kemarin',\n",
       "       'kemendikbudristek', 'kemenkes', 'kena', 'kendara', 'kepala',\n",
       "       'kerja', 'ketidakpastian', 'ketua', 'khas', 'khusus', 'kini',\n",
       "       'kita', 'kkp', 'klb', 'km', 'kolaborasi', 'koleksi', 'komisaris',\n",
       "       'komisi', 'kompetensi', 'kompetisi', 'komunikasi', 'konser',\n",
       "       'konstruksi', 'konten', 'koperasi', 'kor', 'korupsi', 'kota',\n",
       "       'kpu', 'krisis', 'ktt', 'kuat', 'kurang', 'labuh', 'lah', 'lain',\n",
       "       'laksana', 'laku', 'lalu', 'lama', 'langkah', 'lapor', 'lari',\n",
       "       'latar', 'laya', 'layak', 'layan', 'layar', 'lebih', 'ledak',\n",
       "       'lemah', 'lengkap', 'lewat', 'lhk', 'libat', 'lihat', 'lik',\n",
       "       'lika', 'listrik', 'litbang', 'literasi', 'lokal', 'lotion', 'lrt',\n",
       "       'lu', 'luhut', 'luka', 'lukas', 'lupa', 'macam', 'mahasiswa',\n",
       "       'mahkota', 'majelis', 'maju', 'makan', 'maki', 'malam', 'mampu',\n",
       "       'mana', 'mancanegara', 'mandatory', 'manusia', 'maritim',\n",
       "       'martono', 'masa', 'masalah', 'masduki', 'masjid', 'masyarakat',\n",
       "       'maupun', 'max', 'maxstream', 'me', 'medan', 'media', 'meksiko',\n",
       "       'memang', 'memb', 'menang', 'menhub', 'meningk', 'menjada',\n",
       "       'menteri', 'menunjukk', 'merchandise', 'mikirin', 'milad', 'milik',\n",
       "       'militer', 'milu', 'miniatur', 'minim', 'minum', 'mob', 'mobil',\n",
       "       'moga', 'mohamud', 'moneter', 'motors', 'mrt', 'mud', 'mulai',\n",
       "       'musik', 'musim', 'nadia', 'nasd', 'nasdem', 'nasional', 'ne',\n",
       "       'negara', 'nikah', 'nikmat', 'nilai', 'nippon', 'nomor', 'number',\n",
       "       'nyata', 'oalahh', 'ojk', 'oktober', 'olahraga', 'on', 'ondoafi',\n",
       "       'optimistis', 'orang', 'orde', 'organisasi', 'otoritas', 'pajak',\n",
       "       'pak', 'paket', 'paling', 'pandjaitan', 'pantesan', 'pantun',\n",
       "       'para', 'parlemen', 'partai', 'pasang', 'pasca', 'pbj', 'pegawai',\n",
       "       'pelihara', 'pelindo', 'pelni', 'pemuda', 'pengkol', 'penuh',\n",
       "       'penyu', 'perintah', 'pertama', 'peru', 'pesona', 'phk', 'picu',\n",
       "       'pihak', 'pilih', 'pimpin', 'pks', 'platform', 'pole', 'polisi',\n",
       "       'politik', 'politis', 'polri', 'pos', 'positif', 'position',\n",
       "       'prabowo', 'pramono', 'presiden', 'pribadi', 'prix', 'produksi',\n",
       "       'project', 'promosi', 'pssi', 'puan', 'publik', 'pulau', 'puluh',\n",
       "       'puncak', 'pusat', 'pusing', 'pustaka', 'putri', 'putus',\n",
       "       'rajalela', 'rangkai', 'rapat', 'rasa', 'ratus', 'rawan', 'raya',\n",
       "       'rebut', 'redam', 'referensi', 'regenerasi', 'renung', 'republik',\n",
       "       'resesi', 'resmi', 'respect', 'respon', 'responden', 'respons',\n",
       "       'ri', 'ribu', 'riding', 'ridwan', 'rinciannya', 'riri', 'riset',\n",
       "       'ronta', 'rp', 'rp1', 'rt', 'ru', 'runding', 'rupa', 'rusak',\n",
       "       'rutininas', 'sa', 'sabtu', 'sadar', 'safe', 'saiful', 'saji',\n",
       "       'salah', 'sama', 'sampai', 'sangka', 'satu', 'sdm', 'sebar',\n",
       "       'sebentar', 'sed', 'sederhana', 'sedikit', 'segway', 'sejahtera',\n",
       "       'sejarah', 'sekaligus', 'sekitar', 'selamat', 'seluruh',\n",
       "       'semangat', 'sembako', 'sempat', 'senayan', 'seoul', 'seperti',\n",
       "       'september', 'serta', 'seru', 'serum', 'service', 'set', 'sheikh',\n",
       "       'siap', 'siapa', 'sikap', 'sinergi', 'sisa', 'siti', 'situng',\n",
       "       'snlik', 'sobat', 'solo', 'somalia', 'sondy', 'srikandi',\n",
       "       'starbucks', 'string', 'suasa', 'subianto', 'sukses', 'suku',\n",
       "       'sulit', 'sulut', 'sumatera', 'sumatra', 'sumbang', 'sumber',\n",
       "       'sumberdaya', 'sumpah', 'sumur', 'supremasi', 'survei', 'swiatek',\n",
       "       'syahrial', 'syamsurizal', 'syura', 'syuro', 'tahan', 'tahu',\n",
       "       'tahun', 'tajuk', 'tak', 'tanah', 'tanggap', 'tanya', 'target',\n",
       "       'tarmizi', 'tasikmalaya', 'tata', 'tebar', 'technologies',\n",
       "       'teknologi', 'tel', 'telak', 'teliti', 'telkomsel', 'tema', 'temu',\n",
       "       'tenaga', 'tengah', 'tenis', 'tentu', 'tepat', 'terap', 'terus',\n",
       "       'tetap', 'teten', 'tewas', 'the', 'thohir', 'tiap', 'tibo',\n",
       "       'tidak', 'tiga', 'time', 'timpa', 'tinggi', 'tingkat', 'tips',\n",
       "       'tokoh', 'ton', 'total', 'transp', 'triliun', 'tuju', 'tujuh',\n",
       "       'tulis', 'tunggak', 'tunggu', 'tunjuk', 'turis', 'turut', 'tutup',\n",
       "       'uang', 'ubah', 'ucap', 'udah', 'udang', 'ujar', 'ujung', 'uk',\n",
       "       'ukm', 'umkm', 'umum', 'unggul', 'ungkap', 'unik', 'unitsky',\n",
       "       'universitas', 'untuk', 'upaya', 'urus', 'usaha', 'user', 'usung',\n",
       "       'utang', 'utara', 'utk', 'verstappen', 'veteran', 'vial', 'video',\n",
       "       'vietnam', 'visa', 'vs', 'wah', 'wakil', 'warga', 'wartawan',\n",
       "       'wawancara', 'widodo', 'wilayah', 'wjp', 'wni', 'world', 'wta',\n",
       "       'yakin', 'yang', 'yedi', 'yg', 'zee'], dtype=object)"
      ]
     },
     "execution_count": 73,
     "metadata": {},
     "output_type": "execute_result"
    }
   ],
   "source": [
    "features = vectorizer.get_feature_names_out()\n",
    "features"
   ]
  },
  {
   "cell_type": "code",
   "execution_count": 74,
   "metadata": {},
   "outputs": [],
   "source": [
    "idfValues = vectorizer.idf_"
   ]
  },
  {
   "cell_type": "code",
   "execution_count": 75,
   "metadata": {},
   "outputs": [],
   "source": [
    "d = dict(zip(features, 9 - idfValues))"
   ]
  },
  {
   "cell_type": "code",
   "execution_count": 76,
   "metadata": {},
   "outputs": [],
   "source": [
    "sortedDict = sorted(d.items(), key = lambda d: d[1], reverse = True)"
   ]
  },
  {
   "cell_type": "code",
   "execution_count": 78,
   "metadata": {},
   "outputs": [
    {
     "name": "stdout",
     "output_type": "stream",
     "text": [
      "('user', 6.980637082986031)\n",
      "('number', 6.644164846364818)\n",
      "('rt', 6.4210212950506085)\n",
      "('banyak', 5.9902383789581535)\n",
      "('indonesia', 5.910195671284617)\n",
      "('jadi', 5.727874114490663)\n",
      "('kata', 5.622513598832836)\n",
      "('nasional', 5.371199170551931)\n",
      "('nilai', 5.371199170551931)\n",
      "('tahun', 5.371199170551931)\n",
      "('akhir', 5.217048490724672)\n",
      "('dukung', 5.217048490724672)\n",
      "('masyarakat', 5.217048490724672)\n",
      "('nyata', 5.217048490724672)\n",
      "('orang', 5.217048490724672)\n",
      "('pribadi', 5.217048490724672)\n",
      "('survei', 5.217048490724672)\n",
      "('tidak', 5.217048490724672)\n",
      "('wakil', 5.217048490724672)\n",
      "('yg', 5.217048490724672)\n",
      "('bagai', 5.034726933930718)\n",
      "('dekat', 5.034726933930718)\n",
      "('kamil', 5.034726933930718)\n",
      "('kerja', 5.034726933930718)\n",
      "('kota', 5.034726933930718)\n",
      "('lalu', 5.034726933930718)\n",
      "('libat', 5.034726933930718)\n",
      "('musik', 5.034726933930718)\n",
      "('paling', 5.034726933930718)\n",
      "('pilih', 5.034726933930718)\n",
      "('responden', 5.034726933930718)\n",
      "('ridwan', 5.034726933930718)\n",
      "('sed', 5.034726933930718)\n",
      "('sisa', 5.034726933930718)\n",
      "('tahan', 5.034726933930718)\n",
      "('ungkap', 5.034726933930718)\n",
      "('aa', 4.811583382616508)\n",
      "('ambil', 4.811583382616508)\n",
      "('bangkit', 4.811583382616508)\n",
      "('besar', 4.811583382616508)\n",
      "('bidang', 4.811583382616508)\n",
      "('contoh', 4.811583382616508)\n",
      "('daya', 4.811583382616508)\n",
      "('duta', 4.811583382616508)\n",
      "('gak', 4.811583382616508)\n",
      "('halloween', 4.811583382616508)\n",
      "('hubung', 4.811583382616508)\n",
      "('ingat', 4.811583382616508)\n",
      "('jalan', 4.811583382616508)\n",
      "('kena', 4.811583382616508)\n",
      "('kita', 4.811583382616508)\n",
      "('labuh', 4.811583382616508)\n",
      "('lebih', 4.811583382616508)\n",
      "('luka', 4.811583382616508)\n",
      "('maju', 4.811583382616508)\n",
      "('malam', 4.811583382616508)\n",
      "('media', 4.811583382616508)\n",
      "('menteri', 4.811583382616508)\n",
      "('negara', 4.811583382616508)\n",
      "('para', 4.811583382616508)\n",
      "('partai', 4.811583382616508)\n",
      "('pbj', 4.811583382616508)\n",
      "('presiden', 4.811583382616508)\n",
      "('ratus', 4.811583382616508)\n",
      "('ri', 4.811583382616508)\n",
      "('sedikit', 4.811583382616508)\n",
      "('sejarah', 4.811583382616508)\n",
      "('seoul', 4.811583382616508)\n",
      "('tahu', 4.811583382616508)\n",
      "('terus', 4.811583382616508)\n",
      "('tewas', 4.811583382616508)\n",
      "('the', 4.811583382616508)\n",
      "('video', 4.811583382616508)\n",
      "('warga', 4.811583382616508)\n",
      "('adil', 4.523901310164726)\n",
      "('ahmad', 4.523901310164726)\n",
      "('air', 4.523901310164726)\n",
      "('ajar', 4.523901310164726)\n",
      "('alam', 4.523901310164726)\n",
      "('anak', 4.523901310164726)\n",
      "('anggota', 4.523901310164726)\n",
      "('army', 4.523901310164726)\n",
      "('artis', 4.523901310164726)\n",
      "('asdp', 4.523901310164726)\n",
      "('astronaut', 4.523901310164726)\n",
      "('atas', 4.523901310164726)\n",
      "('bangun', 4.523901310164726)\n",
      "('bantu', 4.523901310164726)\n",
      "('barat', 4.523901310164726)\n",
      "('belanja', 4.523901310164726)\n",
      "('bikin', 4.523901310164726)\n",
      "('bila', 4.523901310164726)\n",
      "('bom', 4.523901310164726)\n",
      "('bukan', 4.523901310164726)\n",
      "('calon', 4.523901310164726)\n",
      "('capres', 4.523901310164726)\n",
      "('cepat', 4.523901310164726)\n",
      "('cinta', 4.523901310164726)\n",
      "('comxrkueqvie', 4.523901310164726)\n",
      "('dampak', 4.523901310164726)\n",
      "('dorong', 4.523901310164726)\n",
      "('dua', 4.523901310164726)\n",
      "('dunia', 4.523901310164726)\n",
      "('giat', 4.523901310164726)\n",
      "('hari', 4.523901310164726)\n",
      "('hasil', 4.523901310164726)\n",
      "('hassan', 4.523901310164726)\n",
      "('heryawan', 4.523901310164726)\n",
      "('ia', 4.523901310164726)\n",
      "('ini', 4.523901310164726)\n",
      "('jawa', 4.523901310164726)\n",
      "('jin', 4.523901310164726)\n",
      "('kali', 4.523901310164726)\n",
      "('karya', 4.523901310164726)\n",
      "('kbri', 4.523901310164726)\n",
      "('kepala', 4.523901310164726)\n",
      "('ketua', 4.523901310164726)\n",
      "('kompetensi', 4.523901310164726)\n",
      "('konstruksi', 4.523901310164726)\n",
      "('kuat', 4.523901310164726)\n",
      "('laku', 4.523901310164726)\n",
      "('layar', 4.523901310164726)\n",
      "('ledak', 4.523901310164726)\n",
      "('lengkap', 4.523901310164726)\n",
      "('literasi', 4.523901310164726)\n",
      "('mahasiswa', 4.523901310164726)\n",
      "('majelis', 4.523901310164726)\n",
      "('manusia', 4.523901310164726)\n",
      "('mohamud', 4.523901310164726)\n",
      "('nasdem', 4.523901310164726)\n",
      "('nippon', 4.523901310164726)\n",
      "('optimistis', 4.523901310164726)\n",
      "('pelindo', 4.523901310164726)\n",
      "('pelni', 4.523901310164726)\n",
      "('pemuda', 4.523901310164726)\n",
      "('perintah', 4.523901310164726)\n",
      "('pesona', 4.523901310164726)\n",
      "('pks', 4.523901310164726)\n",
      "('polisi', 4.523901310164726)\n",
      "('politik', 4.523901310164726)\n",
      "('prabowo', 4.523901310164726)\n",
      "('produksi', 4.523901310164726)\n",
      "('putus', 4.523901310164726)\n",
      "('republik', 4.523901310164726)\n",
      "('sabtu', 4.523901310164726)\n",
      "('sadar', 4.523901310164726)\n",
      "('satu', 4.523901310164726)\n",
      "('sdm', 4.523901310164726)\n",
      "('sejahtera', 4.523901310164726)\n",
      "('sekaligus', 4.523901310164726)\n",
      "('seru', 4.523901310164726)\n",
      "('sheikh', 4.523901310164726)\n",
      "('siap', 4.523901310164726)\n",
      "('sinergi', 4.523901310164726)\n",
      "('solo', 4.523901310164726)\n",
      "('somalia', 4.523901310164726)\n",
      "('sumber', 4.523901310164726)\n",
      "('sumpah', 4.523901310164726)\n",
      "('target', 4.523901310164726)\n",
      "('tenaga', 4.523901310164726)\n",
      "('tepat', 4.523901310164726)\n",
      "('tingkat', 4.523901310164726)\n",
      "('tuju', 4.523901310164726)\n",
      "('tunjuk', 4.523901310164726)\n",
      "('turut', 4.523901310164726)\n",
      "('ubah', 4.523901310164726)\n",
      "('umum', 4.523901310164726)\n",
      "('unik', 4.523901310164726)\n",
      "('wilayah', 4.523901310164726)\n",
      "('wni', 4.523901310164726)\n",
      "('acara', 4.118436202056563)\n",
      "('adat', 4.118436202056563)\n",
      "('afiliasi', 4.118436202056563)\n",
      "('aher', 4.118436202056563)\n",
      "('aja', 4.118436202056563)\n",
      "('akibat', 4.118436202056563)\n",
      "('akrab', 4.118436202056563)\n",
      "('aktif', 4.118436202056563)\n",
      "('alokasi', 4.118436202056563)\n",
      "('ama', 4.118436202056563)\n",
      "('aman', 4.118436202056563)\n",
      "('amat', 4.118436202056563)\n",
      "('amazon', 4.118436202056563)\n",
      "('amin', 4.118436202056563)\n",
      "('and', 4.118436202056563)\n",
      "('aneka', 4.118436202056563)\n",
      "('anggar', 4.118436202056563)\n",
      "('angkat', 4.118436202056563)\n",
      "('angkot', 4.118436202056563)\n",
      "('angkut', 4.118436202056563)\n",
      "('anies', 4.118436202056563)\n",
      "('antiran', 4.118436202056563)\n",
      "('apa', 4.118436202056563)\n",
      "('aparat', 4.118436202056563)\n",
      "('ato', 4.118436202056563)\n",
      "('baca', 4.118436202056563)\n",
      "('bakal', 4.118436202056563)\n",
      "('bakauheni', 4.118436202056563)\n",
      "('balai', 4.118436202056563)\n",
      "('balap', 4.118436202056563)\n"
     ]
    }
   ],
   "source": [
    "for i in range(200):\n",
    "    print(sortedDict[i])"
   ]
  },
  {
   "cell_type": "code",
   "execution_count": 79,
   "metadata": {},
   "outputs": [],
   "source": [
    "positive_low_reviews = dataset[(dataset[\"sentimen\"] == 1)]\n",
    "negative_low_reviews = dataset[(dataset[\"sentimen\"] == -1)]\n",
    "neutral_reviews = dataset[(dataset[\"sentimen\"] == 0)]\n",
    "positive_high_reviews = dataset[(dataset[\"sentimen\"] == 2)]\n",
    "negative_high_reviews = dataset[(dataset[\"sentimen\"] == -2)]"
   ]
  },
  {
   "cell_type": "code",
   "execution_count": 80,
   "metadata": {},
   "outputs": [],
   "source": [
    "## Melakukan install wordcloud\n",
    "from wordcloud import WordCloud\n",
    "import matplotlib.pyplot as plot"
   ]
  },
  {
   "cell_type": "code",
   "execution_count": 81,
   "metadata": {},
   "outputs": [],
   "source": [
    "def PlotWordCloud(frequency):\n",
    "    worcloudPlot = WordCloud(background_color=\"white\", width=1500, height=1000)\n",
    "    worcloudPlot.generate_from_frequencies(frequencies=frequency)\n",
    "    plot.figure(figsize=(15,10))\n",
    "    plot.imshow(worcloudPlot, interpolation=\"bilinear\")\n",
    "    plot.axis(\"off\")\n",
    "    plot.show()"
   ]
  },
  {
   "cell_type": "code",
   "execution_count": 82,
   "metadata": {},
   "outputs": [
    {
     "data": {
      "image/png": "[encoded data removed]",
      "text/plain": [
       "<Figure size 1080x720 with 1 Axes>"
      ]
     },
     "metadata": {
      "needs_background": "light"
     },
     "output_type": "display_data"
    }
   ],
   "source": [
    "PlotWordCloud(d)"
   ]
  },
  {
   "cell_type": "markdown",
   "metadata": {},
   "source": [
    "## Cek sentimen untuk Semua label\n",
    "\n",
    "**jangan lupa, gunakan semua data, maka yang dilakukan adalah mengolah data `df_new[\"sentimen\"]`**"
   ]
  },
  {
   "cell_type": "code",
   "execution_count": 83,
   "metadata": {},
   "outputs": [],
   "source": [
    "tfidf_vect = TfidfVectorizer(ngram_range = (1,2))"
   ]
  },
  {
   "cell_type": "code",
   "execution_count": 84,
   "metadata": {},
   "outputs": [],
   "source": [
    "Data_TFIDF = tfidf_vect.fit_transform(df_new[\"ProcessedText\"].values)"
   ]
  },
  {
   "cell_type": "code",
   "execution_count": 85,
   "metadata": {},
   "outputs": [
    {
     "data": {
      "text/plain": [
       "(96, 1676)"
      ]
     },
     "execution_count": 85,
     "metadata": {},
     "output_type": "execute_result"
    }
   ],
   "source": [
    "Data_TFIDF.shape"
   ]
  },
  {
   "cell_type": "markdown",
   "metadata": {},
   "source": [
    "## Training dan Testing dibagi menjadi 70 - 30\n",
    "70 untuk data training, dan 30 untuk data testing"
   ]
  },
  {
   "cell_type": "code",
   "execution_count": 86,
   "metadata": {},
   "outputs": [],
   "source": [
    "from sklearn.model_selection import GridSearchCV\n",
    "from sklearn.metrics import accuracy_score\n",
    "from sklearn.metrics import recall_score\n",
    "from sklearn.metrics import f1_score\n",
    "from sklearn.metrics import precision_score\n",
    "from sklearn.model_selection import train_test_split"
   ]
  },
  {
   "cell_type": "code",
   "execution_count": 87,
   "metadata": {},
   "outputs": [],
   "source": [
    "train_x, test_x, train_label, test_label = train_test_split(dataset_feature, dataset_label, test_size = 0.3, random_state=42)"
   ]
  },
  {
   "cell_type": "code",
   "execution_count": 89,
   "metadata": {},
   "outputs": [
    {
     "data": {
      "text/plain": [
       "80    kini tengah maki ujar benci tebar memang layak...\n",
       "77    rt user rp number kalo dipake bikin lrt dpt nu...\n",
       "73    seluruh masyarakat indonesia ucap selamat inga...\n",
       "94    tahu pssi putus cepat laksana klb gelar rapat ...\n",
       "33    tinggi jumlah serta kompetisi bidang khusus wa...\n",
       "79    media indonesia bicara unggul unitsky string t...\n",
       "69    malam halloween kemarin lebih tepat hari sabtu...\n",
       "42    turut anggota urus aman rupa anak adat bagai w...\n",
       "0     user wah cocok ne gw dukung number menang bala...\n",
       "10    wakil ketua majelis syuro partai adil sejahter...\n",
       "64    konser musik dendang goyang istora senayan sab...\n",
       "30    luhut binsar pandjaitan yakin ekonomi indonesi...\n",
       "18    presiden somalia hassan sheikh mohamud kata se...\n",
       "4     informasi mandatory serum infused brightening ...\n",
       "31    banyak literasi lah sulit kalau jadi anggota p...\n",
       "26                 user kali bantu breakdown rinciannya\n",
       "12    wakil ketua majelis syura partai adil sejahter...\n",
       "22    rawan puan sebar ratus paket sembako masyaraka...\n",
       "53    user user user user user user user user user u...\n",
       "85                           cakap diri iv co0mbsmbhza5\n",
       "40    runding batas zee vietnam tanya amat maritim c...\n",
       "67    untuk user bpk user tahu siapa yg calon bukan ...\n",
       "15    user user user user user user user user user u...\n",
       "68                    oalahh pantesan hehe coe9mkuh7cpi\n",
       "88    rt user user emang udah siap isi ikbikn masyar...\n",
       "9     rt user seru para mahasiswa jadi kuat ubah com...\n",
       "39    rt user survei libat number responden ridwan k...\n",
       "11      seru para mahasiswa jadi kuat ubah comxrkueqvie\n",
       "45    otoritas jasa uang ojk umum hasil survei nasio...\n",
       "Name: ProcessedText, dtype: object"
      ]
     },
     "execution_count": 89,
     "metadata": {},
     "output_type": "execute_result"
    }
   ],
   "source": [
    "test_x"
   ]
  },
  {
   "cell_type": "markdown",
   "metadata": {},
   "source": [
    "## Model - Naive Bayes"
   ]
  },
  {
   "cell_type": "code",
   "execution_count": 92,
   "metadata": {},
   "outputs": [],
   "source": [
    "from sklearn.naive_bayes import MultinomialNB"
   ]
  },
  {
   "cell_type": "code",
   "execution_count": 93,
   "metadata": {},
   "outputs": [],
   "source": [
    "from sklearn.pipeline import Pipeline\n",
    "classifier_nb = Pipeline([\n",
    "    ('tfidf', TfidfVectorizer()),\n",
    "    ('model', MultinomialNB()),\n",
    "])"
   ]
  },
  {
   "cell_type": "code",
   "execution_count": 94,
   "metadata": {},
   "outputs": [],
   "source": [
    "parameters_nb = {\n",
    "    'tfidf__ngram_range': [(1, 1), (1, 2), (1, 3), (1, 4)],\n",
    "    'model__alpha': (0.0001, 0.001, 0.1, 1, 10, 100)\n",
    "}"
   ]
  },
  {
   "cell_type": "code",
   "execution_count": 95,
   "metadata": {},
   "outputs": [],
   "source": [
    "classifier_nb = GridSearchCV(classifier_nb, parameters_nb, cv = 3, n_jobs=-1)"
   ]
  },
  {
   "cell_type": "code",
   "execution_count": 96,
   "metadata": {},
   "outputs": [
    {
     "name": "stderr",
     "output_type": "stream",
     "text": [
      "/Users/faradilazahrotunnisa/opt/anaconda3/lib/python3.9/site-packages/sklearn/model_selection/_split.py:676: UserWarning: The least populated class in y has only 1 members, which is less than n_splits=3.\n",
      "  warnings.warn(\n"
     ]
    },
    {
     "data": {
      "text/plain": [
       "GridSearchCV(cv=3,\n",
       "             estimator=Pipeline(steps=[('tfidf', TfidfVectorizer()),\n",
       "                                       ('model', MultinomialNB())]),\n",
       "             n_jobs=-1,\n",
       "             param_grid={'model__alpha': (0.0001, 0.001, 0.1, 1, 10, 100),\n",
       "                         'tfidf__ngram_range': [(1, 1), (1, 2), (1, 3),\n",
       "                                                (1, 4)]})"
      ]
     },
     "execution_count": 96,
     "metadata": {},
     "output_type": "execute_result"
    }
   ],
   "source": [
    "classifier_nb.fit(train_x, train_label.ravel())"
   ]
  },
  {
   "cell_type": "markdown",
   "metadata": {},
   "source": [
    "## Nilai Accuracy Training Set dan Testing Set\n"
   ]
  },
  {
   "cell_type": "code",
   "execution_count": 97,
   "metadata": {},
   "outputs": [
    {
     "name": "stdout",
     "output_type": "stream",
     "text": [
      "Accuracy Training set:  1.0\n",
      "Accuracy Test set:  1.0\n"
     ]
    }
   ],
   "source": [
    "y_pred_nb_train = classifier_nb.predict(train_x)\n",
    "accuracy_nb_train = accuracy_score(train_label, y_pred_nb_train)\n",
    "print(\"Accuracy Training set: \", accuracy_nb_train)\n",
    "\n",
    "y_pred_nb_test = classifier_nb.predict(test_x)\n",
    "accuracy_nb_test = accuracy_score(test_label, y_pred_nb_test)\n",
    "print(\"Accuracy Test set: \", accuracy_nb_test)"
   ]
  },
  {
   "cell_type": "markdown",
   "metadata": {},
   "source": [
    "## Nilai Recall Training Set dan Testing Set\n"
   ]
  },
  {
   "cell_type": "code",
   "execution_count": 98,
   "metadata": {},
   "outputs": [
    {
     "name": "stdout",
     "output_type": "stream",
     "text": [
      "Recall Training set:  1.0\n",
      "Recall Test set:  1.0\n"
     ]
    }
   ],
   "source": [
    "recall_nb_train = recall_score(train_label, y_pred_nb_train, average='weighted')\n",
    "print(\"Recall Training set: \", recall_nb_train)\n",
    "\n",
    "recall_nb_test = recall_score(test_label, y_pred_nb_test, average='weighted')\n",
    "print(\"Recall Test set: \", recall_nb_test)"
   ]
  },
  {
   "cell_type": "markdown",
   "metadata": {},
   "source": [
    "## Nilai Precision Training Set dan Testing Set\n"
   ]
  },
  {
   "cell_type": "code",
   "execution_count": 99,
   "metadata": {},
   "outputs": [
    {
     "name": "stdout",
     "output_type": "stream",
     "text": [
      "Precision Training set:  1.0\n",
      "Precision Test set:  1.0\n"
     ]
    }
   ],
   "source": [
    "precision_nb_train = precision_score(train_label, y_pred_nb_train, average='weighted')\n",
    "print(\"Precision Training set: \", precision_nb_train)\n",
    "\n",
    "precision_nb_test = precision_score(test_label, y_pred_nb_test, average='weighted')\n",
    "print(\"Precision Test set: \", precision_nb_test)"
   ]
  },
  {
   "cell_type": "markdown",
   "metadata": {},
   "source": [
    "## Nilai F1 Training Set dan Testing Set"
   ]
  },
  {
   "cell_type": "code",
   "execution_count": 100,
   "metadata": {},
   "outputs": [
    {
     "name": "stdout",
     "output_type": "stream",
     "text": [
      "F1 Training set:  1.0\n",
      "F1 Test set:  1.0\n"
     ]
    }
   ],
   "source": [
    "f1_nb_train = f1_score(train_label, y_pred_nb_train, average='weighted')\n",
    "print(\"F1 Training set: \", f1_nb_train)\n",
    "\n",
    "f1_nb_test = f1_score(test_label, y_pred_nb_test, average='weighted')\n",
    "print(\"F1 Test set: \", f1_nb_test)"
   ]
  },
  {
   "cell_type": "code",
   "execution_count": 101,
   "metadata": {},
   "outputs": [
    {
     "data": {
      "image/png": "[encoded data removed]",
      "text/plain": [
       "<Figure size 432x288 with 2 Axes>"
      ]
     },
     "metadata": {
      "needs_background": "light"
     },
     "output_type": "display_data"
    }
   ],
   "source": [
    "from sklearn.metrics import confusion_matrix\n",
    "sns.heatmap(confusion_matrix(test_label, y_pred_nb_test), annot=True, cmap = 'viridis', fmt='.0f')\n",
    "plt.xlabel(\"Predicted values\", fontdict = {'size':14}, labelpad = 10)\n",
    "plt.ylabel(\"Actual values\"   , fontdict = {'size':14}, labelpad = 10)\n",
    "plt.title (\"Confusion Matrix\", fontdict = {'size':18}, pad = 20)\n",
    "plt.show()"
   ]
  },
  {
   "cell_type": "code",
   "execution_count": 102,
   "metadata": {},
   "outputs": [
    {
     "data": {
      "text/plain": [
       "Pipeline(steps=[('tfidf', TfidfVectorizer()),\n",
       "                ('model', MultinomialNB(alpha=0.0001))])"
      ]
     },
     "execution_count": 102,
     "metadata": {},
     "output_type": "execute_result"
    }
   ],
   "source": [
    "classifier_nb.best_estimator_"
   ]
  },
  {
   "cell_type": "code",
   "execution_count": 103,
   "metadata": {},
   "outputs": [
    {
     "name": "stdout",
     "output_type": "stream",
     "text": [
      "model__alpha: 0.0001\n",
      "tfidf__ngram_range: (1, 1)\n"
     ]
    }
   ],
   "source": [
    "for param_name in sorted(parameters_nb.keys()):\n",
    "    print(\"%s: %r\" % (param_name, classifier_nb.best_params_[param_name]))"
   ]
  },
  {
   "cell_type": "markdown",
   "metadata": {},
   "source": [
    "# Visualisasi"
   ]
  },
  {
   "cell_type": "code",
   "execution_count": 104,
   "metadata": {},
   "outputs": [],
   "source": [
    "models = [        \n",
    "          ('Naive Bayes Multinomial', accuracy_nb_train, accuracy_nb_test),\n",
    "         ]"
   ]
  },
  {
   "cell_type": "code",
   "execution_count": 105,
   "metadata": {},
   "outputs": [
    {
     "data": {
      "text/html": [
       "<div>\n",
       "<style scoped>\n",
       "    .dataframe tbody tr th:only-of-type {\n",
       "        vertical-align: middle;\n",
       "    }\n",
       "\n",
       "    .dataframe tbody tr th {\n",
       "        vertical-align: top;\n",
       "    }\n",
       "\n",
       "    .dataframe thead th {\n",
       "        text-align: right;\n",
       "    }\n",
       "</style>\n",
       "<table border=\"1\" class=\"dataframe\">\n",
       "  <thead>\n",
       "    <tr style=\"text-align: right;\">\n",
       "      <th></th>\n",
       "      <th>Model</th>\n",
       "      <th>Training Accuracy</th>\n",
       "      <th>Test Accuracy</th>\n",
       "    </tr>\n",
       "  </thead>\n",
       "  <tbody>\n",
       "    <tr>\n",
       "      <th>0</th>\n",
       "      <td>Naive Bayes Multinomial</td>\n",
       "      <td>1.0</td>\n",
       "      <td>1.0</td>\n",
       "    </tr>\n",
       "  </tbody>\n",
       "</table>\n",
       "</div>"
      ],
      "text/plain": [
       "                     Model  Training Accuracy  Test Accuracy\n",
       "0  Naive Bayes Multinomial                1.0            1.0"
      ]
     },
     "execution_count": 105,
     "metadata": {},
     "output_type": "execute_result"
    }
   ],
   "source": [
    "predict = pd.DataFrame(data = models, columns=['Model', 'Training Accuracy', 'Test Accuracy'])\n",
    "predict"
   ]
  },
  {
   "cell_type": "code",
   "execution_count": 106,
   "metadata": {},
   "outputs": [],
   "source": [
    "models_comparison = [                        \n",
    "                        ('Naive Bayes Multinomial', accuracy_nb_test, recall_nb_test, precision_nb_test, f1_nb_test)                      \n",
    "                    ]"
   ]
  },
  {
   "cell_type": "code",
   "execution_count": 107,
   "metadata": {},
   "outputs": [
    {
     "data": {
      "text/html": [
       "<div>\n",
       "<style scoped>\n",
       "    .dataframe tbody tr th:only-of-type {\n",
       "        vertical-align: middle;\n",
       "    }\n",
       "\n",
       "    .dataframe tbody tr th {\n",
       "        vertical-align: top;\n",
       "    }\n",
       "\n",
       "    .dataframe thead th {\n",
       "        text-align: right;\n",
       "    }\n",
       "</style>\n",
       "<table border=\"1\" class=\"dataframe\">\n",
       "  <thead>\n",
       "    <tr style=\"text-align: right;\">\n",
       "      <th></th>\n",
       "      <th>Model</th>\n",
       "      <th>Accuracy</th>\n",
       "      <th>Recall</th>\n",
       "      <th>Precision</th>\n",
       "      <th>F1 Weighted</th>\n",
       "    </tr>\n",
       "  </thead>\n",
       "  <tbody>\n",
       "    <tr>\n",
       "      <th>0</th>\n",
       "      <td>Naive Bayes Multinomial</td>\n",
       "      <td>1.0</td>\n",
       "      <td>1.0</td>\n",
       "      <td>1.0</td>\n",
       "      <td>1.0</td>\n",
       "    </tr>\n",
       "  </tbody>\n",
       "</table>\n",
       "</div>"
      ],
      "text/plain": [
       "                     Model  Accuracy  Recall  Precision  F1 Weighted\n",
       "0  Naive Bayes Multinomial       1.0     1.0        1.0          1.0"
      ]
     },
     "execution_count": 107,
     "metadata": {},
     "output_type": "execute_result"
    }
   ],
   "source": [
    "comparison = pd.DataFrame(data = models_comparison, columns=['Model', 'Accuracy', 'Recall', 'Precision', 'F1 Weighted'])\n",
    "comparison"
   ]
  },
  {
   "cell_type": "code",
   "execution_count": 108,
   "metadata": {},
   "outputs": [
    {
     "data": {
      "image/png": "[encoded data removed]",
      "text/plain": [
       "<Figure size 1008x720 with 2 Axes>"
      ]
     },
     "metadata": {
      "needs_background": "light"
     },
     "output_type": "display_data"
    }
   ],
   "source": [
    "import numpy as np\n",
    "\n",
    "f, axes = plt.subplots(2,1, figsize=(14,10))\n",
    "\n",
    "predict.sort_values(by=['Training Accuracy'], ascending=False, inplace=True)\n",
    "\n",
    "sns.barplot(x='Training Accuracy', y='Model', data = predict, palette='Blues_d', ax = axes[0])\n",
    "#axes[0].set(xlabel='Region', ylabel='Charges')\n",
    "axes[0].set_xlabel('Training Accuracy', size=16)\n",
    "axes[0].set_ylabel('Model')\n",
    "axes[0].set_xlim(0,1.0)\n",
    "axes[0].set_xticks(np.arange(0, 1.1, 0.1))\n",
    "\n",
    "predict.sort_values(by=['Test Accuracy'], ascending=False, inplace=True)\n",
    "\n",
    "sns.barplot(x='Test Accuracy', y='Model', data = predict, palette='Greens_d', ax = axes[1])\n",
    "#axes[0].set(xlabel='Region', ylabel='Charges')\n",
    "axes[1].set_xlabel('Test Accuracy', size=16)\n",
    "axes[1].set_ylabel('Model')\n",
    "axes[1].set_xlim(0,1.0)\n",
    "axes[1].set_xticks(np.arange(0, 1.1, 0.1))\n",
    "\n",
    "plt.show()"
   ]
  },
  {
   "cell_type": "markdown",
   "metadata": {},
   "source": [
    "# Kesimpulan:\n",
    "\n",
    "- Nilai data training dan testing memiliki akurasi yang tinggi dimana nilai akurasi data training dan testing sama-sama bernilai akurasi 1.0 . Data ini di dapatkan dari hasil pengujian menggunakan stemming dan stopword\n"
   ]
  }
 ],
 "metadata": {
  "kernelspec": {
   "display_name": "Python 3 (ipykernel)",
   "language": "python",
   "name": "python3"
  },
  "language_info": {
   "codemirror_mode": {
    "name": "ipython",
    "version": 3
   },
   "file_extension": ".py",
   "mimetype": "text/x-python",
   "name": "python",
   "nbconvert_exporter": "python",
   "pygments_lexer": "ipython3",
   "version": "3.9.12"
  }
 },
 "nbformat": 4,
 "nbformat_minor": 4
}
